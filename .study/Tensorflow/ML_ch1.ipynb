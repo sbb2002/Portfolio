{
  "nbformat": 4,
  "nbformat_minor": 0,
  "metadata": {
    "colab": {
      "name": "ML_ch1.ipynb",
      "provenance": [],
      "authorship_tag": "ABX9TyPcOVRcqXtQ1AdDA1UP3dSE",
      "include_colab_link": true
    },
    "kernelspec": {
      "name": "python3",
      "display_name": "Python 3"
    },
    "language_info": {
      "name": "python"
    }
  },
  "cells": [
    {
      "cell_type": "markdown",
      "metadata": {
        "id": "view-in-github",
        "colab_type": "text"
      },
      "source": [
        "<a href=\"https://colab.research.google.com/github/sbb2002/Portfolio/blob/main/.study/Tensorflow/ML_ch1.ipynb\" target=\"_parent\"><img src=\"https://colab.research.google.com/assets/colab-badge.svg\" alt=\"Open In Colab\"/></a>"
      ]
    },
    {
      "cell_type": "code",
      "metadata": {
        "colab": {
          "base_uri": "https://localhost:8080/"
        },
        "id": "SpdIDhXITgsK",
        "outputId": "30b283bf-dd55-40a5-9f98-44d03d32e3f7"
      },
      "source": [
        "import tensorflow.compat.v1 as tf\n",
        "tf.disable_v2_behavior()"
      ],
      "execution_count": null,
      "outputs": [
        {
          "output_type": "stream",
          "text": [
            "WARNING:tensorflow:From /usr/local/lib/python3.7/dist-packages/tensorflow/python/compat/v2_compat.py:96: disable_resource_variables (from tensorflow.python.ops.variable_scope) is deprecated and will be removed in a future version.\n",
            "Instructions for updating:\n",
            "non-resource variables are not supported in the long term\n"
          ],
          "name": "stdout"
        }
      ]
    },
    {
      "cell_type": "code",
      "metadata": {
        "colab": {
          "base_uri": "https://localhost:8080/"
        },
        "id": "FIx5TI31TpQz",
        "outputId": "0de9d969-b8ec-488a-9be8-92bd45cdb40a"
      },
      "source": [
        "hello = tf.constant(\"Hello, Tensorflow!\")\n",
        "\n",
        "sess = tf.Session()\n",
        "\n",
        "print(sess.run(hello))"
      ],
      "execution_count": null,
      "outputs": [
        {
          "output_type": "stream",
          "text": [
            "b'Hello, Tensorflow!'\n"
          ],
          "name": "stdout"
        }
      ]
    },
    {
      "cell_type": "markdown",
      "metadata": {
        "id": "mQMc2ThnUXfk"
      },
      "source": [
        "# **Computational Graph**"
      ]
    },
    {
      "cell_type": "markdown",
      "metadata": {
        "id": "yilVMQVqVaMD"
      },
      "source": [
        "**1. Build graph(tensor)**"
      ]
    },
    {
      "cell_type": "code",
      "metadata": {
        "id": "QX67XSFKT10R"
      },
      "source": [
        "node1 = tf.constant(3.0, tf.float32)\n",
        "node2 = tf.constant(4.0)\n",
        "node3 = tf.add(node1, node2)"
      ],
      "execution_count": null,
      "outputs": []
    },
    {
      "cell_type": "markdown",
      "metadata": {
        "id": "oNL1TGe_U2D6"
      },
      "source": [
        "print()를 하면 어떻게 될까?"
      ]
    },
    {
      "cell_type": "code",
      "metadata": {
        "colab": {
          "base_uri": "https://localhost:8080/"
        },
        "id": "byUbGTpkUn0e",
        "outputId": "ee1fbcb2-f0f8-4522-fe86-a5e0814cc40d"
      },
      "source": [
        "print(node1)"
      ],
      "execution_count": null,
      "outputs": [
        {
          "output_type": "stream",
          "text": [
            "Tensor(\"Const_1:0\", shape=(), dtype=float32)\n"
          ],
          "name": "stdout"
        }
      ]
    },
    {
      "cell_type": "code",
      "metadata": {
        "colab": {
          "base_uri": "https://localhost:8080/"
        },
        "id": "imI-o323Uq6O",
        "outputId": "c871b0ad-713b-4865-d365-3879bac826f9"
      },
      "source": [
        "print(node2)"
      ],
      "execution_count": null,
      "outputs": [
        {
          "output_type": "stream",
          "text": [
            "Tensor(\"Const_2:0\", shape=(), dtype=float32)\n"
          ],
          "name": "stdout"
        }
      ]
    },
    {
      "cell_type": "code",
      "metadata": {
        "colab": {
          "base_uri": "https://localhost:8080/"
        },
        "id": "IZXBD20vUvdG",
        "outputId": "f48f0acf-ecc1-4c86-816b-b719dbbb7778"
      },
      "source": [
        "print(node3)"
      ],
      "execution_count": null,
      "outputs": [
        {
          "output_type": "stream",
          "text": [
            "Tensor(\"Add:0\", shape=(), dtype=float32)\n"
          ],
          "name": "stdout"
        }
      ]
    },
    {
      "cell_type": "markdown",
      "metadata": {
        "id": "bSB7WWGcU5Lq"
      },
      "source": [
        "이것들이 tensor라고 말할 뿐 결과값을 출력하진 않는다. 결과값을 얻고싶다면 노드를 실행시켜서 얻는다."
      ]
    },
    {
      "cell_type": "markdown",
      "metadata": {
        "id": "7HaZNRzdVg9k"
      },
      "source": [
        "**2. Feed data and run graph(operation)**"
      ]
    },
    {
      "cell_type": "code",
      "metadata": {
        "id": "JP6VRab0UwT4"
      },
      "source": [
        "sess = tf.Session()"
      ],
      "execution_count": null,
      "outputs": []
    },
    {
      "cell_type": "code",
      "metadata": {
        "colab": {
          "base_uri": "https://localhost:8080/"
        },
        "id": "MPLngSE5VFjF",
        "outputId": "b2b79e6f-e629-4700-f813-deda94eda131"
      },
      "source": [
        "print(sess.run([node1, node2]))"
      ],
      "execution_count": null,
      "outputs": [
        {
          "output_type": "stream",
          "text": [
            "[3.0, 4.0]\n"
          ],
          "name": "stdout"
        }
      ]
    },
    {
      "cell_type": "code",
      "metadata": {
        "colab": {
          "base_uri": "https://localhost:8080/"
        },
        "id": "d0ow5wM7VJKj",
        "outputId": "add11965-53d4-4a1f-ac4b-f2387f9a7978"
      },
      "source": [
        "print(sess.run(node3))"
      ],
      "execution_count": null,
      "outputs": [
        {
          "output_type": "stream",
          "text": [
            "7.0\n"
          ],
          "name": "stdout"
        }
      ]
    },
    {
      "cell_type": "markdown",
      "metadata": {
        "id": "LPv_ygV_VuUG"
      },
      "source": [
        "# **Placeholder**"
      ]
    },
    {
      "cell_type": "code",
      "metadata": {
        "id": "Pv6HyY_BVxSp"
      },
      "source": [
        "a = tf.placeholder(tf.float32)\n",
        "b = tf.placeholder(tf.float32)\n",
        "adder_node = a + b"
      ],
      "execution_count": null,
      "outputs": []
    },
    {
      "cell_type": "code",
      "metadata": {
        "colab": {
          "base_uri": "https://localhost:8080/"
        },
        "id": "nJVOZJhOWm9_",
        "outputId": "b90c0a61-3f2b-4f30-c9f4-f9f26e116bc0"
      },
      "source": [
        "print(sess.run(adder_node, feed_dict={a: 3, b: 4.5}))"
      ],
      "execution_count": null,
      "outputs": [
        {
          "output_type": "stream",
          "text": [
            "7.5\n"
          ],
          "name": "stdout"
        }
      ]
    },
    {
      "cell_type": "code",
      "metadata": {
        "colab": {
          "base_uri": "https://localhost:8080/"
        },
        "id": "pHbYD9HiWwh1",
        "outputId": "0f9511d9-e722-404b-c998-35036b26a55f"
      },
      "source": [
        "print(sess.run(adder_node, feed_dict={a: [1,3], b: [2,4]}))"
      ],
      "execution_count": null,
      "outputs": [
        {
          "output_type": "stream",
          "text": [
            "[3. 7.]\n"
          ],
          "name": "stdout"
        }
      ]
    },
    {
      "cell_type": "markdown",
      "metadata": {
        "id": "hwsZMp80W3cI"
      },
      "source": [
        "graph 설계할 때 placeholder를 쓰면 입력값을 받아 node의 흐름에 따라 그에 맞는 출력값을 낸다."
      ]
    },
    {
      "cell_type": "markdown",
      "metadata": {
        "id": "JIR4KdvrXaPR"
      },
      "source": [
        ""
      ]
    },
    {
      "cell_type": "code",
      "metadata": {
        "id": "DMH1TPtYW1C8"
      },
      "source": [
        ""
      ],
      "execution_count": null,
      "outputs": []
    }
  ]
}
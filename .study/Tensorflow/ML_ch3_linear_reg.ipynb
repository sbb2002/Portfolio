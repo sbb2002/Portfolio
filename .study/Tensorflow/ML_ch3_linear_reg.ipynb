{
  "nbformat": 4,
  "nbformat_minor": 0,
  "metadata": {
    "colab": {
      "name": "ML_ch3.ipynb",
      "provenance": [],
      "collapsed_sections": [],
      "authorship_tag": "ABX9TyMRs6LKvq2vyNv71mFSy13v",
      "include_colab_link": true
    },
    "kernelspec": {
      "name": "python3",
      "display_name": "Python 3"
    },
    "language_info": {
      "name": "python"
    }
  },
  "cells": [
    {
      "cell_type": "markdown",
      "metadata": {
        "id": "view-in-github",
        "colab_type": "text"
      },
      "source": [
        "<a href=\"https://colab.research.google.com/github/sbb2002/Portfolio/blob/main/.study/Tensorflow/ML_ch3_linear_reg.ipynb\" target=\"_parent\"><img src=\"https://colab.research.google.com/assets/colab-badge.svg\" alt=\"Open In Colab\"/></a>"
      ]
    },
    {
      "cell_type": "code",
      "metadata": {
        "colab": {
          "base_uri": "https://localhost:8080/"
        },
        "id": "fobohLhlROk8",
        "outputId": "68ac0332-a37e-4395-8f17-0104c4f952ee"
      },
      "source": [
        "import tensorflow.compat.v1 as tf\n",
        "tf.disable_v2_behavior()\n",
        "import matplotlib.pyplot as plt"
      ],
      "execution_count": null,
      "outputs": [
        {
          "output_type": "stream",
          "text": [
            "WARNING:tensorflow:From /usr/local/lib/python3.7/dist-packages/tensorflow/python/compat/v2_compat.py:96: disable_resource_variables (from tensorflow.python.ops.variable_scope) is deprecated and will be removed in a future version.\n",
            "Instructions for updating:\n",
            "non-resource variables are not supported in the long term\n"
          ],
          "name": "stdout"
        }
      ]
    },
    {
      "cell_type": "markdown",
      "metadata": {
        "id": "-kEmUwrRkQjN"
      },
      "source": [
        "# **Linear regression 에서의 cost 최소화를 위한 tf 구현**"
      ]
    },
    {
      "cell_type": "markdown",
      "metadata": {
        "id": "3AOYtoJpSt-z"
      },
      "source": [
        "> cost(loss) = sum( ( H(x) - y ) ^ 2 ) / m\n",
        "\n",
        "를 미분할건데, 편안한 미분이 되기 위해서 \n",
        "\n",
        "> m --> 2m\n",
        "\n",
        "> H(x) = W * x ; simplified hypothesis\n",
        "\n",
        " 으로 바꾼다.\n",
        "\n",
        " 그리고 cost를 W에 대해 편미분한다.\n",
        "\n",
        " > [식 1] d(cost) / dW = x * sum( ( W*x - y ) ) / m\n",
        "\n",
        " > [식 2] W:= W - α * d(cost)/dW ; ***cf. := means \"return\", using *.assign(~)***\n",
        "\n",
        " [식 1]을 [식 2]에 대입하여 다음 식을 얻는다.\n",
        "\n",
        "> W:= W - α * x * sum( ( W*x - y ) ) / m\n",
        "\n",
        "이제 tensorflow로 구현해보자.\n",
        "\n",
        "\n",
        "\n",
        "---\n",
        "\n",
        "\n"
      ]
    },
    {
      "cell_type": "code",
      "metadata": {
        "id": "Uy9kBRDPZ4kQ"
      },
      "source": [
        "# Define the hypothesis\n",
        "X = [1,2,3]\n",
        "Y = [1,2,3]\n",
        "\n",
        "W = tf.placeholder(tf.float32)\n",
        "\n",
        "hypothesis = X * W\n",
        "\n",
        "cost = tf.reduce_mean(tf.square(hypothesis - Y))"
      ],
      "execution_count": null,
      "outputs": []
    },
    {
      "cell_type": "code",
      "metadata": {
        "id": "lNB9d9V2aOy8"
      },
      "source": [
        "# Launch the graph in a session\n",
        "sess = tf.Session()"
      ],
      "execution_count": null,
      "outputs": []
    },
    {
      "cell_type": "code",
      "metadata": {
        "id": "0xKaaj2AaYRV"
      },
      "source": [
        "# Initialize global variables in the graph\n",
        "sess.run(tf.global_variables_initializer())"
      ],
      "execution_count": null,
      "outputs": []
    },
    {
      "cell_type": "code",
      "metadata": {
        "id": "LfdCsmjMaYse"
      },
      "source": [
        "# Variables for plotting cost function\n",
        "W_val = []\n",
        "cost_val = []\n",
        "for i in range(-30, 50):\n",
        "  feed_W = i * 0.1  # alpha. It is also called \"learning rate\".\n",
        "  curr_cost, curr_W = sess.run([cost, W], feed_dict={W: feed_W})\n",
        "  W_val.append(curr_W)\n",
        "  cost_val.append(curr_cost)"
      ],
      "execution_count": null,
      "outputs": []
    },
    {
      "cell_type": "code",
      "metadata": {
        "colab": {
          "base_uri": "https://localhost:8080/",
          "height": 265
        },
        "id": "dmjDWDOsaze7",
        "outputId": "18363eeb-d9b7-4197-d18e-357e34540523"
      },
      "source": [
        "# Show the cost function\n",
        "plt.plot(W_val, cost_val)\n",
        "plt.show()"
      ],
      "execution_count": null,
      "outputs": [
        {
          "output_type": "display_data",
          "data": {
            "image/png": "[encoded data removed]",
            "text/plain": [
              "<Figure size 432x288 with 1 Axes>"
            ]
          },
          "metadata": {
            "tags": [],
            "needs_background": "light"
          }
        }
      ]
    },
    {
      "cell_type": "markdown",
      "metadata": {
        "id": "TK7TzueAePmj"
      },
      "source": [
        "\n",
        "\n",
        "---\n",
        "\n",
        "Full code 를 보자."
      ]
    },
    {
      "cell_type": "code",
      "metadata": {
        "id": "rXrLDUY5a4xM"
      },
      "source": [
        "x_data = [1,2,3]\n",
        "y_data = [1,2,3]\n",
        "\n",
        "W = tf.Variable(tf.random_normal([1]), name='weight')\n",
        "\n",
        "X = tf.placeholder(tf.float32)\n",
        "Y = tf.placeholder(tf.float32)\n",
        "\n",
        "# The hypothesis\n",
        "hypothesis = X * W\n",
        "\n",
        "# cost function\n",
        "cost = tf.reduce_sum(tf.square(hypothesis - Y))\n"
      ],
      "execution_count": null,
      "outputs": []
    },
    {
      "cell_type": "code",
      "metadata": {
        "id": "BsJMu0KcesXK"
      },
      "source": [
        "# Minimize: Gradient Descent using derivation: W -= learning_rate * derivative\n",
        "learning_rate = 0.1\n",
        "gradient = tf.reduce_mean((W * X - Y) * X)\n",
        "descent = W - learning_rate * gradient\n",
        "update = W.assign(descent)\n"
      ],
      "execution_count": null,
      "outputs": []
    },
    {
      "cell_type": "code",
      "metadata": {
        "id": "64gS_FY6fMFz"
      },
      "source": [
        "# Launch the graph in a session\n",
        "sess = tf.Session()"
      ],
      "execution_count": null,
      "outputs": []
    },
    {
      "cell_type": "code",
      "metadata": {
        "colab": {
          "base_uri": "https://localhost:8080/"
        },
        "id": "o1V9LMb4fS1h",
        "outputId": "26e65f28-34c8-408d-bcdd-36aaaabeafd4"
      },
      "source": [
        "# Inintialize global variables in the graph \n",
        "sess.run(tf.global_variables_initializer())\n",
        "\n",
        "# Minimize: Gradient Descent using derivation \n",
        "for step in range(21):\n",
        "  sess.run(update, feed_dict={X: x_data, Y: y_data})\n",
        "  print(step, sess.run(cost, feed_dict={X: x_data, Y: y_data}), sess.run(W))\n"
      ],
      "execution_count": null,
      "outputs": [
        {
          "output_type": "stream",
          "text": [
            "0 2.1312714 [1.3901713]\n",
            "1 0.6062285 [1.2080914]\n",
            "2 0.17243832 [1.1109821]\n",
            "3 0.04904908 [1.0591904]\n",
            "4 0.013951714 [1.0315682]\n",
            "5 0.0039685033 [1.0168364]\n",
            "6 0.0011288312 [1.0089794]\n",
            "7 0.00032108603 [1.004789]\n",
            "8 9.133357e-05 [1.0025542]\n",
            "9 2.5977442e-05 [1.0013622]\n",
            "10 7.3884466e-06 [1.0007265]\n",
            "11 2.10143e-06 [1.0003874]\n",
            "12 5.97658e-07 [1.0002066]\n",
            "13 1.6986041e-07 [1.0001101]\n",
            "14 4.8397126e-08 [1.0000588]\n",
            "15 1.3738898e-08 [1.0000314]\n",
            "16 3.8994585e-09 [1.0000167]\n",
            "17 1.1127241e-09 [1.000009]\n",
            "18 3.1832315e-10 [1.0000048]\n",
            "19 8.9542596e-11 [1.0000025]\n",
            "20 2.3149482e-11 [1.0000013]\n"
          ],
          "name": "stdout"
        }
      ]
    },
    {
      "cell_type": "markdown",
      "metadata": {
        "id": "9QwUK7m-iHUy"
      },
      "source": [
        "\n",
        "\n",
        "---\n",
        "\n",
        "Minimize는 tf에서 제공하는 메소드로 간결하게 사용할 수도 있다.\n",
        "\n",
        "밑에서 W=5 인 wrong model의 예시에서 이 간결한 방법을 사용해본다.\n"
      ]
    },
    {
      "cell_type": "code",
      "metadata": {
        "id": "GFSMxmNEfrJv"
      },
      "source": [
        "# tf Graph input\n",
        "X = [1,2,3]\n",
        "Y = [1,2,3]\n",
        "\n",
        "# Set wrong model weights\n",
        "W = tf.Variable(5.0)\n",
        "\n",
        "# Linear model\n",
        "hypothesis = X * W\n",
        "\n",
        "# Cost function\n",
        "cost = tf.reduce_mean(tf.square(hypothesis - Y))\n"
      ],
      "execution_count": null,
      "outputs": []
    },
    {
      "cell_type": "code",
      "metadata": {
        "id": "juZHCw3_jHgL"
      },
      "source": [
        "# Minimize: Gradient Descent Magic\n",
        "optimizer = tf.train.GradientDescentOptimizer(learning_rate=0.1)\n",
        "train = optimizer.minimize(cost)"
      ],
      "execution_count": null,
      "outputs": []
    },
    {
      "cell_type": "code",
      "metadata": {
        "id": "GuHQ52E0jH-x"
      },
      "source": [
        "# Launch the graph in a session\n",
        "sess = tf.Session()"
      ],
      "execution_count": null,
      "outputs": []
    },
    {
      "cell_type": "code",
      "metadata": {
        "id": "fIW2JawyjLqZ"
      },
      "source": [
        "# Initialize global variables in the graph\n",
        "sess.run(tf.global_variables_initializer())"
      ],
      "execution_count": null,
      "outputs": []
    },
    {
      "cell_type": "code",
      "metadata": {
        "colab": {
          "base_uri": "https://localhost:8080/"
        },
        "id": "Xj8YmfV6jRzp",
        "outputId": "8b7675f6-8c2e-4fa8-c806-67e751757ab2"
      },
      "source": [
        "for step in range(100):\n",
        "  print(step, sess.run(W))\n",
        "  sess.run(train)"
      ],
      "execution_count": null,
      "outputs": [
        {
          "output_type": "stream",
          "text": [
            "0 5.0\n",
            "1 1.2666664\n",
            "2 1.0177778\n",
            "3 1.0011852\n",
            "4 1.000079\n",
            "5 1.0000052\n",
            "6 1.0000004\n",
            "7 1.0\n",
            "8 1.0\n",
            "9 1.0\n",
            "10 1.0\n",
            "11 1.0\n",
            "12 1.0\n",
            "13 1.0\n",
            "14 1.0\n",
            "15 1.0\n",
            "16 1.0\n",
            "17 1.0\n",
            "18 1.0\n",
            "19 1.0\n",
            "20 1.0\n",
            "21 1.0\n",
            "22 1.0\n",
            "23 1.0\n",
            "24 1.0\n",
            "25 1.0\n",
            "26 1.0\n",
            "27 1.0\n",
            "28 1.0\n",
            "29 1.0\n",
            "30 1.0\n",
            "31 1.0\n",
            "32 1.0\n",
            "33 1.0\n",
            "34 1.0\n",
            "35 1.0\n",
            "36 1.0\n",
            "37 1.0\n",
            "38 1.0\n",
            "39 1.0\n",
            "40 1.0\n",
            "41 1.0\n",
            "42 1.0\n",
            "43 1.0\n",
            "44 1.0\n",
            "45 1.0\n",
            "46 1.0\n",
            "47 1.0\n",
            "48 1.0\n",
            "49 1.0\n",
            "50 1.0\n",
            "51 1.0\n",
            "52 1.0\n",
            "53 1.0\n",
            "54 1.0\n",
            "55 1.0\n",
            "56 1.0\n",
            "57 1.0\n",
            "58 1.0\n",
            "59 1.0\n",
            "60 1.0\n",
            "61 1.0\n",
            "62 1.0\n",
            "63 1.0\n",
            "64 1.0\n",
            "65 1.0\n",
            "66 1.0\n",
            "67 1.0\n",
            "68 1.0\n",
            "69 1.0\n",
            "70 1.0\n",
            "71 1.0\n",
            "72 1.0\n",
            "73 1.0\n",
            "74 1.0\n",
            "75 1.0\n",
            "76 1.0\n",
            "77 1.0\n",
            "78 1.0\n",
            "79 1.0\n",
            "80 1.0\n",
            "81 1.0\n",
            "82 1.0\n",
            "83 1.0\n",
            "84 1.0\n",
            "85 1.0\n",
            "86 1.0\n",
            "87 1.0\n",
            "88 1.0\n",
            "89 1.0\n",
            "90 1.0\n",
            "91 1.0\n",
            "92 1.0\n",
            "93 1.0\n",
            "94 1.0\n",
            "95 1.0\n",
            "96 1.0\n",
            "97 1.0\n",
            "98 1.0\n",
            "99 1.0\n"
          ],
          "name": "stdout"
        }
      ]
    },
    {
      "cell_type": "markdown",
      "metadata": {
        "id": "ndUiGhmcjtXb"
      },
      "source": [
        "W=5 라는 터무니없는 시작점에서도 결국 cost가 minimize되는 W-->1 까지 잘 내려간다.\n",
        "\n",
        "\n",
        "\n",
        "---\n",
        "\n"
      ]
    },
    {
      "cell_type": "markdown",
      "metadata": {
        "id": "6knZ6jkTkG1H"
      },
      "source": [
        "# **Optional: compute_gradient and apply_gradient**"
      ]
    },
    {
      "cell_type": "markdown",
      "metadata": {
        "id": "OcyQ8JapmsJm"
      },
      "source": [
        "optimizer가 계산한 미분값을 수동으로 조정할 때 쓰는 코드이다. 다만, 여러번 실행될 때 다음과 같은 이슈가 발생한다.\n",
        "\n",
        "> TypeError: Fetch argument None has invalid type <class 'NoneType'>\n",
        "\n",
        "이 이슈의 원인은 아래 사이트에서 참조할 수 있었다.\n",
        "\n",
        "> https://my-box.tistory.com/7\n",
        "\n",
        "이슈의 해결책은 gvs를 print하지 않고 run하면 된다."
      ]
    },
    {
      "cell_type": "code",
      "metadata": {
        "id": "D4yXR42VjzO-"
      },
      "source": [
        "X = [1,2,3]\n",
        "Y = [1,2,3]\n",
        "\n",
        "W = tf.Variable(5.)\n",
        "\n",
        "# The hypothesis\n",
        "hypothesis = X * W\n",
        "\n",
        "# Manual gradient\n",
        "gradient = tf.reduce_mean((W*X - Y) * X) * 2\n",
        "\n",
        "# cost function\n",
        "cost = tf.reduce_mean(tf.square(hypothesis - Y))\n",
        "optimizer = tf.train.GradientDescentOptimizer(learning_rate=0.1)\n",
        "\n",
        "### 여기까진 동일 ###"
      ],
      "execution_count": null,
      "outputs": []
    },
    {
      "cell_type": "code",
      "metadata": {
        "colab": {
          "base_uri": "https://localhost:8080/"
        },
        "id": "3fX51LhmkoAt",
        "outputId": "f5f16a2f-b716-46c6-c487-61eb5e4d3137"
      },
      "source": [
        "# Get gradients\n",
        "gvs = optimizer.compute_gradients(cost)\n",
        "\n",
        "# Issue: gvs의 튜플 1열에서 None이 있어서 run할 경우 에러발생.\n",
        "for i in range(len(gvs)):\n",
        "  print(\"element-{} of gvs:\".format(i+1), gvs[i])\n",
        "print(len(gvs))\n",
        "print(type(gvs))"
      ],
      "execution_count": null,
      "outputs": [
        {
          "output_type": "stream",
          "text": [
            "element-1 of gvs: (None, <tf.Variable 'weight:0' shape=(1,) dtype=float32_ref>)\n",
            "element-2 of gvs: (None, <tf.Variable 'weight_1:0' shape=(1,) dtype=float32_ref>)\n",
            "element-3 of gvs: (None, <tf.Variable 'weight_2:0' shape=(1,) dtype=float32_ref>)\n",
            "element-4 of gvs: (None, <tf.Variable 'Variable:0' shape=() dtype=float32_ref>)\n",
            "element-5 of gvs: (None, <tf.Variable 'weight_3:0' shape=(1,) dtype=float32_ref>)\n",
            "element-6 of gvs: (None, <tf.Variable 'Variable_1:0' shape=() dtype=float32_ref>)\n",
            "element-7 of gvs: (None, <tf.Variable 'weight_4:0' shape=(1,) dtype=float32_ref>)\n",
            "element-8 of gvs: (None, <tf.Variable 'weight_5:0' shape=(1,) dtype=float32_ref>)\n",
            "element-9 of gvs: (None, <tf.Variable 'weight_6:0' shape=(1,) dtype=float32_ref>)\n",
            "element-10 of gvs: (None, <tf.Variable 'Variable_2:0' shape=() dtype=float32_ref>)\n",
            "element-11 of gvs: (None, <tf.Variable 'Variable_3:0' shape=() dtype=float32_ref>)\n",
            "element-12 of gvs: (None, <tf.Variable 'Variable_4:0' shape=() dtype=float32_ref>)\n",
            "element-13 of gvs: (<tf.Tensor 'gradients_16/mul_35_grad/tuple/control_dependency_1:0' shape=() dtype=float32>, <tf.Variable 'Variable_5:0' shape=() dtype=float32_ref>)\n",
            "13\n",
            "<class 'list'>\n"
          ],
          "name": "stdout"
        }
      ]
    },
    {
      "cell_type": "code",
      "metadata": {
        "id": "PUQq39CVkvCy"
      },
      "source": [
        "### gvs값을 알맞게 수정한 후... ###"
      ],
      "execution_count": null,
      "outputs": []
    },
    {
      "cell_type": "code",
      "metadata": {
        "id": "CpzNObTtlBRw"
      },
      "source": [
        "# Apply gradients\n",
        "apply_gradients = optimizer.apply_gradients(gvs)"
      ],
      "execution_count": null,
      "outputs": []
    },
    {
      "cell_type": "code",
      "metadata": {
        "colab": {
          "base_uri": "https://localhost:8080/"
        },
        "id": "H-pi-x45k-ZS",
        "outputId": "5ebeef15-7c9e-4dc5-f768-d715b460cffc"
      },
      "source": [
        "# Launch the graph in a session\n",
        "sess = tf.Session()\n",
        "sess.run(tf.global_variables_initializer())\n",
        "\n",
        "for step in range(100):\n",
        "  print(step, sess.run([gradient, W]))\n",
        "  sess.run(apply_gradients)"
      ],
      "execution_count": null,
      "outputs": [
        {
          "output_type": "stream",
          "text": [
            "0 [37.333332, 5.0]\n",
            "1 [2.4888866, 1.2666664]\n",
            "2 [0.1659259, 1.0177778]\n",
            "3 [0.011061668, 1.0011852]\n",
            "4 [0.00073742867, 1.000079]\n",
            "5 [4.895528e-05, 1.0000052]\n",
            "6 [3.0994415e-06, 1.0000004]\n",
            "7 [0.0, 1.0]\n",
            "8 [0.0, 1.0]\n",
            "9 [0.0, 1.0]\n",
            "10 [0.0, 1.0]\n",
            "11 [0.0, 1.0]\n",
            "12 [0.0, 1.0]\n",
            "13 [0.0, 1.0]\n",
            "14 [0.0, 1.0]\n",
            "15 [0.0, 1.0]\n",
            "16 [0.0, 1.0]\n",
            "17 [0.0, 1.0]\n",
            "18 [0.0, 1.0]\n",
            "19 [0.0, 1.0]\n",
            "20 [0.0, 1.0]\n",
            "21 [0.0, 1.0]\n",
            "22 [0.0, 1.0]\n",
            "23 [0.0, 1.0]\n",
            "24 [0.0, 1.0]\n",
            "25 [0.0, 1.0]\n",
            "26 [0.0, 1.0]\n",
            "27 [0.0, 1.0]\n",
            "28 [0.0, 1.0]\n",
            "29 [0.0, 1.0]\n",
            "30 [0.0, 1.0]\n",
            "31 [0.0, 1.0]\n",
            "32 [0.0, 1.0]\n",
            "33 [0.0, 1.0]\n",
            "34 [0.0, 1.0]\n",
            "35 [0.0, 1.0]\n",
            "36 [0.0, 1.0]\n",
            "37 [0.0, 1.0]\n",
            "38 [0.0, 1.0]\n",
            "39 [0.0, 1.0]\n",
            "40 [0.0, 1.0]\n",
            "41 [0.0, 1.0]\n",
            "42 [0.0, 1.0]\n",
            "43 [0.0, 1.0]\n",
            "44 [0.0, 1.0]\n",
            "45 [0.0, 1.0]\n",
            "46 [0.0, 1.0]\n",
            "47 [0.0, 1.0]\n",
            "48 [0.0, 1.0]\n",
            "49 [0.0, 1.0]\n",
            "50 [0.0, 1.0]\n",
            "51 [0.0, 1.0]\n",
            "52 [0.0, 1.0]\n",
            "53 [0.0, 1.0]\n",
            "54 [0.0, 1.0]\n",
            "55 [0.0, 1.0]\n",
            "56 [0.0, 1.0]\n",
            "57 [0.0, 1.0]\n",
            "58 [0.0, 1.0]\n",
            "59 [0.0, 1.0]\n",
            "60 [0.0, 1.0]\n",
            "61 [0.0, 1.0]\n",
            "62 [0.0, 1.0]\n",
            "63 [0.0, 1.0]\n",
            "64 [0.0, 1.0]\n",
            "65 [0.0, 1.0]\n",
            "66 [0.0, 1.0]\n",
            "67 [0.0, 1.0]\n",
            "68 [0.0, 1.0]\n",
            "69 [0.0, 1.0]\n",
            "70 [0.0, 1.0]\n",
            "71 [0.0, 1.0]\n",
            "72 [0.0, 1.0]\n",
            "73 [0.0, 1.0]\n",
            "74 [0.0, 1.0]\n",
            "75 [0.0, 1.0]\n",
            "76 [0.0, 1.0]\n",
            "77 [0.0, 1.0]\n",
            "78 [0.0, 1.0]\n",
            "79 [0.0, 1.0]\n",
            "80 [0.0, 1.0]\n",
            "81 [0.0, 1.0]\n",
            "82 [0.0, 1.0]\n",
            "83 [0.0, 1.0]\n",
            "84 [0.0, 1.0]\n",
            "85 [0.0, 1.0]\n",
            "86 [0.0, 1.0]\n",
            "87 [0.0, 1.0]\n",
            "88 [0.0, 1.0]\n",
            "89 [0.0, 1.0]\n",
            "90 [0.0, 1.0]\n",
            "91 [0.0, 1.0]\n",
            "92 [0.0, 1.0]\n",
            "93 [0.0, 1.0]\n",
            "94 [0.0, 1.0]\n",
            "95 [0.0, 1.0]\n",
            "96 [0.0, 1.0]\n",
            "97 [0.0, 1.0]\n",
            "98 [0.0, 1.0]\n",
            "99 [0.0, 1.0]\n"
          ],
          "name": "stdout"
        }
      ]
    }
  ]
}
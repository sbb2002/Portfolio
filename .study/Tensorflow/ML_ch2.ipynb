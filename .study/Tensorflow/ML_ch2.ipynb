{
  "nbformat": 4,
  "nbformat_minor": 0,
  "metadata": {
    "colab": {
      "name": "ML_ch2.ipynb",
      "provenance": [],
      "collapsed_sections": [],
      "authorship_tag": "ABX9TyPo8SLVkHSMJRsf0gq6F8l8",
      "include_colab_link": true
    },
    "kernelspec": {
      "name": "python3",
      "display_name": "Python 3"
    },
    "language_info": {
      "name": "python"
    }
  },
  "cells": [
    {
      "cell_type": "markdown",
      "metadata": {
        "id": "view-in-github",
        "colab_type": "text"
      },
      "source": [
        "<a href=\"https://colab.research.google.com/github/sbb2002/Portfolio/blob/main/.study/Tensorflow/ML_ch2.ipynb\" target=\"_parent\"><img src=\"https://colab.research.google.com/assets/colab-badge.svg\" alt=\"Open In Colab\"/></a>"
      ]
    },
    {
      "cell_type": "code",
      "metadata": {
        "id": "y9Qv81kEYV7_"
      },
      "source": [
        "import tensorflow.compat.v1 as tf\n",
        "tf.disable_v2_behavior()"
      ],
      "execution_count": null,
      "outputs": []
    },
    {
      "cell_type": "markdown",
      "metadata": {
        "id": "UF0FTNnoYdUE"
      },
      "source": [
        "# **Hypothesis**"
      ]
    },
    {
      "cell_type": "markdown",
      "metadata": {
        "id": "qTwvIkIEal-d"
      },
      "source": [
        "H(x) = W * x + b\n",
        "\n",
        "> W: 가중치\n",
        "\n",
        "> b: bias\n",
        "\n",
        "cost(loss) = sum( ( H(x) - y ) ^ 2 ) / m\n",
        "\n",
        "\n",
        "> y: 실제 데이터값\n",
        "\n",
        "> m: 평균\n",
        "\n",
        "\n",
        "***Goal: minimize cost(W,b)***\n",
        "\n",
        "\n",
        "---\n",
        "\n"
      ]
    },
    {
      "cell_type": "markdown",
      "metadata": {
        "id": "-ruJ0M6UdQY2"
      },
      "source": [
        "**### 1. Build graph**"
      ]
    },
    {
      "cell_type": "code",
      "metadata": {
        "id": "Btk47CZ_YbAv"
      },
      "source": [
        "# X, Y data\n",
        "# x_train = [1,2,3]\n",
        "# y_train = [1,2,3]\n",
        "# 이제는 placeholder를 통해 데이터를 주자.\n",
        "X = tf.placeholder(tf.float32)\n",
        "Y = tf.placeholder(tf.float32)\n",
        "\n",
        "W = tf.Variable(tf.random_normal([1]), name='weight')\n",
        "b = tf.Variable(tf.random_normal([1]), name='bias')\n",
        "\n",
        "# Hypothesis\n",
        "hypothesis = X * W + b"
      ],
      "execution_count": null,
      "outputs": []
    },
    {
      "cell_type": "code",
      "metadata": {
        "id": "7oOWGCp1cxVm"
      },
      "source": [
        "# cost[loss] function\n",
        "cost = tf.reduce_mean(tf.square(hypothesis - Y))"
      ],
      "execution_count": null,
      "outputs": []
    },
    {
      "cell_type": "code",
      "metadata": {
        "id": "ld0tahIGdJFb"
      },
      "source": [
        "# GradientDescent (minimize)\n",
        "optimizer = tf.train.GradientDescentOptimizer(learning_rate=0.01)\n",
        "train = optimizer.minimize(cost)"
      ],
      "execution_count": null,
      "outputs": []
    },
    {
      "cell_type": "markdown",
      "metadata": {
        "id": "CDD072JMdlcp"
      },
      "source": [
        "**### 2. Run/update graph**"
      ]
    },
    {
      "cell_type": "code",
      "metadata": {
        "id": "YysxX88VdkE5"
      },
      "source": [
        "sess = tf.Session()"
      ],
      "execution_count": null,
      "outputs": []
    },
    {
      "cell_type": "code",
      "metadata": {
        "id": "XFMAYtCods3g"
      },
      "source": [
        "sess.run(tf.global_variables_initializer())"
      ],
      "execution_count": null,
      "outputs": []
    },
    {
      "cell_type": "code",
      "metadata": {
        "colab": {
          "base_uri": "https://localhost:8080/"
        },
        "id": "3DKNcAtJd3Ev",
        "outputId": "6df11766-18f1-44ad-c970-d212d6d6a686"
      },
      "source": [
        "print(\"step\\tcost\\tweight\\tbias\")\n",
        "for step in range(2001):\n",
        "  cost_val, W_val, b_val, _ = \\\n",
        "    sess.run([cost, W, b, train],\n",
        "             feed_dict={X: [1,2,3,4,5], Y: [2.1, 3.1, 4.1, 5.1, 6.1]})\n",
        "  if step % 20 == 0:\n",
        "    print(step, \"\\t\", cost_val, \"\\t\", W_val, \"\\t\", b_val)"
      ],
      "execution_count": null,
      "outputs": [
        {
          "output_type": "stream",
          "text": [
            "step\tcost\tweight\tbias\n",
            "0 \t 1.6098045 \t [0.6139065] \t [1.4498754]\n",
            "20 \t 0.0288394 \t [0.8889679] \t [1.4961456]\n",
            "40 \t 0.025157511 \t [0.89736766] \t [1.470514]\n",
            "60 \t 0.021970257 \t [0.9040942] \t [1.4462502]\n",
            "80 \t 0.01918682 \t [0.9103751] \t [1.4235742]\n",
            "100 \t 0.016755983 \t [0.9162447] \t [1.4023831]\n",
            "120 \t 0.014633134 \t [0.9217299] \t [1.3825797]\n",
            "140 \t 0.012779249 \t [0.9268558] \t [1.3640736]\n",
            "160 \t 0.011160187 \t [0.9316461] \t [1.346779]\n",
            "180 \t 0.009746285 \t [0.93612266] \t [1.3306174]\n",
            "200 \t 0.008511483 \t [0.94030607] \t [1.3155138]\n",
            "220 \t 0.0074331216 \t [0.9442156] \t [1.3013996]\n",
            "240 \t 0.0064914166 \t [0.9478688] \t [1.2882099]\n",
            "260 \t 0.005669005 \t [0.951283] \t [1.2758839]\n",
            "280 \t 0.004950813 \t [0.95447344] \t [1.2643653]\n",
            "300 \t 0.0043235626 \t [0.95745504] \t [1.2536008]\n",
            "320 \t 0.0037757915 \t [0.9602414] \t [1.2435411]\n",
            "340 \t 0.003297427 \t [0.9628452] \t [1.2341406]\n",
            "360 \t 0.0028796622 \t [0.9652785] \t [1.2253556]\n",
            "380 \t 0.002514834 \t [0.96755236] \t [1.217146]\n",
            "400 \t 0.0021962174 \t [0.9696775] \t [1.2094738]\n",
            "420 \t 0.0019179821 \t [0.9716633] \t [1.2023046]\n",
            "440 \t 0.0016749979 \t [0.973519] \t [1.1956046]\n",
            "460 \t 0.0014627788 \t [0.9752533] \t [1.1893433]\n",
            "480 \t 0.0012774608 \t [0.976874] \t [1.1834922]\n",
            "500 \t 0.0011156227 \t [0.9783885] \t [1.1780244]\n",
            "520 \t 0.00097428384 \t [0.9798038] \t [1.1729146]\n",
            "540 \t 0.0008508468 \t [0.9811264] \t [1.1681393]\n",
            "560 \t 0.00074304943 \t [0.9823625] \t [1.1636767]\n",
            "580 \t 0.0006489054 \t [0.9835177] \t [1.1595062]\n",
            "600 \t 0.0005666885 \t [0.9845972] \t [1.155609]\n",
            "620 \t 0.0004948968 \t [0.9856059] \t [1.1519672]\n",
            "640 \t 0.00043220242 \t [0.98654854] \t [1.1485639]\n",
            "660 \t 0.00037743902 \t [0.9874295] \t [1.1453832]\n",
            "680 \t 0.00032962073 \t [0.9882528] \t [1.142411]\n",
            "700 \t 0.0002878535 \t [0.98902225] \t [1.139633]\n",
            "720 \t 0.00025138183 \t [0.9897412] \t [1.1370374]\n",
            "740 \t 0.00021953974 \t [0.99041307] \t [1.134612]\n",
            "760 \t 0.00019172308 \t [0.9910409] \t [1.1323452]\n",
            "780 \t 0.0001674346 \t [0.9916276] \t [1.1302269]\n",
            "800 \t 0.00014622149 \t [0.9921759] \t [1.1282473]\n",
            "820 \t 0.00012769827 \t [0.9926883] \t [1.1263975]\n",
            "840 \t 0.000111519184 \t [0.9931672] \t [1.1246686]\n",
            "860 \t 9.738987e-05 \t [0.9936147] \t [1.123053]\n",
            "880 \t 8.50504e-05 \t [0.99403286] \t [1.1215433]\n",
            "900 \t 7.4272386e-05 \t [0.99442375] \t [1.1201319]\n",
            "920 \t 6.486287e-05 \t [0.99478894] \t [1.1188135]\n",
            "940 \t 5.6645273e-05 \t [0.99513024] \t [1.1175814]\n",
            "960 \t 4.946944e-05 \t [0.9954492] \t [1.1164298]\n",
            "980 \t 4.3201602e-05 \t [0.9957472] \t [1.115354]\n",
            "1000 \t 3.7727605e-05 \t [0.99602574] \t [1.1143484]\n",
            "1020 \t 3.294867e-05 \t [0.9962859] \t [1.1134088]\n",
            "1040 \t 2.8776016e-05 \t [0.9965292] \t [1.1125307]\n",
            "1060 \t 2.5129339e-05 \t [0.9967565] \t [1.1117101]\n",
            "1080 \t 2.1946355e-05 \t [0.99696887] \t [1.1109433]\n",
            "1100 \t 1.9167366e-05 \t [0.9971673] \t [1.1102269]\n",
            "1120 \t 1.6738184e-05 \t [0.9973528] \t [1.1095572]\n",
            "1140 \t 1.46174425e-05 \t [0.99752617] \t [1.1089312]\n",
            "1160 \t 1.2765988e-05 \t [0.9976882] \t [1.1083462]\n",
            "1180 \t 1.1147909e-05 \t [0.9978396] \t [1.1077995]\n",
            "1200 \t 9.736117e-06 \t [0.9979811] \t [1.1072888]\n",
            "1220 \t 8.502122e-06 \t [0.99811333] \t [1.1068114]\n",
            "1240 \t 7.4249547e-06 \t [0.9982369] \t [1.1063653]\n",
            "1260 \t 6.4845967e-06 \t [0.99835235] \t [1.1059484]\n",
            "1280 \t 5.663074e-06 \t [0.9984603] \t [1.1055589]\n",
            "1300 \t 4.945602e-06 \t [0.9985611] \t [1.1051949]\n",
            "1320 \t 4.3192954e-06 \t [0.99865526] \t [1.1048548]\n",
            "1340 \t 3.7720679e-06 \t [0.99874336] \t [1.1045369]\n",
            "1360 \t 3.2941516e-06 \t [0.99882567] \t [1.1042397]\n",
            "1380 \t 2.8767638e-06 \t [0.9989025] \t [1.1039621]\n",
            "1400 \t 2.5123752e-06 \t [0.9989744] \t [1.1037027]\n",
            "1420 \t 2.1943574e-06 \t [0.9990416] \t [1.1034602]\n",
            "1440 \t 1.9163876e-06 \t [0.9991043] \t [1.1032336]\n",
            "1460 \t 1.6734793e-06 \t [0.999163] \t [1.1030219]\n",
            "1480 \t 1.4615118e-06 \t [0.9992178] \t [1.102824]\n",
            "1500 \t 1.2761595e-06 \t [0.99926895] \t [1.1026391]\n",
            "1520 \t 1.1146522e-06 \t [0.9993169] \t [1.1024662]\n",
            "1540 \t 9.734198e-07 \t [0.9993616] \t [1.1023047]\n",
            "1560 \t 8.5019985e-07 \t [0.99940336] \t [1.1021539]\n",
            "1580 \t 7.4255206e-07 \t [0.9994424] \t [1.102013]\n",
            "1600 \t 6.483539e-07 \t [0.99947894] \t [1.101881]\n",
            "1620 \t 5.6629926e-07 \t [0.9995131] \t [1.1017579]\n",
            "1640 \t 4.9462915e-07 \t [0.9995449] \t [1.1016427]\n",
            "1660 \t 4.318284e-07 \t [0.9995747] \t [1.1015351]\n",
            "1680 \t 3.7712144e-07 \t [0.9996027] \t [1.1014345]\n",
            "1700 \t 3.2933139e-07 \t [0.99962866] \t [1.1013405]\n",
            "1720 \t 2.8764075e-07 \t [0.99965304] \t [1.1012526]\n",
            "1740 \t 2.5112413e-07 \t [0.99967575] \t [1.1011705]\n",
            "1760 \t 2.1943288e-07 \t [0.9996969] \t [1.101094]\n",
            "1780 \t 1.9165964e-07 \t [0.99971676] \t [1.1010225]\n",
            "1800 \t 1.6736931e-07 \t [0.9997353] \t [1.1009556]\n",
            "1820 \t 1.4613944e-07 \t [0.9997526] \t [1.100893]\n",
            "1840 \t 1.2766004e-07 \t [0.9997688] \t [1.1008345]\n",
            "1860 \t 1.1145912e-07 \t [0.99978393] \t [1.10078]\n",
            "1880 \t 9.7391194e-08 \t [0.99979806] \t [1.100729]\n",
            "1900 \t 8.508556e-08 \t [0.9998113] \t [1.1006812]\n",
            "1920 \t 7.432046e-08 \t [0.9998236] \t [1.1006367]\n",
            "1940 \t 6.4889775e-08 \t [0.99983513] \t [1.1005951]\n",
            "1960 \t 5.669e-08 \t [0.9998459] \t [1.1005563]\n",
            "1980 \t 4.9580876e-08 \t [0.99985594] \t [1.1005198]\n",
            "2000 \t 4.327969e-08 \t [0.9998654] \t [1.1004859]\n"
          ],
          "name": "stdout"
        }
      ]
    },
    {
      "cell_type": "markdown",
      "metadata": {
        "id": "eloOh8xLg3no"
      },
      "source": [
        "2000번 피드백한 결과:\n",
        "\n",
        "H(x) = 0.9998654 * x + 1.1004859"
      ]
    },
    {
      "cell_type": "code",
      "metadata": {
        "colab": {
          "base_uri": "https://localhost:8080/"
        },
        "id": "1GqhVkW6eIwQ",
        "outputId": "2cbdd7d2-fa6a-48e0-9257-ec76f9a7311a"
      },
      "source": [
        "# Testing our model\n",
        "print(sess.run(hypothesis, feed_dict={X: [5]}))"
      ],
      "execution_count": null,
      "outputs": [
        {
          "output_type": "stream",
          "text": [
            "[6.099813]\n"
          ],
          "name": "stdout"
        }
      ]
    },
    {
      "cell_type": "code",
      "metadata": {
        "colab": {
          "base_uri": "https://localhost:8080/"
        },
        "id": "hsVI-a4Yhf_q",
        "outputId": "cf9d8f97-99ca-463d-93da-ab997153f942"
      },
      "source": [
        "print(sess.run(hypothesis, feed_dict={X: [2.5]}))"
      ],
      "execution_count": null,
      "outputs": [
        {
          "output_type": "stream",
          "text": [
            "[3.6001496]\n"
          ],
          "name": "stdout"
        }
      ]
    },
    {
      "cell_type": "code",
      "metadata": {
        "colab": {
          "base_uri": "https://localhost:8080/"
        },
        "id": "hpQnqAyghje5",
        "outputId": "61e825a0-ac46-4416-f8c2-1c7c3a8a4b19"
      },
      "source": [
        "print(sess.run(hypothesis,\n",
        "               feed_dict={X: [1.5, 3.5]}))"
      ],
      "execution_count": null,
      "outputs": [
        {
          "output_type": "stream",
          "text": [
            "[2.600284  4.6000147]\n"
          ],
          "name": "stdout"
        }
      ]
    }
  ]
}
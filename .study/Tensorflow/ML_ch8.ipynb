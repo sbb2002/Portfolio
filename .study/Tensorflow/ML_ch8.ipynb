{
  "nbformat": 4,
  "nbformat_minor": 0,
  "metadata": {
    "colab": {
      "name": "ML_ch8.ipynb",
      "provenance": [],
      "collapsed_sections": [],
      "authorship_tag": "ABX9TyMMveVtFvnyNh7g7CjIKr7q",
      "include_colab_link": true
    },
    "kernelspec": {
      "name": "python3",
      "display_name": "Python 3"
    },
    "language_info": {
      "name": "python"
    }
  },
  "cells": [
    {
      "cell_type": "markdown",
      "metadata": {
        "id": "view-in-github",
        "colab_type": "text"
      },
      "source": [
        "<a href=\"https://colab.research.google.com/github/sbb2002/Portfolio/blob/main/.study/Tensorflow/ML_ch8.ipynb\" target=\"_parent\"><img src=\"https://colab.research.google.com/assets/colab-badge.svg\" alt=\"Open In Colab\"/></a>"
      ]
    },
    {
      "cell_type": "markdown",
      "metadata": {
        "id": "cEIKIdL12bPC"
      },
      "source": [
        "Ch 8. Tensor manipulation"
      ]
    },
    {
      "cell_type": "code",
      "metadata": {
        "colab": {
          "base_uri": "https://localhost:8080/"
        },
        "id": "mpHDtyIA2Q0r",
        "outputId": "c24b232a-1a7d-4805-9f40-00563c326706"
      },
      "source": [
        "import tensorflow.compat.v1 as tf\n",
        "tf.disable_v2_behavior()"
      ],
      "execution_count": null,
      "outputs": [
        {
          "output_type": "stream",
          "text": [
            "WARNING:tensorflow:From /usr/local/lib/python3.7/dist-packages/tensorflow/python/compat/v2_compat.py:96: disable_resource_variables (from tensorflow.python.ops.variable_scope) is deprecated and will be removed in a future version.\n",
            "Instructions for updating:\n",
            "non-resource variables are not supported in the long term\n"
          ],
          "name": "stdout"
        }
      ]
    },
    {
      "cell_type": "markdown",
      "metadata": {
        "id": "QGGdkdz4b4N_"
      },
      "source": [
        "# The function dictionary (tf v1.0)"
      ]
    },
    {
      "cell_type": "markdown",
      "metadata": {
        "id": "fSxU51ds-_N0"
      },
      "source": [
        "## Array"
      ]
    },
    {
      "cell_type": "code",
      "metadata": {
        "id": "7DBTcmFC_ACq"
      },
      "source": [
        "import numpy as np\n",
        "\n",
        "# 1D-array\n",
        "t1 = np.array([0,1,2,3,4,5,6,7,8,9])"
      ],
      "execution_count": null,
      "outputs": []
    },
    {
      "cell_type": "code",
      "metadata": {
        "colab": {
          "base_uri": "https://localhost:8080/"
        },
        "id": "l5jvKwNJ_lHb",
        "outputId": "9631f117-da50-4a27-c66c-79fda225c793"
      },
      "source": [
        "t1.ndim   # dimension (rank)"
      ],
      "execution_count": null,
      "outputs": [
        {
          "output_type": "execute_result",
          "data": {
            "text/plain": [
              "1"
            ]
          },
          "metadata": {
            "tags": []
          },
          "execution_count": 7
        }
      ]
    },
    {
      "cell_type": "code",
      "metadata": {
        "colab": {
          "base_uri": "https://localhost:8080/"
        },
        "id": "E_ZzZwBR_YtA",
        "outputId": "905845c4-fd8e-440a-8d1b-18f63f346a8c"
      },
      "source": [
        "t1.shape  # number of elems in each dimension; Output=(..., 2d, 1d,)"
      ],
      "execution_count": null,
      "outputs": [
        {
          "output_type": "execute_result",
          "data": {
            "text/plain": [
              "(10,)"
            ]
          },
          "metadata": {
            "tags": []
          },
          "execution_count": 9
        }
      ]
    },
    {
      "cell_type": "code",
      "metadata": {
        "id": "9vncwsgt_nD3"
      },
      "source": [
        "# 2D-array\n",
        "t2 = np.array([[0,1,2], [3,4,5], [6,7,8], [9,10,11]])"
      ],
      "execution_count": null,
      "outputs": []
    },
    {
      "cell_type": "code",
      "metadata": {
        "colab": {
          "base_uri": "https://localhost:8080/"
        },
        "id": "Xs7MfSuFAORX",
        "outputId": "ff3aed0e-a17b-4386-fe72-ab5a5b609fc9"
      },
      "source": [
        "t2.ndim"
      ],
      "execution_count": null,
      "outputs": [
        {
          "output_type": "execute_result",
          "data": {
            "text/plain": [
              "2"
            ]
          },
          "metadata": {
            "tags": []
          },
          "execution_count": 12
        }
      ]
    },
    {
      "cell_type": "code",
      "metadata": {
        "colab": {
          "base_uri": "https://localhost:8080/"
        },
        "id": "l17aQwlSAPK1",
        "outputId": "267615d1-b901-411e-f1a5-352e3ac60ed4"
      },
      "source": [
        "t2.shape"
      ],
      "execution_count": null,
      "outputs": [
        {
          "output_type": "execute_result",
          "data": {
            "text/plain": [
              "(4, 3)"
            ]
          },
          "metadata": {
            "tags": []
          },
          "execution_count": 13
        }
      ]
    },
    {
      "cell_type": "markdown",
      "metadata": {
        "id": "0pmwaAsNAUd7"
      },
      "source": [
        "* rank\n",
        " > dimension, 수식 앞의 \" [ \" 갯수\n",
        "\n",
        "* shape\n",
        " > dimension 안 elem의 갯수, 높은 차원 순으로 기술 \\\n",
        " ex. (rank 3, rank 2, rank 1)\n",
        "\n",
        "* axis\n",
        " > rank-depth. \\\n",
        " 겉의 \" [ \"는 axis=0, \\\n",
        " 그 다음 \" [[ \"는 axis=1, \\\n",
        " ... , \\\n",
        " 마지막 \" [...[ \"는 axis=n or -1"
      ]
    },
    {
      "cell_type": "code",
      "metadata": {
        "id": "SaOxG4cuARjd"
      },
      "source": [
        "t = tf.constant([\n",
        "                 [\n",
        "                  [\n",
        "                   [1,2,3,4],\n",
        "                   [5,6,7,8],\n",
        "                   [9,10,11,12]\n",
        "                  ],\n",
        "                  [\n",
        "                   [13,14,15,16],\n",
        "                   [17,18,19,20],\n",
        "                   [21,22,23,24]\n",
        "                  ]\n",
        "                ]\n",
        "              ])"
      ],
      "execution_count": null,
      "outputs": []
    },
    {
      "cell_type": "code",
      "metadata": {
        "colab": {
          "base_uri": "https://localhost:8080/"
        },
        "id": "TN237GWfDFrr",
        "outputId": "8d4ad377-6a5e-45b2-f92b-cc0ed03e6a8a"
      },
      "source": [
        "tf.shape(t).eval(session=tf.Session())"
      ],
      "execution_count": null,
      "outputs": [
        {
          "output_type": "execute_result",
          "data": {
            "text/plain": [
              "array([1, 2, 3, 4], dtype=int32)"
            ]
          },
          "metadata": {
            "tags": []
          },
          "execution_count": 26
        }
      ]
    },
    {
      "cell_type": "code",
      "metadata": {
        "colab": {
          "base_uri": "https://localhost:8080/"
        },
        "id": "qMJfQ8tfDICp",
        "outputId": "def413d4-3b55-4361-c351-302718a85f6b"
      },
      "source": [
        "# 위의 출력값을 설명\n",
        "e1, e2, e3, e4 = tf.shape(t).eval(session=tf.Session())\n",
        "print(\"[\\t*\\t]\\t안에 {} 개의 [[[\\t]]]\\t가 있고, \".format(e1))\n",
        "print(\"[[\\t*\\t]]\\t안에 {} 개의 [[\\t]]\\t가 있고, \".format(e2))\n",
        "print(\"[[[\\t*\\t]]]\\t안에 {} 개의 [\\t]\\t가 있고, \".format(e3))\n",
        "print(\"[[[\\t*\\t]]]]\\t안에 {} 개의 elem\\t가 있다. \".format(e4))\n"
      ],
      "execution_count": null,
      "outputs": [
        {
          "output_type": "stream",
          "text": [
            "[\t*\t]\t안에 1 개의 [[[\t]]]\t가 있고, \n",
            "[[\t*\t]]\t안에 2 개의 [[\t]]\t가 있고, \n",
            "[[[\t*\t]]]\t안에 3 개의 [\t]\t가 있고, \n",
            "[[[\t*\t]]]]\t안에 4 개의 elem\t가 있다. \n"
          ],
          "name": "stdout"
        }
      ]
    },
    {
      "cell_type": "markdown",
      "metadata": {
        "id": "uIHZF0W0GuVq"
      },
      "source": [
        "## tf.matmul VS multiply"
      ]
    },
    {
      "cell_type": "code",
      "metadata": {
        "colab": {
          "base_uri": "https://localhost:8080/"
        },
        "id": "_WIjBjmKEMn2",
        "outputId": "9b8e6a64-ff6c-401b-b9b7-146ce1d190da"
      },
      "source": [
        "m1 = tf.constant([[1,2], [3,4]])\n",
        "m2 = tf.constant([[1], [2]])\n",
        "\n",
        "print(\"m1의 shape은 \", m1.shape)\n",
        "print(\"m2의 shape은 \", m2.shape)\n",
        "print(\"\\n행렬곱(내적) m1 . m2 을 하려면 'm1의 shape-2nd' 와 'm2의 shape-1st'가 같아야합니다.\")\n",
        "tf.matmul(m1, m2).eval(session=tf.Session())"
      ],
      "execution_count": null,
      "outputs": [
        {
          "output_type": "stream",
          "text": [
            "m1의 shape은  (2, 2)\n",
            "m2의 shape은  (2, 1)\n",
            "\n",
            "행렬곱(내적) m1 x m2 을 하려면 'm1의 shape-2nd' 와 'm2의 shape-1st'가 같아야합니다.\n"
          ],
          "name": "stdout"
        },
        {
          "output_type": "execute_result",
          "data": {
            "text/plain": [
              "array([[ 5],\n",
              "       [11]], dtype=int32)"
            ]
          },
          "metadata": {
            "tags": []
          },
          "execution_count": 57
        }
      ]
    },
    {
      "cell_type": "code",
      "metadata": {
        "colab": {
          "base_uri": "https://localhost:8080/"
        },
        "id": "OiZCjEtQG_Ks",
        "outputId": "153f0a8a-3593-4933-ac0d-3cf169ae2f8b"
      },
      "source": [
        "print(\"단순곱은 hadamard product를 합니다. 내적과 비슷하므로 유의하세요!\")\n",
        "(m1 * m2).eval(session=tf.Session())"
      ],
      "execution_count": null,
      "outputs": [
        {
          "output_type": "stream",
          "text": [
            "단순곱은 hadamard product를 합니다. 내적과 비슷하므로 유의하세요!\n"
          ],
          "name": "stdout"
        },
        {
          "output_type": "execute_result",
          "data": {
            "text/plain": [
              "array([[1, 2],\n",
              "       [6, 8]], dtype=int32)"
            ]
          },
          "metadata": {
            "tags": []
          },
          "execution_count": 56
        }
      ]
    },
    {
      "cell_type": "markdown",
      "metadata": {
        "id": "8M8RFbv9Iq6g"
      },
      "source": [
        "## Broadcasting"
      ]
    },
    {
      "cell_type": "markdown",
      "metadata": {
        "id": "ZyDPxjazIzVV"
      },
      "source": [
        "matrix의 rank나 shape이 맞지 않아도 자동완성해서 계산에 하자가 없게 해주는 기능이다. \\\n",
        "단, 원리를 잘못 파악하면 상당한 독이 될 수 있다. \\\n",
        "왠만하면 쓰지말자..."
      ]
    },
    {
      "cell_type": "code",
      "metadata": {
        "colab": {
          "base_uri": "https://localhost:8080/"
        },
        "id": "PoulZd6kIF8v",
        "outputId": "c12c2310-d3a2-41fb-adab-7db27c8513ad"
      },
      "source": [
        "m1 = tf.constant([[1,2]])\n",
        "m2 = tf.constant(3)\n",
        "(m1 + m2).eval(session=tf.Session())"
      ],
      "execution_count": null,
      "outputs": [
        {
          "output_type": "execute_result",
          "data": {
            "text/plain": [
              "array([[4, 5]], dtype=int32)"
            ]
          },
          "metadata": {
            "tags": []
          },
          "execution_count": 58
        }
      ]
    },
    {
      "cell_type": "code",
      "metadata": {
        "colab": {
          "base_uri": "https://localhost:8080/"
        },
        "id": "C2qqPQo-JJcE",
        "outputId": "1f6911bf-a589-42ab-db82-b1826b94a577"
      },
      "source": [
        "m1 = tf.constant([[1,2]])\n",
        "m2 = tf.constant([3,4])\n",
        "(m1 + m2).eval(session=tf.Session())"
      ],
      "execution_count": null,
      "outputs": [
        {
          "output_type": "execute_result",
          "data": {
            "text/plain": [
              "array([[4, 6]], dtype=int32)"
            ]
          },
          "metadata": {
            "tags": []
          },
          "execution_count": 59
        }
      ]
    },
    {
      "cell_type": "code",
      "metadata": {
        "colab": {
          "base_uri": "https://localhost:8080/"
        },
        "id": "cPYyXS_mJP2C",
        "outputId": "4ae0676a-d6c2-42f6-c407-fa89d5f61fa2"
      },
      "source": [
        "m1 = tf.constant([[1,2]])\n",
        "m2 = tf.constant([[3], [4]])\n",
        "(m1 + m2).eval(session=tf.Session())"
      ],
      "execution_count": null,
      "outputs": [
        {
          "output_type": "execute_result",
          "data": {
            "text/plain": [
              "array([[4, 5],\n",
              "       [5, 6]], dtype=int32)"
            ]
          },
          "metadata": {
            "tags": []
          },
          "execution_count": 60
        }
      ]
    },
    {
      "cell_type": "markdown",
      "metadata": {
        "id": "BTAfbiaxJrRm"
      },
      "source": [
        "## Reduce mean & sum"
      ]
    },
    {
      "cell_type": "code",
      "metadata": {
        "colab": {
          "base_uri": "https://localhost:8080/"
        },
        "id": "Ibx5cv72Jjva",
        "outputId": "14778eb8-e11e-40fc-d261-ea8c0230ce83"
      },
      "source": [
        "print(\"평균 1.5가 나올 것 같지만, 출력type이 int32이기 때문에 소수점을 버린 1이 나옵니다. 만약 주어진 데이터가 1. 또는 2. 과 같은 float32이라면 거기에 맞춥니다.\")\n",
        "\n",
        "x = tf.reduce_mean([1,2], axis=0).eval(session=tf.Session())\n",
        "y = type(tf.reduce_mean([1,2], axis=0).eval(session=tf.Session()))\n",
        "print(\"계산: \", x, \"\\tType: \", y)\n",
        "\n",
        "x = tf.reduce_mean([1.,2.], axis=0).eval(session=tf.Session())\n",
        "y = type(tf.reduce_mean([1.,2.], axis=0).eval(session=tf.Session()))\n",
        "print(\"계산: \", x, \"\\tType: \", y)"
      ],
      "execution_count": null,
      "outputs": [
        {
          "output_type": "stream",
          "text": [
            "평균 1.5가 나올 것 같지만, 출력type이 int32이기 때문에 소수점을 버린 1이 나옵니다. 만약 주어진 데이터가 1. 또는 2. 과 같은 float32이라면 거기에 맞춥니다.\n",
            "계산:  1 \tType:  <class 'numpy.int32'>\n",
            "계산:  1.5 \tType:  <class 'numpy.float32'>\n"
          ],
          "name": "stdout"
        }
      ]
    },
    {
      "cell_type": "markdown",
      "metadata": {
        "id": "w8XWV1vwLKJk"
      },
      "source": [
        "새로 다음과 같은 데이터를 주자.\n",
        "\n",
        "```\n",
        "[\n",
        "  [1. ,2. ], \n",
        "  [3. ,4. ]\n",
        "]\n",
        "```\n",
        "\n",
        "reduce_mean or sum은 연산을 수행할 때 이러한 특징이 있다.\n",
        "> 만약 대상으로 하는 axis의 구성원이 ...\\\n",
        "elem일 때는 단순히 모두 합하든 평균을 내든 하지만, \\\n",
        "list일 경우 또 그 안의 elem들을 같은 idx끼리 연산시킨다.\n",
        "\n",
        "* axis = 0\n",
        " * 세로 방향\n",
        " * 첫 번째 [ * ] 안의 elem(_list)을 대상으로 연산한다. \\\n",
        "\n",
        "* axis = 1\n",
        " * 가로 방향\n",
        " * 두 번째 [ * ] 안의 elem(_list)을 대상으로 연산한다.\n"
      ]
    },
    {
      "cell_type": "code",
      "metadata": {
        "colab": {
          "base_uri": "https://localhost:8080/"
        },
        "id": "PCVcTUSoJ08B",
        "outputId": "2b885d21-df66-4418-e56b-a6bc8a004c00"
      },
      "source": [
        "tf.reduce_mean([[1. ,2. ], [3. ,4. ]], axis=0).eval(session=tf.Session())"
      ],
      "execution_count": null,
      "outputs": [
        {
          "output_type": "execute_result",
          "data": {
            "text/plain": [
              "array([2., 3.], dtype=float32)"
            ]
          },
          "metadata": {
            "tags": []
          },
          "execution_count": 63
        }
      ]
    },
    {
      "cell_type": "code",
      "metadata": {
        "colab": {
          "base_uri": "https://localhost:8080/"
        },
        "id": "WscCKgTwKelG",
        "outputId": "f7c5506c-39b6-42a3-cf20-c49c19fa4ed0"
      },
      "source": [
        "tf.reduce_mean([[1. ,2. ], [3. ,4. ]], axis=1).eval(session=tf.Session())"
      ],
      "execution_count": null,
      "outputs": [
        {
          "output_type": "execute_result",
          "data": {
            "text/plain": [
              "array([1.5, 3.5], dtype=float32)"
            ]
          },
          "metadata": {
            "tags": []
          },
          "execution_count": 64
        }
      ]
    },
    {
      "cell_type": "code",
      "metadata": {
        "colab": {
          "base_uri": "https://localhost:8080/"
        },
        "id": "6R5dn9yKKr_u",
        "outputId": "a7077655-3adb-473e-82e2-d5c55deb1e30"
      },
      "source": [
        "tf.reduce_mean([[1. ,2. ], [3. ,4. ]], axis=None).eval(session=tf.Session())"
      ],
      "execution_count": null,
      "outputs": [
        {
          "output_type": "execute_result",
          "data": {
            "text/plain": [
              "2.5"
            ]
          },
          "metadata": {
            "tags": []
          },
          "execution_count": 108
        }
      ]
    },
    {
      "cell_type": "markdown",
      "metadata": {
        "id": "xPBz2QY_L90i"
      },
      "source": [
        "axis가 None일 때(default) 전부 다 elem취급하여 연산한다.\n",
        "\n",
        "reduce sum도 마찬가지."
      ]
    },
    {
      "cell_type": "code",
      "metadata": {
        "colab": {
          "base_uri": "https://localhost:8080/"
        },
        "id": "DGYaOECeLAp7",
        "outputId": "3f2f5d29-f9da-4df2-846f-79e168ebe203"
      },
      "source": [
        "tf.reduce_sum([[1. ,2. ], [3. ,4. ]], axis=0).eval(session=tf.Session())"
      ],
      "execution_count": null,
      "outputs": [
        {
          "output_type": "execute_result",
          "data": {
            "text/plain": [
              "array([4., 6.], dtype=float32)"
            ]
          },
          "metadata": {
            "tags": []
          },
          "execution_count": 66
        }
      ]
    },
    {
      "cell_type": "code",
      "metadata": {
        "colab": {
          "base_uri": "https://localhost:8080/"
        },
        "id": "BixLKWV_L8K5",
        "outputId": "ecaf6b79-cc1c-42c7-b094-80e4161516ab"
      },
      "source": [
        "tf.reduce_sum([[1. ,2. ], [3. ,4. ]], axis=-1).eval(session=tf.Session())"
      ],
      "execution_count": null,
      "outputs": [
        {
          "output_type": "execute_result",
          "data": {
            "text/plain": [
              "array([3., 7.], dtype=float32)"
            ]
          },
          "metadata": {
            "tags": []
          },
          "execution_count": 69
        }
      ]
    },
    {
      "cell_type": "code",
      "metadata": {
        "colab": {
          "base_uri": "https://localhost:8080/"
        },
        "id": "Kbo0HMQwMEsQ",
        "outputId": "d17a0ed5-604e-4ab1-a78a-5b9e28054b41"
      },
      "source": [
        "tf.reduce_sum([[1. ,2. ], [3. ,4. ]]).eval(session=tf.Session())"
      ],
      "execution_count": null,
      "outputs": [
        {
          "output_type": "execute_result",
          "data": {
            "text/plain": [
              "10.0"
            ]
          },
          "metadata": {
            "tags": []
          },
          "execution_count": 68
        }
      ]
    },
    {
      "cell_type": "code",
      "metadata": {
        "colab": {
          "base_uri": "https://localhost:8080/"
        },
        "id": "D4XW6WUVjROv",
        "outputId": "1e9c0b06-6269-428f-9897-ee55c885a34f"
      },
      "source": [
        "tf.reduce_sum([[1. ,2. ], [3. ,4. ]], axis=None).eval(session=tf.Session())"
      ],
      "execution_count": null,
      "outputs": [
        {
          "output_type": "execute_result",
          "data": {
            "text/plain": [
              "10.0"
            ]
          },
          "metadata": {
            "tags": []
          },
          "execution_count": 109
        }
      ]
    },
    {
      "cell_type": "markdown",
      "metadata": {
        "id": "5Mqk5slFMaGu"
      },
      "source": [
        "## argmax: one-hot encoding!"
      ]
    },
    {
      "cell_type": "code",
      "metadata": {
        "colab": {
          "base_uri": "https://localhost:8080/"
        },
        "id": "DLlLvWQnMG2J",
        "outputId": "97336cbc-8032-4ad2-9e4b-0a090ccd9dcd"
      },
      "source": [
        "x = [[0,1,2],\n",
        "     [2,1,0]]\n",
        "tf.argmax(x, axis=0).eval(session=tf.Session())"
      ],
      "execution_count": null,
      "outputs": [
        {
          "output_type": "execute_result",
          "data": {
            "text/plain": [
              "array([1, 0, 0])"
            ]
          },
          "metadata": {
            "tags": []
          },
          "execution_count": 71
        }
      ]
    },
    {
      "cell_type": "code",
      "metadata": {
        "colab": {
          "base_uri": "https://localhost:8080/"
        },
        "id": "B9rHc6EoMiXO",
        "outputId": "605ade52-92cf-413c-f742-bdf1c88d9776"
      },
      "source": [
        "tf.argmax(x, axis=1).eval(session=tf.Session())"
      ],
      "execution_count": null,
      "outputs": [
        {
          "output_type": "execute_result",
          "data": {
            "text/plain": [
              "array([2, 0])"
            ]
          },
          "metadata": {
            "tags": []
          },
          "execution_count": 72
        }
      ]
    },
    {
      "cell_type": "markdown",
      "metadata": {
        "id": "Q0od_ALXM5T8"
      },
      "source": [
        "## Reshape + squeeze, expand"
      ]
    },
    {
      "cell_type": "code",
      "metadata": {
        "colab": {
          "base_uri": "https://localhost:8080/"
        },
        "id": "L9xTSEYrM0YO",
        "outputId": "b9d51ae8-c81f-4e76-f346-ddc8486c66cf"
      },
      "source": [
        "t = np.array([[[0,1,2],\n",
        "               [3,4,5]],\n",
        "              [[6,7,8],\n",
        "               [9,10,11]]])\n",
        "t.shape"
      ],
      "execution_count": null,
      "outputs": [
        {
          "output_type": "execute_result",
          "data": {
            "text/plain": [
              "(2, 2, 3)"
            ]
          },
          "metadata": {
            "tags": []
          },
          "execution_count": 73
        }
      ]
    },
    {
      "cell_type": "code",
      "metadata": {
        "colab": {
          "base_uri": "https://localhost:8080/"
        },
        "id": "UPWggbXRNRh0",
        "outputId": "274affcd-f61e-4b53-f1f7-45edafb3d3da"
      },
      "source": [
        "tf.reshape(t, shape=[-1, 3]).eval(session=tf.Session())   # shape=[-1, 3] means -1: auto, 3: want number of elems"
      ],
      "execution_count": null,
      "outputs": [
        {
          "output_type": "execute_result",
          "data": {
            "text/plain": [
              "array([[ 0,  1,  2],\n",
              "       [ 3,  4,  5],\n",
              "       [ 6,  7,  8],\n",
              "       [ 9, 10, 11]])"
            ]
          },
          "metadata": {
            "tags": []
          },
          "execution_count": 75
        }
      ]
    },
    {
      "cell_type": "code",
      "metadata": {
        "colab": {
          "base_uri": "https://localhost:8080/"
        },
        "id": "XSIz7sr8NXqi",
        "outputId": "1b70741e-916f-4e26-f4fb-ba0f2e5ea339"
      },
      "source": [
        "tf.reshape(t, shape=[-1,1, 3]).eval(session=tf.Session()) "
      ],
      "execution_count": null,
      "outputs": [
        {
          "output_type": "execute_result",
          "data": {
            "text/plain": [
              "array([[[ 0,  1,  2]],\n",
              "\n",
              "       [[ 3,  4,  5]],\n",
              "\n",
              "       [[ 6,  7,  8]],\n",
              "\n",
              "       [[ 9, 10, 11]]])"
            ]
          },
          "metadata": {
            "tags": []
          },
          "execution_count": 76
        }
      ]
    },
    {
      "cell_type": "markdown",
      "metadata": {
        "id": "l4MN16UsOBU3"
      },
      "source": [
        "squeeze는 matrix를 쫙 펴준다. (rank -= 1)"
      ]
    },
    {
      "cell_type": "code",
      "metadata": {
        "colab": {
          "base_uri": "https://localhost:8080/"
        },
        "id": "eL9Dl1UcNl9S",
        "outputId": "7ca16032-830f-46a5-bfc5-3669fb4699cf"
      },
      "source": [
        "tf.squeeze([[0], [1], [2]]).eval(session=tf.Session()) "
      ],
      "execution_count": null,
      "outputs": [
        {
          "output_type": "execute_result",
          "data": {
            "text/plain": [
              "array([0, 1, 2], dtype=int32)"
            ]
          },
          "metadata": {
            "tags": []
          },
          "execution_count": 78
        }
      ]
    },
    {
      "cell_type": "markdown",
      "metadata": {
        "id": "S0xZKAWfOTrg"
      },
      "source": [
        "expand_dims는 거꾸로 matrix를 한 차원 늘려준다. (rank += 1)"
      ]
    },
    {
      "cell_type": "code",
      "metadata": {
        "colab": {
          "base_uri": "https://localhost:8080/"
        },
        "id": "MckhtjFROAM5",
        "outputId": "d6c759b7-a038-4b34-d3e8-7a64247c8655"
      },
      "source": [
        "tf.expand_dims([0, 1, 2], 1).eval(session=tf.Session()) "
      ],
      "execution_count": null,
      "outputs": [
        {
          "output_type": "execute_result",
          "data": {
            "text/plain": [
              "array([[0],\n",
              "       [1],\n",
              "       [2]], dtype=int32)"
            ]
          },
          "metadata": {
            "tags": []
          },
          "execution_count": 79
        }
      ]
    },
    {
      "cell_type": "markdown",
      "metadata": {
        "id": "SYMz2VCeZQXc"
      },
      "source": [
        "## (Real) One-hot: 자리번호"
      ]
    },
    {
      "cell_type": "code",
      "metadata": {
        "colab": {
          "base_uri": "https://localhost:8080/"
        },
        "id": "N9meJb6dOSj4",
        "outputId": "e00ae647-86ce-4e6a-a3db-f5a01419f005"
      },
      "source": [
        "tf.one_hot([[0], [1], [2], [0]], depth=3).eval(session=tf.Session())      # depth=(자리 갯수)"
      ],
      "execution_count": null,
      "outputs": [
        {
          "output_type": "execute_result",
          "data": {
            "text/plain": [
              "array([[[1., 0., 0.]],\n",
              "\n",
              "       [[0., 1., 0.]],\n",
              "\n",
              "       [[0., 0., 1.]],\n",
              "\n",
              "       [[1., 0., 0.]]], dtype=float32)"
            ]
          },
          "metadata": {
            "tags": []
          },
          "execution_count": 82
        }
      ]
    },
    {
      "cell_type": "markdown",
      "metadata": {
        "id": "7c8pVx3EZtXq"
      },
      "source": [
        "전에 본대로 rank += 1을 한다."
      ]
    },
    {
      "cell_type": "markdown",
      "metadata": {
        "id": "gQV4XooTZyNM"
      },
      "source": [
        "## Casting"
      ]
    },
    {
      "cell_type": "code",
      "metadata": {
        "colab": {
          "base_uri": "https://localhost:8080/"
        },
        "id": "mtKXuswGZZB1",
        "outputId": "3a14c80e-1bdf-4466-c4b2-b41377df0002"
      },
      "source": [
        "tf.cast([1.8, 2.2, 3.7, 4.9], tf.int32).eval(session=tf.Session()) "
      ],
      "execution_count": null,
      "outputs": [
        {
          "output_type": "execute_result",
          "data": {
            "text/plain": [
              "array([1, 2, 3, 4], dtype=int32)"
            ]
          },
          "metadata": {
            "tags": []
          },
          "execution_count": 83
        }
      ]
    },
    {
      "cell_type": "code",
      "metadata": {
        "colab": {
          "base_uri": "https://localhost:8080/"
        },
        "id": "b1uAYbZOaBgj",
        "outputId": "7be6f8c2-7581-4c39-8bf4-52d7e61c5d9e"
      },
      "source": [
        "tf.cast([True, False, 1==1, 0==1], tf.int32).eval(session=tf.Session()) "
      ],
      "execution_count": null,
      "outputs": [
        {
          "output_type": "execute_result",
          "data": {
            "text/plain": [
              "array([1, 0, 1, 0], dtype=int32)"
            ]
          },
          "metadata": {
            "tags": []
          },
          "execution_count": 84
        }
      ]
    },
    {
      "cell_type": "markdown",
      "metadata": {
        "id": "KJ4Nb55haOy1"
      },
      "source": [
        "유리수에서 정수값만 떼와주거나, 참/거짓을 1/0으로 나타내준다."
      ]
    },
    {
      "cell_type": "markdown",
      "metadata": {
        "id": "i8bFpX5GageD"
      },
      "source": [
        "## Stack"
      ]
    },
    {
      "cell_type": "code",
      "metadata": {
        "colab": {
          "base_uri": "https://localhost:8080/"
        },
        "id": "F2Vv8ANTaICS",
        "outputId": "3ee14e36-5cf4-4f53-f97b-6de13422bfa3"
      },
      "source": [
        "x = [1, 4]\n",
        "y = [2, 5]\n",
        "z = [3, 6]\n",
        "w = [4, 7]\n",
        "\n",
        "# Pack along first dim\n",
        "tf.stack([x,y,z,w]).eval(session=tf.Session())"
      ],
      "execution_count": null,
      "outputs": [
        {
          "output_type": "execute_result",
          "data": {
            "text/plain": [
              "array([[1, 4],\n",
              "       [2, 5],\n",
              "       [3, 6],\n",
              "       [4, 7]], dtype=int32)"
            ]
          },
          "metadata": {
            "tags": []
          },
          "execution_count": 121
        }
      ]
    },
    {
      "cell_type": "code",
      "metadata": {
        "colab": {
          "base_uri": "https://localhost:8080/"
        },
        "id": "vcZPGu-dlGPU",
        "outputId": "9106e526-4954-4f7b-a136-b5071320abe7"
      },
      "source": [
        "tf.stack([x,y,z,w]).eval(session=tf.Session()).shape"
      ],
      "execution_count": null,
      "outputs": [
        {
          "output_type": "execute_result",
          "data": {
            "text/plain": [
              "(4, 2)"
            ]
          },
          "metadata": {
            "tags": []
          },
          "execution_count": 122
        }
      ]
    },
    {
      "cell_type": "code",
      "metadata": {
        "colab": {
          "base_uri": "https://localhost:8080/"
        },
        "id": "ypyPS6HcasjZ",
        "outputId": "9baeadd7-a2fd-4eef-a9be-a2d625aae5bf"
      },
      "source": [
        "# Pack along second dim\n",
        "tf.stack([x,y,z,w], axis=1).eval(session=tf.Session()) "
      ],
      "execution_count": null,
      "outputs": [
        {
          "output_type": "execute_result",
          "data": {
            "text/plain": [
              "array([[1, 2, 3, 4],\n",
              "       [4, 5, 6, 7]], dtype=int32)"
            ]
          },
          "metadata": {
            "tags": []
          },
          "execution_count": 123
        }
      ]
    },
    {
      "cell_type": "code",
      "metadata": {
        "colab": {
          "base_uri": "https://localhost:8080/"
        },
        "id": "8rbFqB_elKcQ",
        "outputId": "c5086ad8-a903-4d53-c977-958a0f671258"
      },
      "source": [
        "tf.stack([x,y,z,w], axis=1).eval(session=tf.Session()).shape"
      ],
      "execution_count": null,
      "outputs": [
        {
          "output_type": "execute_result",
          "data": {
            "text/plain": [
              "(2, 4)"
            ]
          },
          "metadata": {
            "tags": []
          },
          "execution_count": 124
        }
      ]
    },
    {
      "cell_type": "markdown",
      "metadata": {
        "id": "vpMofSnFkoLs"
      },
      "source": [
        "stack 안에 [ * ]를 주목하자. \\\n",
        "거기 들어간 변수 갯수만큼 해당 axis의 elem 갯수가 되게 해준다. shape를 유심히 볼 것."
      ]
    },
    {
      "cell_type": "markdown",
      "metadata": {
        "id": "HeRr_wNBba_1"
      },
      "source": [
        "## One & Zeros like"
      ]
    },
    {
      "cell_type": "code",
      "metadata": {
        "colab": {
          "base_uri": "https://localhost:8080/"
        },
        "id": "-d1nc7mwbXgm",
        "outputId": "177a6e50-0f60-4dfa-e609-1a39bf7b005c"
      },
      "source": [
        "x = [[0,1,2],\n",
        "     [2,1,0]]\n",
        "tf.ones_like(x).eval(session=tf.Session()) "
      ],
      "execution_count": null,
      "outputs": [
        {
          "output_type": "execute_result",
          "data": {
            "text/plain": [
              "array([[1, 1, 1],\n",
              "       [1, 1, 1]], dtype=int32)"
            ]
          },
          "metadata": {
            "tags": []
          },
          "execution_count": 89
        }
      ]
    },
    {
      "cell_type": "code",
      "metadata": {
        "colab": {
          "base_uri": "https://localhost:8080/"
        },
        "id": "zQ_BwOyCblHz",
        "outputId": "719a59a5-3360-4bcb-e61f-7d4c91dca6b0"
      },
      "source": [
        "tf.zeros_like(x).eval(session=tf.Session()) "
      ],
      "execution_count": null,
      "outputs": [
        {
          "output_type": "execute_result",
          "data": {
            "text/plain": [
              "array([[0, 0, 0],\n",
              "       [0, 0, 0]], dtype=int32)"
            ]
          },
          "metadata": {
            "tags": []
          },
          "execution_count": 90
        }
      ]
    },
    {
      "cell_type": "markdown",
      "metadata": {
        "id": "FiXX7XqWbomT"
      },
      "source": [
        "shape만 따와서 그 속을 0이나 1로 채움."
      ]
    },
    {
      "cell_type": "markdown",
      "metadata": {
        "id": "l0lN9rHPbxII"
      },
      "source": [
        "## Zip"
      ]
    },
    {
      "cell_type": "code",
      "metadata": {
        "colab": {
          "base_uri": "https://localhost:8080/"
        },
        "id": "X_yDbwZ-bn3X",
        "outputId": "af699654-255f-4b8b-9a7b-519ff96d3459"
      },
      "source": [
        "for x, y in zip([1,2,3], [4,5,6]):\n",
        "  print(x, y)"
      ],
      "execution_count": null,
      "outputs": [
        {
          "output_type": "stream",
          "text": [
            "1 4\n",
            "2 5\n",
            "3 6\n"
          ],
          "name": "stdout"
        }
      ]
    },
    {
      "cell_type": "code",
      "metadata": {
        "colab": {
          "base_uri": "https://localhost:8080/"
        },
        "id": "Tf0j3RqacRjj",
        "outputId": "a8280f1c-d554-4d99-853e-2605a97c3106"
      },
      "source": [
        "for x, y, z in zip([1,2,3], [4,5,6], [7,8,9]):\n",
        "  print(x, y, z)"
      ],
      "execution_count": null,
      "outputs": [
        {
          "output_type": "stream",
          "text": [
            "1 4 7\n",
            "2 5 8\n",
            "3 6 9\n"
          ],
          "name": "stdout"
        }
      ]
    },
    {
      "cell_type": "code",
      "metadata": {
        "id": "1tctj6BrcWhB"
      },
      "source": [
        ""
      ],
      "execution_count": null,
      "outputs": []
    }
  ]
}
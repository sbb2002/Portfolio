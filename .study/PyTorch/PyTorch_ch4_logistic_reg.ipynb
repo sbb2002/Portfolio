{
  "nbformat": 4,
  "nbformat_minor": 0,
  "metadata": {
    "colab": {
      "name": "PyTorch_ch4_logistic_reg.ipynb",
      "provenance": [],
      "authorship_tag": "ABX9TyOSrIuuyvVeWAjviuQctGrF",
      "include_colab_link": true
    },
    "kernelspec": {
      "name": "python3",
      "display_name": "Python 3"
    },
    "language_info": {
      "name": "python"
    }
  },
  "cells": [
    {
      "cell_type": "markdown",
      "metadata": {
        "id": "view-in-github",
        "colab_type": "text"
      },
      "source": [
        "<a href=\"https://colab.research.google.com/github/sbb2002/Portfolio/blob/main/.study/PyTorch/PyTorch_ch4_logistic_reg.ipynb\" target=\"_parent\"><img src=\"https://colab.research.google.com/assets/colab-badge.svg\" alt=\"Open In Colab\"/></a>"
      ]
    },
    {
      "cell_type": "markdown",
      "metadata": {
        "id": "BfX_dWAkXfPW"
      },
      "source": [
        "* Youtube\n",
        "> https://www.youtube.com/watch?v=HgPWRqtg254&list=PLQ28Nx3M4JrhkqBVIXg-i5_CVVoS1UzAv&index=8\n",
        "\n",
        "* GitHub\n",
        "> https://github.com/deeplearningzerotoall/PyTorch/blob/master/lab-05_logistic_classification.ipynb"
      ]
    },
    {
      "cell_type": "markdown",
      "metadata": {
        "id": "5OUU4Hm1ZC_Y"
      },
      "source": [
        "# Logistic regression"
      ]
    },
    {
      "cell_type": "markdown",
      "metadata": {
        "id": "HPRwNMSmZF0G"
      },
      "source": [
        "* Hypothesis\n",
        "> $ H(X) = \\frac{1}{1+e^{-W^{T}X}} $\n",
        "\n",
        "* Cost\n",
        "> $ cost(W) = \\sum y log(H(x)) + (1-y)log(1-H(x)) $ \\\n",
        " * If $y \\approx H(x)$, cost is near 0. \\\n",
        " * If $y \\ncong H(x) $, cost goes out $\\infty$.\\\n",
        "\n",
        "* Weight update via Gradient Descent\n",
        "  > $ \\begin{align*}\n",
        "  W & := W - \\alpha \\frac{\\partial}{\\partial W} cost(W) \\\\\n",
        "  & = W - \\alpha \\nabla_{W} cost(W)\n",
        "  \\end{align*} $ \\\n",
        " * $ \\alpha = $ (Learning rate)"
      ]
    },
    {
      "cell_type": "markdown",
      "metadata": {
        "id": "TH0NoQc7btwS"
      },
      "source": [
        "# Practice"
      ]
    },
    {
      "cell_type": "markdown",
      "metadata": {
        "id": "fX28kCp2bXn-"
      },
      "source": [
        "Imports"
      ]
    },
    {
      "cell_type": "code",
      "metadata": {
        "colab": {
          "base_uri": "https://localhost:8080/"
        },
        "id": "lubza4cPXOgB",
        "outputId": "1d4aeedd-d1ad-4933-e1df-9d3d2472857a"
      },
      "source": [
        "import torch\n",
        "import torch.nn as nn\n",
        "import torch.nn.functional as F\n",
        "import torch.optim as optim\n",
        "\n",
        "torch.manual_seed(1)"
      ],
      "execution_count": null,
      "outputs": [
        {
          "output_type": "execute_result",
          "data": {
            "text/plain": [
              "<torch._C.Generator at 0x7f5e20f3b930>"
            ]
          },
          "metadata": {
            "tags": []
          },
          "execution_count": 1
        }
      ]
    },
    {
      "cell_type": "markdown",
      "metadata": {
        "id": "H9VAOZz_brmf"
      },
      "source": [
        "Training data"
      ]
    },
    {
      "cell_type": "code",
      "metadata": {
        "colab": {
          "base_uri": "https://localhost:8080/"
        },
        "id": "qE8vxxDobiSE",
        "outputId": "aa8a4620-bd77-4e53-c9b4-9a4104818073"
      },
      "source": [
        "x_data = [[1, 2], [2, 3], [3, 1], [4, 3], [5, 3], [6, 2]]\n",
        "y_data = [[0], [0], [0], [1], [1], [1]]\n",
        "\n",
        "x_train = torch.FloatTensor(x_data)\n",
        "y_train = torch.FloatTensor(y_data)\n",
        "\n",
        "print(x_train.shape)\n",
        "print(y_train.shape)\n"
      ],
      "execution_count": null,
      "outputs": [
        {
          "output_type": "stream",
          "text": [
            "torch.Size([6, 2])\n",
            "torch.Size([6, 1])\n"
          ],
          "name": "stdout"
        }
      ]
    },
    {
      "cell_type": "markdown",
      "metadata": {
        "id": "VraeSPdicG_y"
      },
      "source": [
        "Computing the Hypothesis"
      ]
    },
    {
      "cell_type": "code",
      "metadata": {
        "colab": {
          "base_uri": "https://localhost:8080/"
        },
        "id": "LceXuO8ocE7e",
        "outputId": "f170e6f1-319d-4549-f814-edda0b16ab04"
      },
      "source": [
        "print(\"e^(1) equals: \", torch.exp(torch.FloatTensor([1])))"
      ],
      "execution_count": null,
      "outputs": [
        {
          "output_type": "stream",
          "text": [
            "e^(1) equals:  tensor([2.7183])\n"
          ],
          "name": "stdout"
        }
      ]
    },
    {
      "cell_type": "code",
      "metadata": {
        "id": "h7Jmc9wacWcD"
      },
      "source": [
        "W = torch.zeros((2, 1), requires_grad=True)\n",
        "b = torch.zeros(1, requires_grad=True)\n"
      ],
      "execution_count": null,
      "outputs": []
    },
    {
      "cell_type": "code",
      "metadata": {
        "id": "_K8UpliWcjtU"
      },
      "source": [
        "hypothesis = 1 / (1 + torch.exp(-(x_train.matmul(W) + b)))"
      ],
      "execution_count": null,
      "outputs": []
    },
    {
      "cell_type": "code",
      "metadata": {
        "colab": {
          "base_uri": "https://localhost:8080/"
        },
        "id": "4i43FC7gcsR8",
        "outputId": "6a7bc40b-be94-4f9f-d1cf-659175cb03d1"
      },
      "source": [
        "print(hypothesis)\n",
        "print(hypothesis.shape)"
      ],
      "execution_count": null,
      "outputs": [
        {
          "output_type": "stream",
          "text": [
            "tensor([[0.5000],\n",
            "        [0.5000],\n",
            "        [0.5000],\n",
            "        [0.5000],\n",
            "        [0.5000],\n",
            "        [0.5000]], grad_fn=<MulBackward0>)\n",
            "torch.Size([6, 1])\n"
          ],
          "name": "stdout"
        }
      ]
    },
    {
      "cell_type": "code",
      "metadata": {
        "colab": {
          "base_uri": "https://localhost:8080/"
        },
        "id": "-cDy_gtRcu8M",
        "outputId": "6b7c81ad-967f-4e28-f455-a3f89da75e7f"
      },
      "source": [
        "print(\"1/(1+e^(-1)) equals: \", torch.sigmoid(torch.FloatTensor([1])))\n"
      ],
      "execution_count": null,
      "outputs": [
        {
          "output_type": "stream",
          "text": [
            "1/(1+e^(-1)) equals:  tensor([0.7311])\n"
          ],
          "name": "stdout"
        }
      ]
    },
    {
      "cell_type": "code",
      "metadata": {
        "id": "9Y2M4_kMdCdY"
      },
      "source": [
        "hypothesis = torch.sigmoid(x_train.matmul(W) + b)"
      ],
      "execution_count": null,
      "outputs": []
    },
    {
      "cell_type": "code",
      "metadata": {
        "colab": {
          "base_uri": "https://localhost:8080/"
        },
        "id": "3xaqUl5ydIpd",
        "outputId": "6f877ca3-1ee8-460a-a091-8fe7db326cea"
      },
      "source": [
        "print(hypothesis)\n",
        "print(hypothesis.shape)"
      ],
      "execution_count": null,
      "outputs": [
        {
          "output_type": "stream",
          "text": [
            "tensor([[0.5000],\n",
            "        [0.5000],\n",
            "        [0.5000],\n",
            "        [0.5000],\n",
            "        [0.5000],\n",
            "        [0.5000]], grad_fn=<SigmoidBackward>)\n",
            "torch.Size([6, 1])\n"
          ],
          "name": "stdout"
        }
      ]
    },
    {
      "cell_type": "markdown",
      "metadata": {
        "id": "wmleWtFrdj_Q"
      },
      "source": [
        "Computing the cost function"
      ]
    },
    {
      "cell_type": "code",
      "metadata": {
        "colab": {
          "base_uri": "https://localhost:8080/"
        },
        "id": "B85kdBOedLBd",
        "outputId": "de0b8faa-c963-4530-8f3d-a11d4c3db518"
      },
      "source": [
        "losses = -(y_train[0] * torch.log(hypothesis[0]) + (1-y_train[0]) * torch.log(1-hypothesis[0]))\n",
        "print(losses)"
      ],
      "execution_count": null,
      "outputs": [
        {
          "output_type": "stream",
          "text": [
            "tensor([0.6931], grad_fn=<NegBackward>)\n"
          ],
          "name": "stdout"
        }
      ]
    },
    {
      "cell_type": "code",
      "metadata": {
        "colab": {
          "base_uri": "https://localhost:8080/"
        },
        "id": "OJqTl11Ld1eG",
        "outputId": "e608619a-d0d0-43e1-9bb7-7e556b0ff6e7"
      },
      "source": [
        "cost = losses.mean()\n",
        "print(cost)"
      ],
      "execution_count": null,
      "outputs": [
        {
          "output_type": "stream",
          "text": [
            "tensor(0.6931, grad_fn=<MeanBackward0>)\n"
          ],
          "name": "stdout"
        }
      ]
    },
    {
      "cell_type": "code",
      "metadata": {
        "colab": {
          "base_uri": "https://localhost:8080/"
        },
        "id": "2Oc_OZj5eRm8",
        "outputId": "3c54849f-f8e1-4b35-b6d5-266532bafc66"
      },
      "source": [
        "# Torch에서는 위의 모든 것을 한줄로 해결가능하다.\n",
        "F.binary_cross_entropy(hypothesis, y_train)"
      ],
      "execution_count": null,
      "outputs": [
        {
          "output_type": "execute_result",
          "data": {
            "text/plain": [
              "tensor(0.6931, grad_fn=<BinaryCrossEntropyBackward>)"
            ]
          },
          "metadata": {
            "tags": []
          },
          "execution_count": 12
        }
      ]
    },
    {
      "cell_type": "markdown",
      "metadata": {
        "id": "IgS6MMKGeepJ"
      },
      "source": [
        "## Training w/ low-lv. binary cross entropy loss"
      ]
    },
    {
      "cell_type": "code",
      "metadata": {
        "id": "IpAVjmx0eciF"
      },
      "source": [
        "x_data = [[1, 2], [2, 3], [3, 1], [4, 3], [5, 3], [6, 2]]\n",
        "y_data = [[0], [0], [0], [1], [1], [1]]\n",
        "\n",
        "x_train = torch.FloatTensor(x_data)\n",
        "y_train = torch.FloatTensor(y_data)"
      ],
      "execution_count": null,
      "outputs": []
    },
    {
      "cell_type": "code",
      "metadata": {
        "colab": {
          "base_uri": "https://localhost:8080/"
        },
        "id": "oawre715esxu",
        "outputId": "54d27fdb-1124-4029-cd8b-2ae98f746d24"
      },
      "source": [
        "# model initialize & set opt\n",
        "W = torch.zeros((2, 1), requires_grad=True)\n",
        "b = torch.zeros(1, requires_grad=True)\n",
        "optimizer = optim.SGD([W, b], lr=1)\n",
        "\n",
        "nb_epochs = 1000\n",
        "for epoch in range(nb_epochs + 1):\n",
        "  # cost 계산\n",
        "  hypothesis = torch.sigmoid(x_train.matmul(W) + b)\n",
        "  cost = -(y_train * torch.log(hypothesis) + (1-y_train) * torch.log(1-hypothesis)).mean()\n",
        "\n",
        "  # cost로 H(x) 개선\n",
        "  optimizer.zero_grad()\n",
        "  cost.backward()\n",
        "  optimizer.step()\n",
        "\n",
        "  if epoch % 100 == 0:\n",
        "    print(\"Epoch {:4d}/{} Cost: {:.6f}\".format(epoch, nb_epochs, cost.item()))\n",
        "\n"
      ],
      "execution_count": null,
      "outputs": [
        {
          "output_type": "stream",
          "text": [
            "Epoch    0/1000 Cost: 0.693147\n",
            "Epoch  100/1000 Cost: 0.134722\n",
            "Epoch  200/1000 Cost: 0.080643\n",
            "Epoch  300/1000 Cost: 0.057900\n",
            "Epoch  400/1000 Cost: 0.045300\n",
            "Epoch  500/1000 Cost: 0.037261\n",
            "Epoch  600/1000 Cost: 0.031673\n",
            "Epoch  700/1000 Cost: 0.027556\n",
            "Epoch  800/1000 Cost: 0.024394\n",
            "Epoch  900/1000 Cost: 0.021888\n",
            "Epoch 1000/1000 Cost: 0.019852\n"
          ],
          "name": "stdout"
        }
      ]
    },
    {
      "cell_type": "code",
      "metadata": {
        "colab": {
          "base_uri": "https://localhost:8080/"
        },
        "id": "GOCu53JLfeqh",
        "outputId": "095d9b45-7159-4670-e142-e30ec60354cd"
      },
      "source": [
        "# evaluation (여기서는 test-set을 주지 않았으므로 train-set 그대로 evaluate함.)\n",
        "print(\"Cost: \")\n",
        "print(hypothesis[:5])\n",
        "\n",
        "print(\"Pred. and Real: \")\n",
        "prediction = hypothesis >= torch.FloatTensor([0.5])\n",
        "print(prediction[:5])\n",
        "print(y_train[:5])"
      ],
      "execution_count": null,
      "outputs": [
        {
          "output_type": "stream",
          "text": [
            "Cost: \n",
            "tensor([[2.7711e-04],\n",
            "        [3.1636e-02],\n",
            "        [3.9014e-02],\n",
            "        [9.5618e-01],\n",
            "        [9.9823e-01]], grad_fn=<SliceBackward>)\n",
            "Pred. and Real: \n",
            "tensor([[False],\n",
            "        [False],\n",
            "        [False],\n",
            "        [ True],\n",
            "        [ True]])\n",
            "tensor([[0.],\n",
            "        [0.],\n",
            "        [0.],\n",
            "        [1.],\n",
            "        [1.]])\n"
          ],
          "name": "stdout"
        }
      ]
    },
    {
      "cell_type": "code",
      "metadata": {
        "colab": {
          "base_uri": "https://localhost:8080/"
        },
        "id": "Uetw9w2lgHqX",
        "outputId": "a7c8bba4-2d01-4ade-b6a6-ad86d1fd4c0c"
      },
      "source": [
        "correct_prediction = prediction.float() == y_train\n",
        "print(correct_prediction[:5])   # prediction이 real-value와 같으면 T / 아니면 F"
      ],
      "execution_count": null,
      "outputs": [
        {
          "output_type": "stream",
          "text": [
            "tensor([[True],\n",
            "        [True],\n",
            "        [True],\n",
            "        [True],\n",
            "        [True]])\n"
          ],
          "name": "stdout"
        }
      ]
    },
    {
      "cell_type": "markdown",
      "metadata": {
        "id": "A-5m3Y9hg_Bp"
      },
      "source": [
        "## Hi-lv. implementation w/ Class"
      ]
    },
    {
      "cell_type": "code",
      "metadata": {
        "id": "7qGP__BOg49O"
      },
      "source": [
        "class BinaryClassifier(nn.Module):\n",
        "  def __init__(self, ):\n",
        "    '''\n",
        "    이 class를 활용하려면 반드시 x_train, y_train을 정의해야 하며, 아래와 같은 shape을 가져야합니다.\n",
        "      * x_train의 shape=(rows, features)\n",
        "      * y_train의 shape=(rows, 1 feature)\n",
        "      ... 라고 써놓으면 될 듯하다.\n",
        "    '''\n",
        "    super().__init__()\n",
        "    self.linear = nn.Linear(x_train.shape[1], y_train.shape[1])   # input cols, output cols\n",
        "    self.sigmoid = nn.Sigmoid()\n",
        "\n",
        "  def forward(self, x):\n",
        "    return self.sigmoid(self.linear(x))"
      ],
      "execution_count": null,
      "outputs": []
    },
    {
      "cell_type": "code",
      "metadata": {
        "id": "Qjo5dpO0hSHg"
      },
      "source": [
        "model = BinaryClassifier()"
      ],
      "execution_count": null,
      "outputs": []
    },
    {
      "cell_type": "code",
      "metadata": {
        "colab": {
          "base_uri": "https://localhost:8080/"
        },
        "id": "6dpKI0kwhb9f",
        "outputId": "6b4d0a87-b51b-4bed-dbdb-6ca005dc9baf"
      },
      "source": [
        "# set opt\n",
        "optimizer = optim.SGD(model.parameters(), lr=1)\n",
        "\n",
        "nb_epochs = 1000\n",
        "for epoch in range(nb_epochs + 1):\n",
        "  hypothesis = model(x_train)\n",
        "  cost = F.binary_cross_entropy(hypothesis, y_train)\n",
        "\n",
        "  optimizer.zero_grad()\n",
        "  cost.backward()\n",
        "  optimizer.step()\n",
        "\n",
        "  if epoch % 10 == 0:\n",
        "    prediction = hypothesis >= torch.FloatTensor([0.5])\n",
        "    correct_prediction = prediction.float() == y_train\n",
        "    accuracy = correct_prediction.sum().item() / len(correct_prediction)\n",
        "    print(\"Epoch {:4d}/{} Cost: {:.6f} Accuracy: {:2.2f}%\".format(epoch, nb_epochs, cost.item(), accuracy * 100))"
      ],
      "execution_count": null,
      "outputs": [
        {
          "output_type": "stream",
          "text": [
            "Epoch    0/1000 Cost: 0.539713 Accuracy: 83.33%\n",
            "Epoch   10/1000 Cost: 0.614853 Accuracy: 66.67%\n",
            "Epoch   20/1000 Cost: 0.441875 Accuracy: 66.67%\n",
            "Epoch   30/1000 Cost: 0.373145 Accuracy: 83.33%\n",
            "Epoch   40/1000 Cost: 0.316358 Accuracy: 83.33%\n",
            "Epoch   50/1000 Cost: 0.266094 Accuracy: 83.33%\n",
            "Epoch   60/1000 Cost: 0.220498 Accuracy: 100.00%\n",
            "Epoch   70/1000 Cost: 0.182095 Accuracy: 100.00%\n",
            "Epoch   80/1000 Cost: 0.157299 Accuracy: 100.00%\n",
            "Epoch   90/1000 Cost: 0.144091 Accuracy: 100.00%\n",
            "Epoch  100/1000 Cost: 0.134272 Accuracy: 100.00%\n",
            "Epoch  110/1000 Cost: 0.125769 Accuracy: 100.00%\n",
            "Epoch  120/1000 Cost: 0.118297 Accuracy: 100.00%\n",
            "Epoch  130/1000 Cost: 0.111680 Accuracy: 100.00%\n",
            "Epoch  140/1000 Cost: 0.105779 Accuracy: 100.00%\n",
            "Epoch  150/1000 Cost: 0.100483 Accuracy: 100.00%\n",
            "Epoch  160/1000 Cost: 0.095704 Accuracy: 100.00%\n",
            "Epoch  170/1000 Cost: 0.091369 Accuracy: 100.00%\n",
            "Epoch  180/1000 Cost: 0.087420 Accuracy: 100.00%\n",
            "Epoch  190/1000 Cost: 0.083806 Accuracy: 100.00%\n",
            "Epoch  200/1000 Cost: 0.080486 Accuracy: 100.00%\n",
            "Epoch  210/1000 Cost: 0.077425 Accuracy: 100.00%\n",
            "Epoch  220/1000 Cost: 0.074595 Accuracy: 100.00%\n",
            "Epoch  230/1000 Cost: 0.071969 Accuracy: 100.00%\n",
            "Epoch  240/1000 Cost: 0.069526 Accuracy: 100.00%\n",
            "Epoch  250/1000 Cost: 0.067248 Accuracy: 100.00%\n",
            "Epoch  260/1000 Cost: 0.065118 Accuracy: 100.00%\n",
            "Epoch  270/1000 Cost: 0.063122 Accuracy: 100.00%\n",
            "Epoch  280/1000 Cost: 0.061247 Accuracy: 100.00%\n",
            "Epoch  290/1000 Cost: 0.059483 Accuracy: 100.00%\n",
            "Epoch  300/1000 Cost: 0.057820 Accuracy: 100.00%\n",
            "Epoch  310/1000 Cost: 0.056250 Accuracy: 100.00%\n",
            "Epoch  320/1000 Cost: 0.054764 Accuracy: 100.00%\n",
            "Epoch  330/1000 Cost: 0.053357 Accuracy: 100.00%\n",
            "Epoch  340/1000 Cost: 0.052022 Accuracy: 100.00%\n",
            "Epoch  350/1000 Cost: 0.050753 Accuracy: 100.00%\n",
            "Epoch  360/1000 Cost: 0.049546 Accuracy: 100.00%\n",
            "Epoch  370/1000 Cost: 0.048396 Accuracy: 100.00%\n",
            "Epoch  380/1000 Cost: 0.047299 Accuracy: 100.00%\n",
            "Epoch  390/1000 Cost: 0.046252 Accuracy: 100.00%\n",
            "Epoch  400/1000 Cost: 0.045251 Accuracy: 100.00%\n",
            "Epoch  410/1000 Cost: 0.044294 Accuracy: 100.00%\n",
            "Epoch  420/1000 Cost: 0.043376 Accuracy: 100.00%\n",
            "Epoch  430/1000 Cost: 0.042497 Accuracy: 100.00%\n",
            "Epoch  440/1000 Cost: 0.041653 Accuracy: 100.00%\n",
            "Epoch  450/1000 Cost: 0.040843 Accuracy: 100.00%\n",
            "Epoch  460/1000 Cost: 0.040064 Accuracy: 100.00%\n",
            "Epoch  470/1000 Cost: 0.039315 Accuracy: 100.00%\n",
            "Epoch  480/1000 Cost: 0.038593 Accuracy: 100.00%\n",
            "Epoch  490/1000 Cost: 0.037898 Accuracy: 100.00%\n",
            "Epoch  500/1000 Cost: 0.037228 Accuracy: 100.00%\n",
            "Epoch  510/1000 Cost: 0.036582 Accuracy: 100.00%\n",
            "Epoch  520/1000 Cost: 0.035958 Accuracy: 100.00%\n",
            "Epoch  530/1000 Cost: 0.035356 Accuracy: 100.00%\n",
            "Epoch  540/1000 Cost: 0.034773 Accuracy: 100.00%\n",
            "Epoch  550/1000 Cost: 0.034210 Accuracy: 100.00%\n",
            "Epoch  560/1000 Cost: 0.033664 Accuracy: 100.00%\n",
            "Epoch  570/1000 Cost: 0.033137 Accuracy: 100.00%\n",
            "Epoch  580/1000 Cost: 0.032625 Accuracy: 100.00%\n",
            "Epoch  590/1000 Cost: 0.032130 Accuracy: 100.00%\n",
            "Epoch  600/1000 Cost: 0.031649 Accuracy: 100.00%\n",
            "Epoch  610/1000 Cost: 0.031183 Accuracy: 100.00%\n",
            "Epoch  620/1000 Cost: 0.030730 Accuracy: 100.00%\n",
            "Epoch  630/1000 Cost: 0.030291 Accuracy: 100.00%\n",
            "Epoch  640/1000 Cost: 0.029864 Accuracy: 100.00%\n",
            "Epoch  650/1000 Cost: 0.029449 Accuracy: 100.00%\n",
            "Epoch  660/1000 Cost: 0.029046 Accuracy: 100.00%\n",
            "Epoch  670/1000 Cost: 0.028654 Accuracy: 100.00%\n",
            "Epoch  680/1000 Cost: 0.028272 Accuracy: 100.00%\n",
            "Epoch  690/1000 Cost: 0.027900 Accuracy: 100.00%\n",
            "Epoch  700/1000 Cost: 0.027538 Accuracy: 100.00%\n",
            "Epoch  710/1000 Cost: 0.027186 Accuracy: 100.00%\n",
            "Epoch  720/1000 Cost: 0.026842 Accuracy: 100.00%\n",
            "Epoch  730/1000 Cost: 0.026507 Accuracy: 100.00%\n",
            "Epoch  740/1000 Cost: 0.026181 Accuracy: 100.00%\n",
            "Epoch  750/1000 Cost: 0.025862 Accuracy: 100.00%\n",
            "Epoch  760/1000 Cost: 0.025552 Accuracy: 100.00%\n",
            "Epoch  770/1000 Cost: 0.025248 Accuracy: 100.00%\n",
            "Epoch  780/1000 Cost: 0.024952 Accuracy: 100.00%\n",
            "Epoch  790/1000 Cost: 0.024663 Accuracy: 100.00%\n",
            "Epoch  800/1000 Cost: 0.024381 Accuracy: 100.00%\n",
            "Epoch  810/1000 Cost: 0.024104 Accuracy: 100.00%\n",
            "Epoch  820/1000 Cost: 0.023835 Accuracy: 100.00%\n",
            "Epoch  830/1000 Cost: 0.023571 Accuracy: 100.00%\n",
            "Epoch  840/1000 Cost: 0.023313 Accuracy: 100.00%\n",
            "Epoch  850/1000 Cost: 0.023061 Accuracy: 100.00%\n",
            "Epoch  860/1000 Cost: 0.022814 Accuracy: 100.00%\n",
            "Epoch  870/1000 Cost: 0.022572 Accuracy: 100.00%\n",
            "Epoch  880/1000 Cost: 0.022336 Accuracy: 100.00%\n",
            "Epoch  890/1000 Cost: 0.022104 Accuracy: 100.00%\n",
            "Epoch  900/1000 Cost: 0.021877 Accuracy: 100.00%\n",
            "Epoch  910/1000 Cost: 0.021655 Accuracy: 100.00%\n",
            "Epoch  920/1000 Cost: 0.021437 Accuracy: 100.00%\n",
            "Epoch  930/1000 Cost: 0.021224 Accuracy: 100.00%\n",
            "Epoch  940/1000 Cost: 0.021015 Accuracy: 100.00%\n",
            "Epoch  950/1000 Cost: 0.020810 Accuracy: 100.00%\n",
            "Epoch  960/1000 Cost: 0.020609 Accuracy: 100.00%\n",
            "Epoch  970/1000 Cost: 0.020412 Accuracy: 100.00%\n",
            "Epoch  980/1000 Cost: 0.020219 Accuracy: 100.00%\n",
            "Epoch  990/1000 Cost: 0.020029 Accuracy: 100.00%\n",
            "Epoch 1000/1000 Cost: 0.019843 Accuracy: 100.00%\n"
          ],
          "name": "stdout"
        }
      ]
    },
    {
      "cell_type": "markdown",
      "metadata": {
        "id": "uY_RxSXzkAXd"
      },
      "source": [
        "I can predict conviniently another example using 'class'."
      ]
    },
    {
      "cell_type": "code",
      "metadata": {
        "colab": {
          "base_uri": "https://localhost:8080/"
        },
        "id": "oWjKSN6NkLJR",
        "outputId": "0f783ab7-e70f-4636-c0ab-03c1429890d7"
      },
      "source": [
        "!git clone https://github.com/deeplearningzerotoall/PyTorch"
      ],
      "execution_count": null,
      "outputs": [
        {
          "output_type": "stream",
          "text": [
            "Cloning into 'PyTorch'...\n",
            "remote: Enumerating objects: 1899, done.\u001b[K\n",
            "remote: Total 1899 (delta 0), reused 0 (delta 0), pack-reused 1899\u001b[K\n",
            "Receiving objects: 100% (1899/1899), 80.33 MiB | 40.60 MiB/s, done.\n",
            "Resolving deltas: 100% (242/242), done.\n"
          ],
          "name": "stdout"
        }
      ]
    },
    {
      "cell_type": "code",
      "metadata": {
        "colab": {
          "base_uri": "https://localhost:8080/"
        },
        "id": "xYS7zUSJialx",
        "outputId": "c8df2333-787f-4cca-98e8-3310adca59e0"
      },
      "source": [
        "!find -name data-03-diabetes.csv"
      ],
      "execution_count": null,
      "outputs": [
        {
          "output_type": "stream",
          "text": [
            "./PyTorch/data-03-diabetes.csv\n"
          ],
          "name": "stdout"
        }
      ]
    },
    {
      "cell_type": "code",
      "metadata": {
        "id": "uOpMdM5tkTLn"
      },
      "source": [
        "import numpy as np\n",
        "\n",
        "xy = np.loadtxt('./PyTorch/data-03-diabetes.csv', delimiter=',', dtype=np.float32)\n",
        "\n",
        "# 1~8 col: input, 9 col: label(real_output)\n",
        "x_data = xy[:, :-1]\n",
        "y_data = xy[:, [-1]]\n",
        "x_train = torch.FloatTensor(x_data)\n",
        "y_train = torch.FloatTensor(y_data)"
      ],
      "execution_count": null,
      "outputs": []
    },
    {
      "cell_type": "code",
      "metadata": {
        "id": "hkQEB6plkdIo"
      },
      "source": [
        "model = BinaryClassifier()"
      ],
      "execution_count": null,
      "outputs": []
    },
    {
      "cell_type": "code",
      "metadata": {
        "colab": {
          "base_uri": "https://localhost:8080/"
        },
        "id": "f86L0oPqkd6I",
        "outputId": "c17c4163-f324-4432-b7b1-7e7c6c06b558"
      },
      "source": [
        "# set opt\n",
        "optimizer = optim.SGD(model.parameters(), lr=1)\n",
        "\n",
        "nb_epochs = 1000\n",
        "for epoch in range(nb_epochs + 1):\n",
        "  hypothesis = model(x_train)\n",
        "  cost = F.binary_cross_entropy(hypothesis, y_train)\n",
        "\n",
        "  optimizer.zero_grad()\n",
        "  cost.backward()\n",
        "  optimizer.step()\n",
        "\n",
        "  if epoch % 10 == 0:\n",
        "    prediction = hypothesis >= torch.FloatTensor([0.5])\n",
        "    correct_prediction = prediction.float() == y_train\n",
        "    accuracy = correct_prediction.sum().item() / len(correct_prediction)\n",
        "    print(\"Epoch {:4d}/{} Cost: {:.6f} Accuracy: {:2.2f}%\".format(epoch, nb_epochs, cost.item(), accuracy * 100))"
      ],
      "execution_count": null,
      "outputs": [
        {
          "output_type": "stream",
          "text": [
            "Epoch    0/1000 Cost: 0.712866 Accuracy: 40.32%\n",
            "Epoch   10/1000 Cost: 0.563852 Accuracy: 67.72%\n",
            "Epoch   20/1000 Cost: 0.532828 Accuracy: 74.18%\n",
            "Epoch   30/1000 Cost: 0.514798 Accuracy: 75.76%\n",
            "Epoch   40/1000 Cost: 0.503438 Accuracy: 77.08%\n",
            "Epoch   50/1000 Cost: 0.495832 Accuracy: 77.60%\n",
            "Epoch   60/1000 Cost: 0.490505 Accuracy: 77.47%\n",
            "Epoch   70/1000 Cost: 0.486647 Accuracy: 77.47%\n",
            "Epoch   80/1000 Cost: 0.483778 Accuracy: 76.55%\n",
            "Epoch   90/1000 Cost: 0.481599 Accuracy: 76.55%\n",
            "Epoch  100/1000 Cost: 0.479915 Accuracy: 76.81%\n",
            "Epoch  110/1000 Cost: 0.478595 Accuracy: 77.21%\n",
            "Epoch  120/1000 Cost: 0.477546 Accuracy: 77.21%\n",
            "Epoch  130/1000 Cost: 0.476702 Accuracy: 77.21%\n",
            "Epoch  140/1000 Cost: 0.476015 Accuracy: 77.21%\n",
            "Epoch  150/1000 Cost: 0.475451 Accuracy: 77.08%\n",
            "Epoch  160/1000 Cost: 0.474984 Accuracy: 77.08%\n",
            "Epoch  170/1000 Cost: 0.474593 Accuracy: 77.08%\n",
            "Epoch  180/1000 Cost: 0.474263 Accuracy: 77.21%\n",
            "Epoch  190/1000 Cost: 0.473982 Accuracy: 77.34%\n",
            "Epoch  200/1000 Cost: 0.473741 Accuracy: 77.34%\n",
            "Epoch  210/1000 Cost: 0.473533 Accuracy: 77.34%\n",
            "Epoch  220/1000 Cost: 0.473353 Accuracy: 77.34%\n",
            "Epoch  230/1000 Cost: 0.473195 Accuracy: 77.34%\n",
            "Epoch  240/1000 Cost: 0.473056 Accuracy: 77.34%\n",
            "Epoch  250/1000 Cost: 0.472933 Accuracy: 77.34%\n",
            "Epoch  260/1000 Cost: 0.472824 Accuracy: 77.34%\n",
            "Epoch  270/1000 Cost: 0.472726 Accuracy: 77.34%\n",
            "Epoch  280/1000 Cost: 0.472638 Accuracy: 77.34%\n",
            "Epoch  290/1000 Cost: 0.472560 Accuracy: 77.21%\n",
            "Epoch  300/1000 Cost: 0.472488 Accuracy: 77.21%\n",
            "Epoch  310/1000 Cost: 0.472424 Accuracy: 77.21%\n",
            "Epoch  320/1000 Cost: 0.472365 Accuracy: 77.08%\n",
            "Epoch  330/1000 Cost: 0.472312 Accuracy: 77.08%\n",
            "Epoch  340/1000 Cost: 0.472263 Accuracy: 77.08%\n",
            "Epoch  350/1000 Cost: 0.472219 Accuracy: 77.08%\n",
            "Epoch  360/1000 Cost: 0.472178 Accuracy: 77.08%\n",
            "Epoch  370/1000 Cost: 0.472140 Accuracy: 77.08%\n",
            "Epoch  380/1000 Cost: 0.472106 Accuracy: 77.08%\n",
            "Epoch  390/1000 Cost: 0.472074 Accuracy: 77.08%\n",
            "Epoch  400/1000 Cost: 0.472045 Accuracy: 77.08%\n",
            "Epoch  410/1000 Cost: 0.472018 Accuracy: 77.08%\n",
            "Epoch  420/1000 Cost: 0.471993 Accuracy: 77.08%\n",
            "Epoch  430/1000 Cost: 0.471969 Accuracy: 77.08%\n",
            "Epoch  440/1000 Cost: 0.471948 Accuracy: 76.94%\n",
            "Epoch  450/1000 Cost: 0.471928 Accuracy: 76.94%\n",
            "Epoch  460/1000 Cost: 0.471910 Accuracy: 76.94%\n",
            "Epoch  470/1000 Cost: 0.471893 Accuracy: 76.94%\n",
            "Epoch  480/1000 Cost: 0.471878 Accuracy: 76.94%\n",
            "Epoch  490/1000 Cost: 0.471863 Accuracy: 76.94%\n",
            "Epoch  500/1000 Cost: 0.471849 Accuracy: 76.94%\n",
            "Epoch  510/1000 Cost: 0.471837 Accuracy: 76.94%\n",
            "Epoch  520/1000 Cost: 0.471825 Accuracy: 76.94%\n",
            "Epoch  530/1000 Cost: 0.471814 Accuracy: 76.94%\n",
            "Epoch  540/1000 Cost: 0.471804 Accuracy: 76.94%\n",
            "Epoch  550/1000 Cost: 0.471795 Accuracy: 76.94%\n",
            "Epoch  560/1000 Cost: 0.471786 Accuracy: 76.81%\n",
            "Epoch  570/1000 Cost: 0.471778 Accuracy: 76.81%\n",
            "Epoch  580/1000 Cost: 0.471771 Accuracy: 76.81%\n",
            "Epoch  590/1000 Cost: 0.471764 Accuracy: 76.94%\n",
            "Epoch  600/1000 Cost: 0.471757 Accuracy: 76.94%\n",
            "Epoch  610/1000 Cost: 0.471751 Accuracy: 76.94%\n",
            "Epoch  620/1000 Cost: 0.471746 Accuracy: 76.94%\n",
            "Epoch  630/1000 Cost: 0.471741 Accuracy: 76.94%\n",
            "Epoch  640/1000 Cost: 0.471736 Accuracy: 76.94%\n",
            "Epoch  650/1000 Cost: 0.471731 Accuracy: 76.94%\n",
            "Epoch  660/1000 Cost: 0.471727 Accuracy: 76.94%\n",
            "Epoch  670/1000 Cost: 0.471723 Accuracy: 76.94%\n",
            "Epoch  680/1000 Cost: 0.471720 Accuracy: 76.94%\n",
            "Epoch  690/1000 Cost: 0.471716 Accuracy: 76.81%\n",
            "Epoch  700/1000 Cost: 0.471713 Accuracy: 76.81%\n",
            "Epoch  710/1000 Cost: 0.471710 Accuracy: 76.81%\n",
            "Epoch  720/1000 Cost: 0.471707 Accuracy: 76.81%\n",
            "Epoch  730/1000 Cost: 0.471705 Accuracy: 76.81%\n",
            "Epoch  740/1000 Cost: 0.471703 Accuracy: 76.94%\n",
            "Epoch  750/1000 Cost: 0.471700 Accuracy: 76.94%\n",
            "Epoch  760/1000 Cost: 0.471698 Accuracy: 76.94%\n",
            "Epoch  770/1000 Cost: 0.471696 Accuracy: 76.94%\n",
            "Epoch  780/1000 Cost: 0.471695 Accuracy: 76.94%\n",
            "Epoch  790/1000 Cost: 0.471693 Accuracy: 76.94%\n",
            "Epoch  800/1000 Cost: 0.471692 Accuracy: 76.94%\n",
            "Epoch  810/1000 Cost: 0.471690 Accuracy: 76.94%\n",
            "Epoch  820/1000 Cost: 0.471689 Accuracy: 76.94%\n",
            "Epoch  830/1000 Cost: 0.471687 Accuracy: 76.94%\n",
            "Epoch  840/1000 Cost: 0.471686 Accuracy: 76.94%\n",
            "Epoch  850/1000 Cost: 0.471685 Accuracy: 76.94%\n",
            "Epoch  860/1000 Cost: 0.471684 Accuracy: 76.94%\n",
            "Epoch  870/1000 Cost: 0.471683 Accuracy: 76.94%\n",
            "Epoch  880/1000 Cost: 0.471682 Accuracy: 76.94%\n",
            "Epoch  890/1000 Cost: 0.471682 Accuracy: 76.94%\n",
            "Epoch  900/1000 Cost: 0.471681 Accuracy: 76.94%\n",
            "Epoch  910/1000 Cost: 0.471680 Accuracy: 76.94%\n",
            "Epoch  920/1000 Cost: 0.471680 Accuracy: 76.94%\n",
            "Epoch  930/1000 Cost: 0.471679 Accuracy: 76.94%\n",
            "Epoch  940/1000 Cost: 0.471678 Accuracy: 76.94%\n",
            "Epoch  950/1000 Cost: 0.471678 Accuracy: 76.94%\n",
            "Epoch  960/1000 Cost: 0.471677 Accuracy: 76.94%\n",
            "Epoch  970/1000 Cost: 0.471677 Accuracy: 76.94%\n",
            "Epoch  980/1000 Cost: 0.471676 Accuracy: 76.94%\n",
            "Epoch  990/1000 Cost: 0.471676 Accuracy: 76.94%\n",
            "Epoch 1000/1000 Cost: 0.471676 Accuracy: 76.94%\n"
          ],
          "name": "stdout"
        }
      ]
    },
    {
      "cell_type": "code",
      "metadata": {
        "id": "_TqAwwxVmJqB"
      },
      "source": [
        ""
      ],
      "execution_count": null,
      "outputs": []
    }
  ]
}
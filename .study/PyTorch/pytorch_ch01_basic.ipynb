{
  "nbformat": 4,
  "nbformat_minor": 0,
  "metadata": {
    "colab": {
      "name": "pytorch_ch01_basic.ipynb",
      "provenance": [],
      "collapsed_sections": [],
      "toc_visible": true,
      "authorship_tag": "ABX9TyOTkd+ie6NGklY6AwgAagEF",
      "include_colab_link": true
    },
    "kernelspec": {
      "name": "python3",
      "display_name": "Python 3"
    },
    "language_info": {
      "name": "python"
    }
  },
  "cells": [
    {
      "cell_type": "markdown",
      "metadata": {
        "id": "view-in-github",
        "colab_type": "text"
      },
      "source": [
        "<a href=\"https://colab.research.google.com/github/sbb2002/Portfolio/blob/main/.study/PyTorch/pytorch_ch01_basic.ipynb\" target=\"_parent\"><img src=\"https://colab.research.google.com/assets/colab-badge.svg\" alt=\"Open In Colab\"/></a>"
      ]
    },
    {
      "cell_type": "markdown",
      "metadata": {
        "id": "SGgU0JDqCfYG"
      },
      "source": [
        "# Tensor"
      ]
    },
    {
      "cell_type": "markdown",
      "metadata": {
        "id": "PQPLS5OWCiBJ"
      },
      "source": [
        "1D는 선이고, 2D는 평면이고, 3D는 정육면체, 4D는 테서랙트(초입방체)... 나에게는 아주 익숙한 단어들이다. 그런데 여기서도 텐서를 표시하다보니 6D까지 확장되는 일이 있기도 하다. 어쨌든 NN 분야에서 3D 텐서는 다음과 같은 특징을 갖는다.\n",
        "> $\n",
        "|t| = \\text{(batch_size, width, height) at typical vision} \\\n",
        "= \\text{(batch_size, length, dim) at NN}\n",
        " $"
      ]
    },
    {
      "cell_type": "markdown",
      "metadata": {
        "id": "H1UISc0dEAms"
      },
      "source": [
        "## Setting"
      ]
    },
    {
      "cell_type": "code",
      "metadata": {
        "colab": {
          "base_uri": "https://localhost:8080/"
        },
        "id": "87TjA53BBC19",
        "outputId": "ffb6980b-b070-41c4-cb4a-4b3bce06d2a3"
      },
      "source": [
        "!git clone https://github.com/sbb2002/PyTorch.git"
      ],
      "execution_count": null,
      "outputs": [
        {
          "output_type": "stream",
          "text": [
            "Cloning into 'PyTorch'...\n",
            "remote: Enumerating objects: 1899, done.\u001b[K\n",
            "remote: Total 1899 (delta 0), reused 0 (delta 0), pack-reused 1899\u001b[K\n",
            "Receiving objects: 100% (1899/1899), 80.33 MiB | 25.48 MiB/s, done.\n",
            "Resolving deltas: 100% (242/242), done.\n"
          ],
          "name": "stdout"
        }
      ]
    },
    {
      "cell_type": "code",
      "metadata": {
        "colab": {
          "base_uri": "https://localhost:8080/"
        },
        "id": "XC8PBDPnDzxn",
        "outputId": "6ab22045-7908-4020-8bc2-d94f232fc6be"
      },
      "source": [
        "!find -name requirements.txt"
      ],
      "execution_count": null,
      "outputs": [
        {
          "output_type": "stream",
          "text": [
            "./PyTorch/requirements.txt\n"
          ],
          "name": "stdout"
        }
      ]
    },
    {
      "cell_type": "code",
      "metadata": {
        "colab": {
          "base_uri": "https://localhost:8080/"
        },
        "id": "uDL0ayP6D7R1",
        "outputId": "164ea43c-76f8-4e9d-b1c4-518f4802e7dd"
      },
      "source": [
        "!pip install -r ./PyTorch/requirements.txt"
      ],
      "execution_count": null,
      "outputs": [
        {
          "output_type": "stream",
          "text": [
            "Requirement already satisfied: numpy in /usr/local/lib/python3.7/dist-packages (from -r ./PyTorch/requirements.txt (line 1)) (1.19.5)\n",
            "Requirement already satisfied: pandas in /usr/local/lib/python3.7/dist-packages (from -r ./PyTorch/requirements.txt (line 2)) (1.1.5)\n",
            "Requirement already satisfied: matplotlib in /usr/local/lib/python3.7/dist-packages (from -r ./PyTorch/requirements.txt (line 3)) (3.2.2)\n",
            "Collecting visdom\n",
            "\u001b[?25l  Downloading https://files.pythonhosted.org/packages/c9/75/e078f5a2e1df7e0d3044749089fc2823e62d029cc027ed8ae5d71fafcbdc/visdom-0.1.8.9.tar.gz (676kB)\n",
            "\u001b[K     |████████████████████████████████| 686kB 2.8MB/s \n",
            "\u001b[?25hRequirement already satisfied: pytz>=2017.2 in /usr/local/lib/python3.7/dist-packages (from pandas->-r ./PyTorch/requirements.txt (line 2)) (2018.9)\n",
            "Requirement already satisfied: python-dateutil>=2.7.3 in /usr/local/lib/python3.7/dist-packages (from pandas->-r ./PyTorch/requirements.txt (line 2)) (2.8.1)\n",
            "Requirement already satisfied: pyparsing!=2.0.4,!=2.1.2,!=2.1.6,>=2.0.1 in /usr/local/lib/python3.7/dist-packages (from matplotlib->-r ./PyTorch/requirements.txt (line 3)) (2.4.7)\n",
            "Requirement already satisfied: cycler>=0.10 in /usr/local/lib/python3.7/dist-packages (from matplotlib->-r ./PyTorch/requirements.txt (line 3)) (0.10.0)\n",
            "Requirement already satisfied: kiwisolver>=1.0.1 in /usr/local/lib/python3.7/dist-packages (from matplotlib->-r ./PyTorch/requirements.txt (line 3)) (1.3.1)\n",
            "Requirement already satisfied: scipy in /usr/local/lib/python3.7/dist-packages (from visdom->-r ./PyTorch/requirements.txt (line 4)) (1.4.1)\n",
            "Requirement already satisfied: requests in /usr/local/lib/python3.7/dist-packages (from visdom->-r ./PyTorch/requirements.txt (line 4)) (2.23.0)\n",
            "Requirement already satisfied: tornado in /usr/local/lib/python3.7/dist-packages (from visdom->-r ./PyTorch/requirements.txt (line 4)) (5.1.1)\n",
            "Requirement already satisfied: pyzmq in /usr/local/lib/python3.7/dist-packages (from visdom->-r ./PyTorch/requirements.txt (line 4)) (22.0.3)\n",
            "Requirement already satisfied: six in /usr/local/lib/python3.7/dist-packages (from visdom->-r ./PyTorch/requirements.txt (line 4)) (1.15.0)\n",
            "Collecting jsonpatch\n",
            "  Downloading https://files.pythonhosted.org/packages/a3/55/f7c93bae36d869292aedfbcbae8b091386194874f16390d680136edd2b28/jsonpatch-1.32-py2.py3-none-any.whl\n",
            "Collecting torchfile\n",
            "  Downloading https://files.pythonhosted.org/packages/91/af/5b305f86f2d218091af657ddb53f984ecbd9518ca9fe8ef4103a007252c9/torchfile-0.1.0.tar.gz\n",
            "Collecting websocket-client\n",
            "\u001b[?25l  Downloading https://files.pythonhosted.org/packages/85/ee/7aa724dc2dbed9b028f463eada5482770c13b7381a0c79457d12b3b62de2/websocket_client-1.0.1-py2.py3-none-any.whl (68kB)\n",
            "\u001b[K     |████████████████████████████████| 71kB 6.3MB/s \n",
            "\u001b[?25hRequirement already satisfied: pillow in /usr/local/lib/python3.7/dist-packages (from visdom->-r ./PyTorch/requirements.txt (line 4)) (7.1.2)\n",
            "Requirement already satisfied: idna<3,>=2.5 in /usr/local/lib/python3.7/dist-packages (from requests->visdom->-r ./PyTorch/requirements.txt (line 4)) (2.10)\n",
            "Requirement already satisfied: certifi>=2017.4.17 in /usr/local/lib/python3.7/dist-packages (from requests->visdom->-r ./PyTorch/requirements.txt (line 4)) (2020.12.5)\n",
            "Requirement already satisfied: urllib3!=1.25.0,!=1.25.1,<1.26,>=1.21.1 in /usr/local/lib/python3.7/dist-packages (from requests->visdom->-r ./PyTorch/requirements.txt (line 4)) (1.24.3)\n",
            "Requirement already satisfied: chardet<4,>=3.0.2 in /usr/local/lib/python3.7/dist-packages (from requests->visdom->-r ./PyTorch/requirements.txt (line 4)) (3.0.4)\n",
            "Collecting jsonpointer>=1.9\n",
            "  Downloading https://files.pythonhosted.org/packages/23/52/05f67532aa922e494c351344e0d9624a01f74f5dd8402fe0d1b563a6e6fc/jsonpointer-2.1-py2.py3-none-any.whl\n",
            "Building wheels for collected packages: visdom, torchfile\n",
            "  Building wheel for visdom (setup.py) ... \u001b[?25l\u001b[?25hdone\n",
            "  Created wheel for visdom: filename=visdom-0.1.8.9-cp37-none-any.whl size=655251 sha256=68d5fb17f261994099da2f3df1c10130bc8f1b0c0b10eac456910bf9189644a0\n",
            "  Stored in directory: /root/.cache/pip/wheels/70/19/a7/6d589ed967f4dfefd33bc166d081257bd4ed0cb618dccfd62a\n",
            "  Building wheel for torchfile (setup.py) ... \u001b[?25l\u001b[?25hdone\n",
            "  Created wheel for torchfile: filename=torchfile-0.1.0-cp37-none-any.whl size=5713 sha256=5b21664fbc32a7be69e98b1d53736f649b46ad7262da993db3348744cbbcaf4e\n",
            "  Stored in directory: /root/.cache/pip/wheels/b1/c3/d6/9a1cc8f3a99a0fc1124cae20153f36af59a6e683daca0a0814\n",
            "Successfully built visdom torchfile\n",
            "Installing collected packages: jsonpointer, jsonpatch, torchfile, websocket-client, visdom\n",
            "Successfully installed jsonpatch-1.32 jsonpointer-2.1 torchfile-0.1.0 visdom-0.1.8.9 websocket-client-1.0.1\n"
          ],
          "name": "stdout"
        }
      ]
    },
    {
      "cell_type": "markdown",
      "metadata": {
        "id": "DHTtZmh3EH_O"
      },
      "source": [
        "## Practice"
      ]
    },
    {
      "cell_type": "code",
      "metadata": {
        "id": "Fy7n878PD-Ud"
      },
      "source": [
        "import numpy as np\n",
        "import torch"
      ],
      "execution_count": null,
      "outputs": []
    },
    {
      "cell_type": "code",
      "metadata": {
        "colab": {
          "base_uri": "https://localhost:8080/"
        },
        "id": "PxvnuQC1EJn0",
        "outputId": "7837d7e1-c0e2-44cd-8827-67d50494e2bc"
      },
      "source": [
        "# 1D array with numpy\n",
        "t = np.array([0., 1., 2., 3., 4., 5., 6.,])\n",
        "print(t)"
      ],
      "execution_count": null,
      "outputs": [
        {
          "output_type": "stream",
          "text": [
            "[0. 1. 2. 3. 4. 5. 6.]\n"
          ],
          "name": "stdout"
        }
      ]
    },
    {
      "cell_type": "code",
      "metadata": {
        "colab": {
          "base_uri": "https://localhost:8080/"
        },
        "id": "L1RDFJFaETJF",
        "outputId": "f598f665-d787-4ad3-8aae-e10d8ae6eea9"
      },
      "source": [
        "print(\"Rank: \", t.ndim)\n",
        "print(\"Shape: \", t.shape)"
      ],
      "execution_count": null,
      "outputs": [
        {
          "output_type": "stream",
          "text": [
            "Rank:  1\n",
            "Shape:  (7,)\n"
          ],
          "name": "stdout"
        }
      ]
    },
    {
      "cell_type": "code",
      "metadata": {
        "colab": {
          "base_uri": "https://localhost:8080/"
        },
        "id": "kLNooEkKEaNj",
        "outputId": "97ef520d-7bf2-4afa-c2d2-7510a0c734a1"
      },
      "source": [
        "print(\"t[0] t[1] t[-1] = \", t[0], t[1], t[-1])    # elemnet\n",
        "print(\"t[2:5] t[4:-1] = \", t[2:5], t[4:-1])       # slicing\n",
        "print(\"t[:2] t[3:] = \", t[:2], t[3:])"
      ],
      "execution_count": null,
      "outputs": [
        {
          "output_type": "stream",
          "text": [
            "t[0] t[1] t[-1] =  0.0 1.0 6.0\n",
            "t[2:5] t[4:-1] =  [2. 3. 4.] [4. 5.]\n",
            "t[:2] t[3:] =  [0. 1.] [3. 4. 5. 6.]\n"
          ],
          "name": "stdout"
        }
      ]
    },
    {
      "cell_type": "code",
      "metadata": {
        "colab": {
          "base_uri": "https://localhost:8080/"
        },
        "id": "5P2y66bHE4ay",
        "outputId": "7f2894df-822e-4412-ba78-ac0e4652f95f"
      },
      "source": [
        "# 2D array with numpy\n",
        "t = np.array([[1., 2., 3.],\n",
        "              [4., 5., 6.],\n",
        "              [7., 8., 9.],\n",
        "              [10., 11., 12.]])\n",
        "print(t)"
      ],
      "execution_count": null,
      "outputs": [
        {
          "output_type": "stream",
          "text": [
            "[[ 1.  2.  3.]\n",
            " [ 4.  5.  6.]\n",
            " [ 7.  8.  9.]\n",
            " [10. 11. 12.]]\n"
          ],
          "name": "stdout"
        }
      ]
    },
    {
      "cell_type": "code",
      "metadata": {
        "colab": {
          "base_uri": "https://localhost:8080/"
        },
        "id": "-700wNZ_FLYq",
        "outputId": "b0a7ca1f-0bc1-4a27-d500-d0458dc51c2a"
      },
      "source": [
        "print(\"Rank: \", t.ndim)\n",
        "print(\"Shape: \", t.shape)"
      ],
      "execution_count": null,
      "outputs": [
        {
          "output_type": "stream",
          "text": [
            "Rank:  2\n",
            "Shape:  (4, 3)\n"
          ],
          "name": "stdout"
        }
      ]
    },
    {
      "cell_type": "code",
      "metadata": {
        "colab": {
          "base_uri": "https://localhost:8080/"
        },
        "id": "aK4fFNXTFNFw",
        "outputId": "1fd02f77-288d-4657-ead4-4e80368620e1"
      },
      "source": [
        "# 1D with PyTorch\n",
        "t = torch.FloatTensor([0., 1., 2., 3., 4., 5., 6.])\n",
        "print(t)"
      ],
      "execution_count": null,
      "outputs": [
        {
          "output_type": "stream",
          "text": [
            "tensor([0., 1., 2., 3., 4., 5., 6.])\n"
          ],
          "name": "stdout"
        }
      ]
    },
    {
      "cell_type": "code",
      "metadata": {
        "colab": {
          "base_uri": "https://localhost:8080/"
        },
        "id": "-N0hz0SUFWeY",
        "outputId": "fca886e8-d124-40ff-d825-a8e5cd80210c"
      },
      "source": [
        "print(t.dim())    # rank\n",
        "print(t.shape)    # shape\n",
        "print(t.size())   # shape\n",
        "# element, slicing are same"
      ],
      "execution_count": null,
      "outputs": [
        {
          "output_type": "stream",
          "text": [
            "1\n",
            "torch.Size([7])\n",
            "torch.Size([7])\n"
          ],
          "name": "stdout"
        }
      ]
    },
    {
      "cell_type": "code",
      "metadata": {
        "colab": {
          "base_uri": "https://localhost:8080/"
        },
        "id": "q4e82MEiFk-g",
        "outputId": "f665e36e-3e58-459d-d1c3-55816eebc1a2"
      },
      "source": [
        "# 2D array with PyTorch\n",
        "t = torch.FloatTensor([[1., 2., 3.],\n",
        "                      [4., 5., 6.],\n",
        "                      [7., 8., 9.],\n",
        "                      [10., 11., 12.]])\n",
        "print(t)"
      ],
      "execution_count": null,
      "outputs": [
        {
          "output_type": "stream",
          "text": [
            "tensor([[ 1.,  2.,  3.],\n",
            "        [ 4.,  5.,  6.],\n",
            "        [ 7.,  8.,  9.],\n",
            "        [10., 11., 12.]])\n"
          ],
          "name": "stdout"
        }
      ]
    },
    {
      "cell_type": "code",
      "metadata": {
        "colab": {
          "base_uri": "https://localhost:8080/"
        },
        "id": "RIY3omMwFvlH",
        "outputId": "2ebe9c12-178c-42c5-bfcb-2bb195c08ca0"
      },
      "source": [
        "print(\"Rank: \", t.ndim)\n",
        "print(\"Shape: \", t.shape)\n",
        "print(t[:, 1])\n",
        "print(t[:, 1].size())\n",
        "print(t[:, :-1])\n",
        "print(t[:, :-1].shape)\n"
      ],
      "execution_count": null,
      "outputs": [
        {
          "output_type": "stream",
          "text": [
            "Rank:  2\n",
            "Shape:  torch.Size([4, 3])\n",
            "tensor([ 2.,  5.,  8., 11.])\n",
            "torch.Size([4])\n",
            "tensor([[ 1.,  2.],\n",
            "        [ 4.,  5.],\n",
            "        [ 7.,  8.],\n",
            "        [10., 11.]])\n",
            "torch.Size([4, 2])\n"
          ],
          "name": "stdout"
        }
      ]
    },
    {
      "cell_type": "code",
      "metadata": {
        "colab": {
          "base_uri": "https://localhost:8080/"
        },
        "id": "jWN20VoMF5iW",
        "outputId": "4f34bf1c-54b8-495d-cef3-936fcf9d288b"
      },
      "source": [
        "# Broadcasting\n",
        "\n",
        "# Same shape (normal)\n",
        "m1 = torch.FloatTensor([3, 3])\n",
        "m2 = torch.FloatTensor([2, 2])\n",
        "print(m1 + m2)\n",
        "\n",
        "# vector + scalar\n",
        "m1 = torch.FloatTensor([1, 2])\n",
        "m2 = torch.FloatTensor([3])   # -> [[3, 3]]\n",
        "print(m1 + m2)\n",
        "\n",
        "# 2x1 vector + 1x2 vector\n",
        "m1 = torch.FloatTensor([[1, 2]])    # -> [[1,2], [1,2]]\n",
        "m2 = torch.FloatTensor([[3], [4]])  # -> [[3,3], [4,4]]\n",
        "print(m1 + m2)    # -> 2x2 vector\n"
      ],
      "execution_count": null,
      "outputs": [
        {
          "output_type": "stream",
          "text": [
            "tensor([5., 5.])\n",
            "tensor([4., 5.])\n",
            "tensor([[4., 5.],\n",
            "        [5., 6.]])\n"
          ],
          "name": "stdout"
        }
      ]
    },
    {
      "cell_type": "code",
      "metadata": {
        "colab": {
          "base_uri": "https://localhost:8080/"
        },
        "id": "6OBF2qcsGS6e",
        "outputId": "3a6f4301-6159-4bdd-aa41-5a15ebe18dc9"
      },
      "source": [
        "# Multiplication VS Matrix multiplication\n",
        "m1 = torch.FloatTensor([[1, 2]])    # -> [[1,2], [1,2]]\n",
        "m2 = torch.FloatTensor([[3], [4]])  # -> [[3,3], [4,4]]\n",
        "\n",
        "print(m1.shape, \" x \", m2.shape)\n",
        "print(\"matmul: \", m1.matmul(m2), \" <--------- This is inner-product.\")    # 2x1\n",
        "print(\"mul: \\n\", m1 * m2, \"\\n << Up and down are same result. >> \\n\", m1.mul(m2))"
      ],
      "execution_count": null,
      "outputs": [
        {
          "output_type": "stream",
          "text": [
            "torch.Size([1, 2])  x  torch.Size([2, 1])\n",
            "matmul:  tensor([[11.]])  <--------- This is inner-product.\n",
            "mul: \n",
            " tensor([[3., 6.],\n",
            "        [4., 8.]]) \n",
            " << Up and down are same result. >> \n",
            " tensor([[3., 6.],\n",
            "        [4., 8.]])\n"
          ],
          "name": "stdout"
        }
      ]
    },
    {
      "cell_type": "code",
      "metadata": {
        "colab": {
          "base_uri": "https://localhost:8080/"
        },
        "id": "rZEMK3Z8IIJv",
        "outputId": "5ef7fd1d-649e-4767-9be6-c3729d791159"
      },
      "source": [
        "# Mean\n",
        "t = torch.FloatTensor([1, 2])\n",
        "print(t.mean())"
      ],
      "execution_count": null,
      "outputs": [
        {
          "output_type": "stream",
          "text": [
            "tensor(1.5000)\n"
          ],
          "name": "stdout"
        }
      ]
    },
    {
      "cell_type": "code",
      "metadata": {
        "colab": {
          "base_uri": "https://localhost:8080/"
        },
        "id": "QqTG3P7FJQmR",
        "outputId": "c1af6ad6-eba1-4ca5-f5c3-f64a3dd0b956"
      },
      "source": [
        "# LongTensor can't use mean() on integers\n",
        "t = torch.LongTensor([1, 2])\n",
        "try:\n",
        "  print(t.mean())\n",
        "except Exception as exc:\n",
        "  print(exc)"
      ],
      "execution_count": null,
      "outputs": [
        {
          "output_type": "stream",
          "text": [
            "Can only calculate the mean of floating types. Got Long instead.\n"
          ],
          "name": "stdout"
        }
      ]
    },
    {
      "cell_type": "code",
      "metadata": {
        "colab": {
          "base_uri": "https://localhost:8080/"
        },
        "id": "wl4xY2pvJepg",
        "outputId": "5708a6cd-5be6-4a02-b6c4-6206c13da09c"
      },
      "source": [
        "t = torch.FloatTensor([[1., 2.],\n",
        "                       [3., 4.]])\n",
        "\n",
        "print(t.mean())     # sum / 4\n",
        "print(t.mean(dim=0))  # 1st--2nd element를 axis=0에서 모집\n",
        "print(t.mean(dim=1))  # 1st--2nd element를 axis=1에서 모집\n",
        "print(t.mean(dim=-1)) # 위와 동일\n"
      ],
      "execution_count": null,
      "outputs": [
        {
          "output_type": "stream",
          "text": [
            "tensor(2.5000)\n",
            "tensor([2., 3.])\n",
            "tensor([1.5000, 3.5000])\n",
            "tensor([1.5000, 3.5000])\n"
          ],
          "name": "stdout"
        }
      ]
    },
    {
      "cell_type": "code",
      "metadata": {
        "colab": {
          "base_uri": "https://localhost:8080/"
        },
        "id": "CY2mP-VVJ8zG",
        "outputId": "b206ed30-460b-41a2-8bd1-d04827ee9c82"
      },
      "source": [
        "# Sum (mean과 동일하게 작동)\n",
        "print(t.sum())\n",
        "print(t.sum(dim=0))\n",
        "print(t.sum(dim=1))\n",
        "print(t.sum(dim=-1))"
      ],
      "execution_count": null,
      "outputs": [
        {
          "output_type": "stream",
          "text": [
            "tensor(10.)\n",
            "tensor([4., 6.])\n",
            "tensor([3., 7.])\n",
            "tensor([3., 7.])\n"
          ],
          "name": "stdout"
        }
      ]
    },
    {
      "cell_type": "code",
      "metadata": {
        "colab": {
          "base_uri": "https://localhost:8080/"
        },
        "id": "friKtysiK836",
        "outputId": "105c93f8-1179-48b7-c627-485467bb4ebd"
      },
      "source": [
        "# Max and Argmax\n",
        "print(t.max())\n",
        "print(t.max(dim=0))   # max값과 argmax값을 동시에 출력"
      ],
      "execution_count": null,
      "outputs": [
        {
          "output_type": "stream",
          "text": [
            "tensor(4.)\n",
            "torch.return_types.max(\n",
            "values=tensor([3., 4.]),\n",
            "indices=tensor([1, 1]))\n"
          ],
          "name": "stdout"
        }
      ]
    },
    {
      "cell_type": "code",
      "metadata": {
        "colab": {
          "base_uri": "https://localhost:8080/"
        },
        "id": "xhUbBJBfLP6J",
        "outputId": "de88c6a2-28b0-4311-8723-29e41501c00b"
      },
      "source": [
        "print(\"Max: \", t.max(dim=0)[0])\n",
        "print(\"Argmax: \", t.max(dim=0)[1])    # argmax값은 최대값의 위치를 표시해줌."
      ],
      "execution_count": null,
      "outputs": [
        {
          "output_type": "stream",
          "text": [
            "Max:  tensor([3., 4.])\n",
            "Argmax:  tensor([1, 1])\n"
          ],
          "name": "stdout"
        }
      ]
    },
    {
      "cell_type": "markdown",
      "metadata": {
        "id": "-0Eya3nLZl7m"
      },
      "source": [
        "## View (reshape)"
      ]
    },
    {
      "cell_type": "code",
      "metadata": {
        "id": "jEkQyYiCL0PI",
        "colab": {
          "base_uri": "https://localhost:8080/"
        },
        "outputId": "666abd14-b4e4-4bcf-a953-1ba354bf16d9"
      },
      "source": [
        "t = np.array([[[0,1,2],\n",
        "               [3,4,5]],\n",
        "              \n",
        "              [[6,7,8],\n",
        "               [9,10,11]]])\n",
        "\n",
        "ft = torch.FloatTensor(t)\n",
        "print(ft.shape)"
      ],
      "execution_count": null,
      "outputs": [
        {
          "output_type": "stream",
          "text": [
            "torch.Size([2, 2, 3])\n"
          ],
          "name": "stdout"
        }
      ]
    },
    {
      "cell_type": "code",
      "metadata": {
        "colab": {
          "base_uri": "https://localhost:8080/"
        },
        "id": "HTMBROLLZ6HZ",
        "outputId": "01ef4318-7bce-492f-d7ab-5904b8bb3b20"
      },
      "source": [
        "print(ft.view([-1, 3]))         # shape=[2, 2, 3] -> [auto, 3]로 변환.\n",
        "print(ft.view([-1, 3]).shape)"
      ],
      "execution_count": null,
      "outputs": [
        {
          "output_type": "stream",
          "text": [
            "tensor([[ 0.,  1.,  2.],\n",
            "        [ 3.,  4.,  5.],\n",
            "        [ 6.,  7.,  8.],\n",
            "        [ 9., 10., 11.]])\n",
            "torch.Size([4, 3])\n"
          ],
          "name": "stdout"
        }
      ]
    },
    {
      "cell_type": "code",
      "metadata": {
        "colab": {
          "base_uri": "https://localhost:8080/"
        },
        "id": "wTGM0D5_aI-i",
        "outputId": "ecc6ef6c-4324-4e7e-ba81-27139afd6774"
      },
      "source": [
        "print(ft.view([-1, 1, 3]))      # shape=[2, 2, 3] -> [auto, 1, 3]으로 변환.\n",
        "print(ft.view([-1, 1, 3]).shape)\n",
        "\n",
        "# batch_size에 해당하는 axis=0이 우선적으로 변환된다."
      ],
      "execution_count": null,
      "outputs": [
        {
          "output_type": "stream",
          "text": [
            "tensor([[[ 0.,  1.,  2.]],\n",
            "\n",
            "        [[ 3.,  4.,  5.]],\n",
            "\n",
            "        [[ 6.,  7.,  8.]],\n",
            "\n",
            "        [[ 9., 10., 11.]]])\n",
            "torch.Size([4, 1, 3])\n"
          ],
          "name": "stdout"
        }
      ]
    },
    {
      "cell_type": "markdown",
      "metadata": {
        "id": "YmvNT2jjbEFa"
      },
      "source": [
        "## Squeeze (rank down)"
      ]
    },
    {
      "cell_type": "code",
      "metadata": {
        "colab": {
          "base_uri": "https://localhost:8080/"
        },
        "id": "JsItibEeae2X",
        "outputId": "05752912-7c9f-44f8-d1b1-67a6b6725c3e"
      },
      "source": [
        "ft = torch.FloatTensor([[0], [1], [2]])\n",
        "print(ft)\n",
        "print(ft.shape)"
      ],
      "execution_count": null,
      "outputs": [
        {
          "output_type": "stream",
          "text": [
            "tensor([[0.],\n",
            "        [1.],\n",
            "        [2.]])\n",
            "torch.Size([3, 1])\n"
          ],
          "name": "stdout"
        }
      ]
    },
    {
      "cell_type": "code",
      "metadata": {
        "colab": {
          "base_uri": "https://localhost:8080/"
        },
        "id": "n6bPBun8bPDj",
        "outputId": "75932416-db5d-46c6-ec8b-9e5da450146c"
      },
      "source": [
        "print(ft.squeeze())\n",
        "print(ft.squeeze().shape)"
      ],
      "execution_count": null,
      "outputs": [
        {
          "output_type": "stream",
          "text": [
            "tensor([0., 1., 2.])\n",
            "torch.Size([3])\n"
          ],
          "name": "stdout"
        }
      ]
    },
    {
      "cell_type": "code",
      "metadata": {
        "colab": {
          "base_uri": "https://localhost:8080/"
        },
        "id": "erA8FT77bT0a",
        "outputId": "29822950-87ca-46a2-9b79-0dcafe653e3f"
      },
      "source": [
        "print(ft.squeeze(dim=0))\n",
        "print(ft.squeeze(dim=0).shape)"
      ],
      "execution_count": null,
      "outputs": [
        {
          "output_type": "stream",
          "text": [
            "tensor([[0.],\n",
            "        [1.],\n",
            "        [2.]])\n",
            "torch.Size([3, 1])\n"
          ],
          "name": "stdout"
        }
      ]
    },
    {
      "cell_type": "code",
      "metadata": {
        "colab": {
          "base_uri": "https://localhost:8080/"
        },
        "id": "rkgLZJ6fbjBc",
        "outputId": "e8b28605-265c-4784-a26f-b2984ea51e11"
      },
      "source": [
        "print(ft.squeeze(dim=1))\n",
        "print(ft.squeeze(dim=1).shape)"
      ],
      "execution_count": null,
      "outputs": [
        {
          "output_type": "stream",
          "text": [
            "tensor([0., 1., 2.])\n",
            "torch.Size([3])\n"
          ],
          "name": "stdout"
        }
      ]
    },
    {
      "cell_type": "markdown",
      "metadata": {
        "id": "ZBe9ZFmwbyAh"
      },
      "source": [
        "## Unsqueeze (rank up)"
      ]
    },
    {
      "cell_type": "code",
      "metadata": {
        "colab": {
          "base_uri": "https://localhost:8080/"
        },
        "id": "WqoBNLcobog9",
        "outputId": "45418f44-ba6c-42b4-85f6-2e909b5cad7e"
      },
      "source": [
        "ft = torch.Tensor([0, 1, 2])\n",
        "print(ft.shape)"
      ],
      "execution_count": null,
      "outputs": [
        {
          "output_type": "stream",
          "text": [
            "torch.Size([3])\n"
          ],
          "name": "stdout"
        }
      ]
    },
    {
      "cell_type": "code",
      "metadata": {
        "colab": {
          "base_uri": "https://localhost:8080/"
        },
        "id": "tF889DzHb4hB",
        "outputId": "9be9e488-466e-4327-bd02-3e86be272aba"
      },
      "source": [
        "print(ft.unsqueeze(0))      # dim=0의 elem을 rank up\n",
        "print(ft.unsqueeze(0).shape)"
      ],
      "execution_count": null,
      "outputs": [
        {
          "output_type": "stream",
          "text": [
            "tensor([[0., 1., 2.]])\n",
            "torch.Size([1, 3])\n"
          ],
          "name": "stdout"
        }
      ]
    },
    {
      "cell_type": "code",
      "metadata": {
        "colab": {
          "base_uri": "https://localhost:8080/"
        },
        "id": "vrA8NGiIb79g",
        "outputId": "0af75b7b-5f3c-4f8d-e39f-aac4eeef7613"
      },
      "source": [
        "print(ft.view(1, -1))       # 위와 동일.\n",
        "print(ft.view(1, -1).shape)"
      ],
      "execution_count": null,
      "outputs": [
        {
          "output_type": "stream",
          "text": [
            "tensor([[0., 1., 2.]])\n",
            "torch.Size([1, 3])\n"
          ],
          "name": "stdout"
        }
      ]
    },
    {
      "cell_type": "code",
      "metadata": {
        "colab": {
          "base_uri": "https://localhost:8080/"
        },
        "id": "S-9QRmRtcDg_",
        "outputId": "767ce958-39b9-445d-fac7-9a9076d2bd9d"
      },
      "source": [
        "print(ft.unsqueeze(1))    # dim=1의 elem을 rank up\n",
        "print(ft.unsqueeze(1).shape)"
      ],
      "execution_count": null,
      "outputs": [
        {
          "output_type": "stream",
          "text": [
            "tensor([[0.],\n",
            "        [1.],\n",
            "        [2.]])\n",
            "torch.Size([3, 1])\n"
          ],
          "name": "stdout"
        }
      ]
    },
    {
      "cell_type": "code",
      "metadata": {
        "colab": {
          "base_uri": "https://localhost:8080/"
        },
        "id": "DwcKwbCicMae",
        "outputId": "8ed31b24-d239-44c4-f9bb-9dc4c13d9cd4"
      },
      "source": [
        "print(ft.unsqueeze(-1))    # dim=last의 elem을 rank up\n",
        "print(ft.unsqueeze(-1).shape)"
      ],
      "execution_count": null,
      "outputs": [
        {
          "output_type": "stream",
          "text": [
            "tensor([[0.],\n",
            "        [1.],\n",
            "        [2.]])\n",
            "torch.Size([3, 1])\n"
          ],
          "name": "stdout"
        }
      ]
    },
    {
      "cell_type": "markdown",
      "metadata": {
        "id": "Mv_HjXWXcv_7"
      },
      "source": [
        "## Type casting"
      ]
    },
    {
      "cell_type": "code",
      "metadata": {
        "colab": {
          "base_uri": "https://localhost:8080/"
        },
        "id": "tcKaPniNcmWX",
        "outputId": "0a6bc895-6a03-44af-a43e-cb5ca2a63c3c"
      },
      "source": [
        "lt = torch.LongTensor([1, 2, 3, 4])\n",
        "print(lt)"
      ],
      "execution_count": null,
      "outputs": [
        {
          "output_type": "stream",
          "text": [
            "tensor([1, 2, 3, 4])\n"
          ],
          "name": "stdout"
        }
      ]
    },
    {
      "cell_type": "code",
      "metadata": {
        "colab": {
          "base_uri": "https://localhost:8080/"
        },
        "id": "Dic0n5_uc1KN",
        "outputId": "8e3062d3-43c9-40ef-85df-a6300d5208be"
      },
      "source": [
        "print(lt.float())     # float-lize"
      ],
      "execution_count": null,
      "outputs": [
        {
          "output_type": "stream",
          "text": [
            "tensor([1., 2., 3., 4.])\n"
          ],
          "name": "stdout"
        }
      ]
    },
    {
      "cell_type": "code",
      "metadata": {
        "colab": {
          "base_uri": "https://localhost:8080/"
        },
        "id": "pBIjyjMRc34k",
        "outputId": "e0b0667b-0b70-498f-9aa8-40b07f007575"
      },
      "source": [
        "bt = torch.ByteTensor([True, False, False, True])     # 1 0 0 1\n",
        "print(bt)"
      ],
      "execution_count": null,
      "outputs": [
        {
          "output_type": "stream",
          "text": [
            "tensor([1, 0, 0, 1], dtype=torch.uint8)\n"
          ],
          "name": "stdout"
        }
      ]
    },
    {
      "cell_type": "code",
      "metadata": {
        "colab": {
          "base_uri": "https://localhost:8080/"
        },
        "id": "CwSdHRm5dBIz",
        "outputId": "3eaa015f-6626-4d04-a092-07e3ca967009"
      },
      "source": [
        "# interger-lize\n",
        "print(bt.long())\n",
        "print(bt.float())"
      ],
      "execution_count": null,
      "outputs": [
        {
          "output_type": "stream",
          "text": [
            "tensor([1, 0, 0, 1])\n",
            "tensor([1., 0., 0., 1.])\n"
          ],
          "name": "stdout"
        }
      ]
    },
    {
      "cell_type": "markdown",
      "metadata": {
        "id": "00kvqjuIdNur"
      },
      "source": [
        "## Concatenate (이어붙이기)"
      ]
    },
    {
      "cell_type": "code",
      "metadata": {
        "id": "qpik2u45dIqe"
      },
      "source": [
        "x = torch.FloatTensor([[1, 2], \n",
        "                       [3, 4]])   # 2x2\n",
        "\n",
        "y = torch.FloatTensor([[5, 6], \n",
        "                       [7, 8]])   # 2x2"
      ],
      "execution_count": null,
      "outputs": []
    },
    {
      "cell_type": "code",
      "metadata": {
        "colab": {
          "base_uri": "https://localhost:8080/"
        },
        "id": "J5aVxezrdXgT",
        "outputId": "9b90b136-9c96-41df-a704-7fdbf71ce616"
      },
      "source": [
        "print(torch.cat([x, y], dim=0))     # axis=0 방향으로 이어붙이기 -> 4x2\n",
        "print(torch.cat([x, y], dim=1))     # aixs=1 방향으로 이어붙이기 -> 2x4"
      ],
      "execution_count": null,
      "outputs": [
        {
          "output_type": "stream",
          "text": [
            "tensor([[1., 2.],\n",
            "        [3., 4.],\n",
            "        [5., 6.],\n",
            "        [7., 8.]])\n",
            "tensor([[1., 2., 5., 6.],\n",
            "        [3., 4., 7., 8.]])\n"
          ],
          "name": "stdout"
        }
      ]
    },
    {
      "cell_type": "markdown",
      "metadata": {
        "id": "xalwEwpufjkf"
      },
      "source": [
        "## Stacking"
      ]
    },
    {
      "cell_type": "code",
      "metadata": {
        "colab": {
          "base_uri": "https://localhost:8080/"
        },
        "id": "IdEuDH9JdbsW",
        "outputId": "a45c9d16-e3d6-459d-a18c-0b4b5a3a61fe"
      },
      "source": [
        "x = torch.FloatTensor([1, 4])   # 1x2\n",
        "y = torch.FloatTensor([2, 5])   # 1x2\n",
        "z = torch.FloatTensor([3, 6])   # 1x2\n",
        "\n",
        "print(torch.stack([x, y, z]))   # 3x2\n",
        "print(torch.stack([x, y, z], dim=1))    # 2x3"
      ],
      "execution_count": null,
      "outputs": [
        {
          "output_type": "stream",
          "text": [
            "tensor([[1., 4.],\n",
            "        [2., 5.],\n",
            "        [3., 6.]])\n",
            "tensor([[1., 2., 3.],\n",
            "        [4., 5., 6.]])\n"
          ],
          "name": "stdout"
        }
      ]
    },
    {
      "cell_type": "markdown",
      "metadata": {
        "id": "jpx3lR0PhNLE"
      },
      "source": [
        "![torch_stack.png](data:image/png;base64,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)"
      ]
    },
    {
      "cell_type": "code",
      "metadata": {
        "colab": {
          "base_uri": "https://localhost:8080/"
        },
        "id": "Tf90UT2_fwHJ",
        "outputId": "fd602b43-50cb-4264-ac8d-f7cb22a99a41"
      },
      "source": [
        "print(torch.cat([x.unsqueeze(0), y.unsqueeze(0), z.unsqueeze(0)], dim=0))   # 위에서 dim=0일 때와 동일\n",
        "print(torch.cat([x.unsqueeze(1), y.unsqueeze(1), z.unsqueeze(1)], dim=1))   # 위에서 dim=1일 때와 동일"
      ],
      "execution_count": null,
      "outputs": [
        {
          "output_type": "stream",
          "text": [
            "tensor([[1., 4.],\n",
            "        [2., 5.],\n",
            "        [3., 6.]])\n",
            "tensor([[1., 2., 3.],\n",
            "        [4., 5., 6.]])\n"
          ],
          "name": "stdout"
        }
      ]
    },
    {
      "cell_type": "markdown",
      "metadata": {
        "id": "gjhxCqvOh7iG"
      },
      "source": [
        "## Ones and Zeros"
      ]
    },
    {
      "cell_type": "code",
      "metadata": {
        "colab": {
          "base_uri": "https://localhost:8080/"
        },
        "id": "z97G_30rhfJz",
        "outputId": "13654c33-c267-4e0a-c9e7-1a692c9dcfcd"
      },
      "source": [
        "x = torch.FloatTensor([[0,1,2], [2,1,0]])\n",
        "print(x)"
      ],
      "execution_count": null,
      "outputs": [
        {
          "output_type": "stream",
          "text": [
            "tensor([[0., 1., 2.],\n",
            "        [2., 1., 0.]])\n"
          ],
          "name": "stdout"
        }
      ]
    },
    {
      "cell_type": "code",
      "metadata": {
        "colab": {
          "base_uri": "https://localhost:8080/"
        },
        "id": "CIBo6ZSbiBLc",
        "outputId": "87834898-b04f-4bf5-c144-96a2f662575a"
      },
      "source": [
        "print(torch.ones_like(x))\n",
        "print(torch.zeros_like(x))\n",
        "\n",
        "''' 이것은 device와 관련해서 쓰이는데,\n",
        "    gpu 0에서 정의된 텐서를 gpu 1에서 사용하려고 들면 바로 에러가 난다.\n",
        "    즉, gpu 1에서 gpu 0의 텐서를 쓰고 싶다면 ones나 zeros로 본떠오기가 가능하다.\n",
        "'''"
      ],
      "execution_count": null,
      "outputs": [
        {
          "output_type": "stream",
          "text": [
            "tensor([[1., 1., 1.],\n",
            "        [1., 1., 1.]])\n",
            "tensor([[0., 0., 0.],\n",
            "        [0., 0., 0.]])\n"
          ],
          "name": "stdout"
        }
      ]
    },
    {
      "cell_type": "markdown",
      "metadata": {
        "id": "9yGW80yVjBW5"
      },
      "source": [
        "## In-place operation"
      ]
    },
    {
      "cell_type": "code",
      "metadata": {
        "colab": {
          "base_uri": "https://localhost:8080/",
          "height": 179
        },
        "id": "oQ7UyTcSiRsJ",
        "outputId": "3f9801e5-855b-4af7-a549-e1fe4be90dea"
      },
      "source": [
        "x = torch.FloatTensor([[1, 2], [3, 4]])\n",
        "\n",
        "print(x.mul(2.))\n",
        "print(x)\n",
        "print(x.mul_(2.))   # inplace: 수정하다\n",
        "print(x)\n",
        "\n",
        "''' mul만 수행하면 계산만 하고 끝난다.\n",
        "    그런데 mul_이라고 하면 inplace가 적용되어 계산된 값이 return된다.\n",
        "'''"
      ],
      "execution_count": null,
      "outputs": [
        {
          "output_type": "stream",
          "text": [
            "tensor([[2., 4.],\n",
            "        [6., 8.]])\n",
            "tensor([[1., 2.],\n",
            "        [3., 4.]])\n",
            "tensor([[2., 4.],\n",
            "        [6., 8.]])\n",
            "tensor([[2., 4.],\n",
            "        [6., 8.]])\n"
          ],
          "name": "stdout"
        },
        {
          "output_type": "execute_result",
          "data": {
            "application/vnd.google.colaboratory.intrinsic+json": {
              "type": "string"
            },
            "text/plain": [
              "' \\n'"
            ]
          },
          "metadata": {
            "tags": []
          },
          "execution_count": 54
        }
      ]
    },
    {
      "cell_type": "code",
      "metadata": {
        "id": "y5GawpHCjO01"
      },
      "source": [
        ""
      ],
      "execution_count": null,
      "outputs": []
    }
  ]
}
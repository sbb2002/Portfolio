{
  "nbformat": 4,
  "nbformat_minor": 0,
  "metadata": {
    "colab": {
      "name": "PyTorch_ch3_minibatch.ipynb",
      "provenance": [],
      "collapsed_sections": [],
      "authorship_tag": "ABX9TyMNmWMraMAQi7jGm5opEATo",
      "include_colab_link": true
    },
    "kernelspec": {
      "name": "python3",
      "display_name": "Python 3"
    },
    "language_info": {
      "name": "python"
    }
  },
  "cells": [
    {
      "cell_type": "markdown",
      "metadata": {
        "id": "view-in-github",
        "colab_type": "text"
      },
      "source": [
        "<a href=\"https://colab.research.google.com/github/sbb2002/Portfolio/blob/main/.study/PyTorch/PyTorch_ch3_minibatch.ipynb\" target=\"_parent\"><img src=\"https://colab.research.google.com/assets/colab-badge.svg\" alt=\"Open In Colab\"/></a>"
      ]
    },
    {
      "cell_type": "markdown",
      "metadata": {
        "id": "CiQn-1hx3Inw"
      },
      "source": [
        "Data가 방대하면 할 수록 속도도 느려지고 하드웨어도 부담이 심해진다. 이에 대한 대책으로 data를 여러개로 분할(mini-batch)해서 하나씩 모델을 돌린다.\n",
        "\n",
        "이렇게 하면 업데이트를 빠르게 할 수 있지만, 전체데이터를 쓰지 않기에 잘못된 방향으로 업데이트할 수 있다. local minimum이다. 이에 관한 문제는 핸즈온 머신러닝의 minibatch 파트를 보면 도움이 될 듯하다."
      ]
    },
    {
      "cell_type": "markdown",
      "metadata": {
        "id": "bPe6GDwB7ddf"
      },
      "source": [
        "# Data loader"
      ]
    },
    {
      "cell_type": "markdown",
      "metadata": {
        "id": "4MARnNv_7fdg"
      },
      "source": [
        "Data를 적재할 때 torch.utils.data.DataLoader에서 제공하는 라이브러리를 이용하면 된다.\n",
        "\n",
        "```\n",
        "from torch.utils.data import DataLoader\n",
        "\n",
        "dataloader = DataLoader(\n",
        "  dataset,\n",
        "  batch_size=2,\n",
        "  shuffle=True,\n",
        ")\n",
        "```\n",
        "\n",
        "* batch_size\n",
        " * mini-batch의 크기\n",
        " * 통상적으로 $2^{n}$를 사용\n",
        "\n",
        "* shuffle\n",
        " * epoch마다 dataset을 섞어주는 옵션\n",
        " * 만약 False해서 섞지않고 그대로 쓰면 모델이 학습하면서 순서를 외워버릴 수 있다. \\\n",
        " 따라서 항상 True를 권장."
      ]
    },
    {
      "cell_type": "markdown",
      "metadata": {
        "id": "JZGeEtBFAyMO"
      },
      "source": [
        "# Practice"
      ]
    },
    {
      "cell_type": "markdown",
      "metadata": {
        "id": "CFEyP16599_Z"
      },
      "source": [
        "## Downloading and skimming data"
      ]
    },
    {
      "cell_type": "code",
      "metadata": {
        "colab": {
          "base_uri": "https://localhost:8080/"
        },
        "id": "9TvGHcKQ3Bxq",
        "outputId": "523c957f-4d5f-4d32-f9e6-a90b8857a042"
      },
      "source": [
        "!git clone https://github.com/deeplearningzerotoall/PyTorch"
      ],
      "execution_count": null,
      "outputs": [
        {
          "output_type": "stream",
          "text": [
            "Cloning into 'PyTorch'...\n",
            "remote: Enumerating objects: 1899, done.\u001b[K\n",
            "remote: Total 1899 (delta 0), reused 0 (delta 0), pack-reused 1899\n",
            "Receiving objects: 100% (1899/1899), 80.33 MiB | 29.76 MiB/s, done.\n",
            "Resolving deltas: 100% (242/242), done.\n"
          ],
          "name": "stdout"
        }
      ]
    },
    {
      "cell_type": "code",
      "metadata": {
        "colab": {
          "base_uri": "https://localhost:8080/"
        },
        "id": "qQHMAPcZ8nHi",
        "outputId": "2f99f824-da7c-40e9-cdb3-3c98e57b7e31"
      },
      "source": [
        "!find -name data-01-test-score.csv"
      ],
      "execution_count": null,
      "outputs": [
        {
          "output_type": "stream",
          "text": [
            "./PyTorch/data-01-test-score.csv\n"
          ],
          "name": "stdout"
        }
      ]
    },
    {
      "cell_type": "code",
      "metadata": {
        "id": "pcll5rzE8r5y"
      },
      "source": [
        "import numpy as np\n",
        "\n",
        "xy = np.loadtxt('./PyTorch/data-01-test-score.csv', delimiter=',', dtype=np.float32)\n",
        "x_data = xy[:, 0:-1]\n",
        "y_data = xy[:, [-1]]"
      ],
      "execution_count": null,
      "outputs": []
    },
    {
      "cell_type": "code",
      "metadata": {
        "colab": {
          "base_uri": "https://localhost:8080/"
        },
        "id": "EOevGJNV9pq4",
        "outputId": "48d2b5b3-8273-423d-f12f-8b90cc59cbc4"
      },
      "source": [
        "print(x_data.shape)\n",
        "print(len(x_data))\n",
        "print(x_data[:5])"
      ],
      "execution_count": null,
      "outputs": [
        {
          "output_type": "stream",
          "text": [
            "(25, 3)\n",
            "25\n",
            "[[ 73.  80.  75.]\n",
            " [ 93.  88.  93.]\n",
            " [ 89.  91.  90.]\n",
            " [ 96.  98. 100.]\n",
            " [ 73.  66.  70.]]\n"
          ],
          "name": "stdout"
        }
      ]
    },
    {
      "cell_type": "markdown",
      "metadata": {
        "id": "_pj0XA7Q-I2e"
      },
      "source": [
        "## Imports"
      ]
    },
    {
      "cell_type": "code",
      "metadata": {
        "colab": {
          "base_uri": "https://localhost:8080/"
        },
        "id": "YXzLNeoT9u9R",
        "outputId": "8faacf52-8309-4c76-f7d9-895c024b64ca"
      },
      "source": [
        "import torch\n",
        "import torch.nn as nn\n",
        "import torch.nn.functional as F\n",
        "import torch.optim as optim\n",
        "\n",
        "torch.manual_seed(1)"
      ],
      "execution_count": null,
      "outputs": [
        {
          "output_type": "execute_result",
          "data": {
            "text/plain": [
              "<torch._C.Generator at 0x7f2f194d9450>"
            ]
          },
          "metadata": {
            "tags": []
          },
          "execution_count": 14
        }
      ]
    },
    {
      "cell_type": "markdown",
      "metadata": {
        "id": "VK4ak6IL-YFh"
      },
      "source": [
        "## Low-lv implementation"
      ]
    },
    {
      "cell_type": "code",
      "metadata": {
        "colab": {
          "base_uri": "https://localhost:8080/"
        },
        "id": "wBPpqeDg-UCi",
        "outputId": "0266dc72-9ca5-4305-c143-bac47d300e6b"
      },
      "source": [
        "# loading data\n",
        "x_train = torch.FloatTensor(x_data)\n",
        "y_train = torch.FloatTensor(y_data)\n",
        "\n",
        "# model initialize\n",
        "W = torch.zeros((3, 1), requires_grad=True)\n",
        "b = torch.zeros(1, requires_grad=True)\n",
        "\n",
        "# set opt\n",
        "optimizer = optim.SGD([W, b], lr=1e-5)\n",
        "\n",
        "nb_epochs = 20\n",
        "for epoch in range(nb_epochs + 1):\n",
        "  hypothesis = x_train.matmul(W) + b\n",
        "  cost = torch.mean((hypothesis - y_train) ** 2)\n",
        "\n",
        "  optimizer.zero_grad()\n",
        "  cost.backward()\n",
        "  optimizer.step()\n",
        "\n",
        "  print('Epoch: {:4d}/{} Cost: {:.6f}'.format(epoch, nb_epochs, cost.item()))\n"
      ],
      "execution_count": null,
      "outputs": [
        {
          "output_type": "stream",
          "text": [
            "Epoch:    0/20 Cost: 26811.960938\n",
            "Epoch:    1/20 Cost: 9920.530273\n",
            "Epoch:    2/20 Cost: 3675.298340\n",
            "Epoch:    3/20 Cost: 1366.260620\n",
            "Epoch:    4/20 Cost: 512.542419\n",
            "Epoch:    5/20 Cost: 196.896667\n",
            "Epoch:    6/20 Cost: 80.190987\n",
            "Epoch:    7/20 Cost: 37.038692\n",
            "Epoch:    8/20 Cost: 21.081343\n",
            "Epoch:    9/20 Cost: 15.178762\n",
            "Epoch:   10/20 Cost: 12.993679\n",
            "Epoch:   11/20 Cost: 12.183031\n",
            "Epoch:   12/20 Cost: 11.880532\n",
            "Epoch:   13/20 Cost: 11.765952\n",
            "Epoch:   14/20 Cost: 11.720860\n",
            "Epoch:   15/20 Cost: 11.701438\n",
            "Epoch:   16/20 Cost: 11.691511\n",
            "Epoch:   17/20 Cost: 11.685116\n",
            "Epoch:   18/20 Cost: 11.680007\n",
            "Epoch:   19/20 Cost: 11.675385\n",
            "Epoch:   20/20 Cost: 11.670945\n"
          ],
          "name": "stdout"
        }
      ]
    },
    {
      "cell_type": "markdown",
      "metadata": {
        "id": "jGzBBKhhBpAk"
      },
      "source": [
        "## Low-lv. implementation 2 (all in one)"
      ]
    },
    {
      "cell_type": "code",
      "metadata": {
        "id": "-lcQFl--B97L"
      },
      "source": [
        "from torch.utils.data import DataLoader\n",
        "from torch.utils.data import TensorDataset\n",
        "\n",
        "# loading data\n",
        "x_train = torch.FloatTensor(x_data)\n",
        "y_train = torch.FloatTensor(y_data)\n",
        "dataset = TensorDataset(x_train, y_train)\n",
        "\n",
        "dataloader = DataLoader(\n",
        "    dataset,\n",
        "    batch_size=2,\n",
        "    shuffle=True,\n",
        ")"
      ],
      "execution_count": null,
      "outputs": []
    },
    {
      "cell_type": "code",
      "metadata": {
        "colab": {
          "base_uri": "https://localhost:8080/"
        },
        "id": "Z86zsIlQBrks",
        "outputId": "7caa7089-dff1-449a-dac4-5b7b704ec159"
      },
      "source": [
        "# set opt\n",
        "model = nn.Linear(3, 1)\n",
        "optimizer = torch.optim.SGD(model.parameters(), lr=1e-5)\n",
        "\n",
        "nb_epochs = 20    # 클수록 loss가 낮아진다. 여기선 20으로도 충분한 것 같다.\n",
        "for epoch in range(nb_epochs + 1):\n",
        "  for batch_idx, samples in enumerate(dataloader):\n",
        "    # print(batch_idx)\n",
        "    # print(samples)\n",
        "    x_train, y_train = samples\n",
        "\n",
        "    # hypo계산\n",
        "    prediction = model(x_train)\n",
        "\n",
        "    # cost 계산\n",
        "    cost = F.mse_loss(prediction, y_train)\n",
        "\n",
        "    # cost로 H(x) 계산\n",
        "    optimizer.zero_grad()\n",
        "    cost.backward()\n",
        "    optimizer.step()\n",
        "\n",
        "    print('Epoch: {:4d}/{} Batch: {}/{} Cost: {:.6f}'.format(epoch, nb_epochs, batch_idx+1, len(dataloader), cost.item()))\n"
      ],
      "execution_count": null,
      "outputs": [
        {
          "output_type": "stream",
          "text": [
            "Epoch:    0/20 Batch: 1/13 Cost: 22717.306641\n",
            "Epoch:    0/20 Batch: 2/13 Cost: 7065.685547\n",
            "Epoch:    0/20 Batch: 3/13 Cost: 2125.653564\n",
            "Epoch:    0/20 Batch: 4/13 Cost: 1564.352905\n",
            "Epoch:    0/20 Batch: 5/13 Cost: 413.526459\n",
            "Epoch:    0/20 Batch: 6/13 Cost: 108.073265\n",
            "Epoch:    0/20 Batch: 7/13 Cost: 55.210655\n",
            "Epoch:    0/20 Batch: 8/13 Cost: 20.286850\n",
            "Epoch:    0/20 Batch: 9/13 Cost: 153.164841\n",
            "Epoch:    0/20 Batch: 10/13 Cost: 44.974277\n",
            "Epoch:    0/20 Batch: 11/13 Cost: 33.838169\n",
            "Epoch:    0/20 Batch: 12/13 Cost: 2.966383\n",
            "Epoch:    0/20 Batch: 13/13 Cost: 9.104765\n",
            "Epoch:    1/20 Batch: 1/13 Cost: 5.657867\n",
            "Epoch:    1/20 Batch: 2/13 Cost: 14.449411\n",
            "Epoch:    1/20 Batch: 3/13 Cost: 13.327970\n",
            "Epoch:    1/20 Batch: 4/13 Cost: 1.030128\n",
            "Epoch:    1/20 Batch: 5/13 Cost: 70.678886\n",
            "Epoch:    1/20 Batch: 6/13 Cost: 5.688546\n",
            "Epoch:    1/20 Batch: 7/13 Cost: 1.989340\n",
            "Epoch:    1/20 Batch: 8/13 Cost: 5.499257\n",
            "Epoch:    1/20 Batch: 9/13 Cost: 2.556114\n",
            "Epoch:    1/20 Batch: 10/13 Cost: 39.214111\n",
            "Epoch:    1/20 Batch: 11/13 Cost: 18.371281\n",
            "Epoch:    1/20 Batch: 12/13 Cost: 14.754132\n",
            "Epoch:    1/20 Batch: 13/13 Cost: 73.396515\n",
            "Epoch:    2/20 Batch: 1/13 Cost: 5.522341\n",
            "Epoch:    2/20 Batch: 2/13 Cost: 6.489777\n",
            "Epoch:    2/20 Batch: 3/13 Cost: 57.670033\n",
            "Epoch:    2/20 Batch: 4/13 Cost: 9.646425\n",
            "Epoch:    2/20 Batch: 5/13 Cost: 3.012324\n",
            "Epoch:    2/20 Batch: 6/13 Cost: 6.645253\n",
            "Epoch:    2/20 Batch: 7/13 Cost: 7.853413\n",
            "Epoch:    2/20 Batch: 8/13 Cost: 11.994502\n",
            "Epoch:    2/20 Batch: 9/13 Cost: 17.378016\n",
            "Epoch:    2/20 Batch: 10/13 Cost: 0.536909\n",
            "Epoch:    2/20 Batch: 11/13 Cost: 34.277584\n",
            "Epoch:    2/20 Batch: 12/13 Cost: 41.668545\n",
            "Epoch:    2/20 Batch: 13/13 Cost: 36.564327\n",
            "Epoch:    3/20 Batch: 1/13 Cost: 8.416632\n",
            "Epoch:    3/20 Batch: 2/13 Cost: 3.125191\n",
            "Epoch:    3/20 Batch: 3/13 Cost: 78.677315\n",
            "Epoch:    3/20 Batch: 4/13 Cost: 8.937051\n",
            "Epoch:    3/20 Batch: 5/13 Cost: 22.894962\n",
            "Epoch:    3/20 Batch: 6/13 Cost: 12.128476\n",
            "Epoch:    3/20 Batch: 7/13 Cost: 19.064268\n",
            "Epoch:    3/20 Batch: 8/13 Cost: 1.349031\n",
            "Epoch:    3/20 Batch: 9/13 Cost: 7.786455\n",
            "Epoch:    3/20 Batch: 10/13 Cost: 2.475576\n",
            "Epoch:    3/20 Batch: 11/13 Cost: 31.779486\n",
            "Epoch:    3/20 Batch: 12/13 Cost: 21.470009\n",
            "Epoch:    3/20 Batch: 13/13 Cost: 0.654712\n",
            "Epoch:    4/20 Batch: 1/13 Cost: 0.468090\n",
            "Epoch:    4/20 Batch: 2/13 Cost: 0.825898\n",
            "Epoch:    4/20 Batch: 3/13 Cost: 9.019652\n",
            "Epoch:    4/20 Batch: 4/13 Cost: 7.190151\n",
            "Epoch:    4/20 Batch: 5/13 Cost: 0.058374\n",
            "Epoch:    4/20 Batch: 6/13 Cost: 45.990082\n",
            "Epoch:    4/20 Batch: 7/13 Cost: 2.739819\n",
            "Epoch:    4/20 Batch: 8/13 Cost: 37.947014\n",
            "Epoch:    4/20 Batch: 9/13 Cost: 52.930031\n",
            "Epoch:    4/20 Batch: 10/13 Cost: 4.997217\n",
            "Epoch:    4/20 Batch: 11/13 Cost: 20.981022\n",
            "Epoch:    4/20 Batch: 12/13 Cost: 24.858080\n",
            "Epoch:    4/20 Batch: 13/13 Cost: 3.770954\n",
            "Epoch:    5/20 Batch: 1/13 Cost: 9.810114\n",
            "Epoch:    5/20 Batch: 2/13 Cost: 11.383488\n",
            "Epoch:    5/20 Batch: 3/13 Cost: 82.855392\n",
            "Epoch:    5/20 Batch: 4/13 Cost: 14.009215\n",
            "Epoch:    5/20 Batch: 5/13 Cost: 1.956751\n",
            "Epoch:    5/20 Batch: 6/13 Cost: 5.788834\n",
            "Epoch:    5/20 Batch: 7/13 Cost: 3.588967\n",
            "Epoch:    5/20 Batch: 8/13 Cost: 40.122402\n",
            "Epoch:    5/20 Batch: 9/13 Cost: 1.483733\n",
            "Epoch:    5/20 Batch: 10/13 Cost: 34.226364\n",
            "Epoch:    5/20 Batch: 11/13 Cost: 27.434349\n",
            "Epoch:    5/20 Batch: 12/13 Cost: 5.531680\n",
            "Epoch:    5/20 Batch: 13/13 Cost: 1.285754\n",
            "Epoch:    6/20 Batch: 1/13 Cost: 11.367243\n",
            "Epoch:    6/20 Batch: 2/13 Cost: 1.439139\n",
            "Epoch:    6/20 Batch: 3/13 Cost: 12.452481\n",
            "Epoch:    6/20 Batch: 4/13 Cost: 49.970184\n",
            "Epoch:    6/20 Batch: 5/13 Cost: 5.679448\n",
            "Epoch:    6/20 Batch: 6/13 Cost: 22.239899\n",
            "Epoch:    6/20 Batch: 7/13 Cost: 16.370672\n",
            "Epoch:    6/20 Batch: 8/13 Cost: 1.460754\n",
            "Epoch:    6/20 Batch: 9/13 Cost: 15.905049\n",
            "Epoch:    6/20 Batch: 10/13 Cost: 5.155354\n",
            "Epoch:    6/20 Batch: 11/13 Cost: 35.985310\n",
            "Epoch:    6/20 Batch: 12/13 Cost: 5.566199\n",
            "Epoch:    6/20 Batch: 13/13 Cost: 61.860592\n",
            "Epoch:    7/20 Batch: 1/13 Cost: 3.953524\n",
            "Epoch:    7/20 Batch: 2/13 Cost: 1.222058\n",
            "Epoch:    7/20 Batch: 3/13 Cost: 6.315355\n",
            "Epoch:    7/20 Batch: 4/13 Cost: 44.534500\n",
            "Epoch:    7/20 Batch: 5/13 Cost: 31.330759\n",
            "Epoch:    7/20 Batch: 6/13 Cost: 14.782648\n",
            "Epoch:    7/20 Batch: 7/13 Cost: 0.349734\n",
            "Epoch:    7/20 Batch: 8/13 Cost: 4.518447\n",
            "Epoch:    7/20 Batch: 9/13 Cost: 20.050917\n",
            "Epoch:    7/20 Batch: 10/13 Cost: 37.645973\n",
            "Epoch:    7/20 Batch: 11/13 Cost: 15.104013\n",
            "Epoch:    7/20 Batch: 12/13 Cost: 32.985950\n",
            "Epoch:    7/20 Batch: 13/13 Cost: 1.242693\n",
            "Epoch:    8/20 Batch: 1/13 Cost: 9.445761\n",
            "Epoch:    8/20 Batch: 2/13 Cost: 8.338514\n",
            "Epoch:    8/20 Batch: 3/13 Cost: 5.126348\n",
            "Epoch:    8/20 Batch: 4/13 Cost: 62.338440\n",
            "Epoch:    8/20 Batch: 5/13 Cost: 3.361256\n",
            "Epoch:    8/20 Batch: 6/13 Cost: 10.491543\n",
            "Epoch:    8/20 Batch: 7/13 Cost: 11.229157\n",
            "Epoch:    8/20 Batch: 8/13 Cost: 40.036648\n",
            "Epoch:    8/20 Batch: 9/13 Cost: 21.035082\n",
            "Epoch:    8/20 Batch: 10/13 Cost: 29.964872\n",
            "Epoch:    8/20 Batch: 11/13 Cost: 4.436197\n",
            "Epoch:    8/20 Batch: 12/13 Cost: 17.488077\n",
            "Epoch:    8/20 Batch: 13/13 Cost: 1.890835\n",
            "Epoch:    9/20 Batch: 1/13 Cost: 3.069045\n",
            "Epoch:    9/20 Batch: 2/13 Cost: 2.435043\n",
            "Epoch:    9/20 Batch: 3/13 Cost: 0.994797\n",
            "Epoch:    9/20 Batch: 4/13 Cost: 18.614820\n",
            "Epoch:    9/20 Batch: 5/13 Cost: 0.160724\n",
            "Epoch:    9/20 Batch: 6/13 Cost: 0.636255\n",
            "Epoch:    9/20 Batch: 7/13 Cost: 12.242855\n",
            "Epoch:    9/20 Batch: 8/13 Cost: 32.350430\n",
            "Epoch:    9/20 Batch: 9/13 Cost: 40.812725\n",
            "Epoch:    9/20 Batch: 10/13 Cost: 55.541973\n",
            "Epoch:    9/20 Batch: 11/13 Cost: 35.460495\n",
            "Epoch:    9/20 Batch: 12/13 Cost: 2.616597\n",
            "Epoch:    9/20 Batch: 13/13 Cost: 6.377521\n",
            "Epoch:   10/20 Batch: 1/13 Cost: 1.105826\n",
            "Epoch:   10/20 Batch: 2/13 Cost: 7.126773\n",
            "Epoch:   10/20 Batch: 3/13 Cost: 41.840168\n",
            "Epoch:   10/20 Batch: 4/13 Cost: 0.406488\n",
            "Epoch:   10/20 Batch: 5/13 Cost: 0.756646\n",
            "Epoch:   10/20 Batch: 6/13 Cost: 4.235847\n",
            "Epoch:   10/20 Batch: 7/13 Cost: 6.528835\n",
            "Epoch:   10/20 Batch: 8/13 Cost: 72.413918\n",
            "Epoch:   10/20 Batch: 9/13 Cost: 36.243999\n",
            "Epoch:   10/20 Batch: 10/13 Cost: 1.261174\n",
            "Epoch:   10/20 Batch: 11/13 Cost: 7.435264\n",
            "Epoch:   10/20 Batch: 12/13 Cost: 9.502106\n",
            "Epoch:   10/20 Batch: 13/13 Cost: 0.745307\n",
            "Epoch:   11/20 Batch: 1/13 Cost: 1.780607\n",
            "Epoch:   11/20 Batch: 2/13 Cost: 18.956882\n",
            "Epoch:   11/20 Batch: 3/13 Cost: 0.946104\n",
            "Epoch:   11/20 Batch: 4/13 Cost: 1.188794\n",
            "Epoch:   11/20 Batch: 5/13 Cost: 62.797058\n",
            "Epoch:   11/20 Batch: 6/13 Cost: 7.771490\n",
            "Epoch:   11/20 Batch: 7/13 Cost: 12.533489\n",
            "Epoch:   11/20 Batch: 8/13 Cost: 60.021679\n",
            "Epoch:   11/20 Batch: 9/13 Cost: 28.028517\n",
            "Epoch:   11/20 Batch: 10/13 Cost: 0.564577\n",
            "Epoch:   11/20 Batch: 11/13 Cost: 9.984136\n",
            "Epoch:   11/20 Batch: 12/13 Cost: 11.283569\n",
            "Epoch:   11/20 Batch: 13/13 Cost: 17.968590\n",
            "Epoch:   12/20 Batch: 1/13 Cost: 0.411786\n",
            "Epoch:   12/20 Batch: 2/13 Cost: 42.097275\n",
            "Epoch:   12/20 Batch: 3/13 Cost: 6.696062\n",
            "Epoch:   12/20 Batch: 4/13 Cost: 2.564405\n",
            "Epoch:   12/20 Batch: 5/13 Cost: 1.727297\n",
            "Epoch:   12/20 Batch: 6/13 Cost: 15.618404\n",
            "Epoch:   12/20 Batch: 7/13 Cost: 2.601568\n",
            "Epoch:   12/20 Batch: 8/13 Cost: 13.854643\n",
            "Epoch:   12/20 Batch: 9/13 Cost: 54.331787\n",
            "Epoch:   12/20 Batch: 10/13 Cost: 15.361194\n",
            "Epoch:   12/20 Batch: 11/13 Cost: 13.421068\n",
            "Epoch:   12/20 Batch: 12/13 Cost: 23.879623\n",
            "Epoch:   12/20 Batch: 13/13 Cost: 1.720094\n",
            "Epoch:   13/20 Batch: 1/13 Cost: 11.982507\n",
            "Epoch:   13/20 Batch: 2/13 Cost: 4.995202\n",
            "Epoch:   13/20 Batch: 3/13 Cost: 16.781244\n",
            "Epoch:   13/20 Batch: 4/13 Cost: 10.059954\n",
            "Epoch:   13/20 Batch: 5/13 Cost: 12.492863\n",
            "Epoch:   13/20 Batch: 6/13 Cost: 8.947707\n",
            "Epoch:   13/20 Batch: 7/13 Cost: 78.375488\n",
            "Epoch:   13/20 Batch: 8/13 Cost: 4.565529\n",
            "Epoch:   13/20 Batch: 9/13 Cost: 5.954859\n",
            "Epoch:   13/20 Batch: 10/13 Cost: 1.920529\n",
            "Epoch:   13/20 Batch: 11/13 Cost: 33.206715\n",
            "Epoch:   13/20 Batch: 12/13 Cost: 22.175188\n",
            "Epoch:   13/20 Batch: 13/13 Cost: 9.873496\n",
            "Epoch:   14/20 Batch: 1/13 Cost: 17.324265\n",
            "Epoch:   14/20 Batch: 2/13 Cost: 31.032475\n",
            "Epoch:   14/20 Batch: 3/13 Cost: 53.736259\n",
            "Epoch:   14/20 Batch: 4/13 Cost: 1.536086\n",
            "Epoch:   14/20 Batch: 5/13 Cost: 9.485048\n",
            "Epoch:   14/20 Batch: 6/13 Cost: 12.557672\n",
            "Epoch:   14/20 Batch: 7/13 Cost: 0.273992\n",
            "Epoch:   14/20 Batch: 8/13 Cost: 35.066418\n",
            "Epoch:   14/20 Batch: 9/13 Cost: 2.969723\n",
            "Epoch:   14/20 Batch: 10/13 Cost: 6.847043\n",
            "Epoch:   14/20 Batch: 11/13 Cost: 10.944649\n",
            "Epoch:   14/20 Batch: 12/13 Cost: 7.337330\n",
            "Epoch:   14/20 Batch: 13/13 Cost: 22.828554\n",
            "Epoch:   15/20 Batch: 1/13 Cost: 8.142284\n",
            "Epoch:   15/20 Batch: 2/13 Cost: 29.843632\n",
            "Epoch:   15/20 Batch: 3/13 Cost: 0.850261\n",
            "Epoch:   15/20 Batch: 4/13 Cost: 3.199560\n",
            "Epoch:   15/20 Batch: 5/13 Cost: 0.091962\n",
            "Epoch:   15/20 Batch: 6/13 Cost: 32.883480\n",
            "Epoch:   15/20 Batch: 7/13 Cost: 24.958958\n",
            "Epoch:   15/20 Batch: 8/13 Cost: 21.651377\n",
            "Epoch:   15/20 Batch: 9/13 Cost: 46.800926\n",
            "Epoch:   15/20 Batch: 10/13 Cost: 18.025148\n",
            "Epoch:   15/20 Batch: 11/13 Cost: 12.735977\n",
            "Epoch:   15/20 Batch: 12/13 Cost: 1.407979\n",
            "Epoch:   15/20 Batch: 13/13 Cost: 0.191754\n",
            "Epoch:   16/20 Batch: 1/13 Cost: 35.861961\n",
            "Epoch:   16/20 Batch: 2/13 Cost: 11.318115\n",
            "Epoch:   16/20 Batch: 3/13 Cost: 3.346968\n",
            "Epoch:   16/20 Batch: 4/13 Cost: 21.286997\n",
            "Epoch:   16/20 Batch: 5/13 Cost: 3.778607\n",
            "Epoch:   16/20 Batch: 6/13 Cost: 34.879181\n",
            "Epoch:   16/20 Batch: 7/13 Cost: 3.670467\n",
            "Epoch:   16/20 Batch: 8/13 Cost: 0.716155\n",
            "Epoch:   16/20 Batch: 9/13 Cost: 10.905983\n",
            "Epoch:   16/20 Batch: 10/13 Cost: 3.644043\n",
            "Epoch:   16/20 Batch: 11/13 Cost: 56.194157\n",
            "Epoch:   16/20 Batch: 12/13 Cost: 10.139152\n",
            "Epoch:   16/20 Batch: 13/13 Cost: 8.183532\n",
            "Epoch:   17/20 Batch: 1/13 Cost: 3.196788\n",
            "Epoch:   17/20 Batch: 2/13 Cost: 6.720562\n",
            "Epoch:   17/20 Batch: 3/13 Cost: 0.334078\n",
            "Epoch:   17/20 Batch: 4/13 Cost: 54.509796\n",
            "Epoch:   17/20 Batch: 5/13 Cost: 32.081879\n",
            "Epoch:   17/20 Batch: 6/13 Cost: 1.286764\n",
            "Epoch:   17/20 Batch: 7/13 Cost: 57.142403\n",
            "Epoch:   17/20 Batch: 8/13 Cost: 43.350883\n",
            "Epoch:   17/20 Batch: 9/13 Cost: 13.466019\n",
            "Epoch:   17/20 Batch: 10/13 Cost: 0.578205\n",
            "Epoch:   17/20 Batch: 11/13 Cost: 5.518217\n",
            "Epoch:   17/20 Batch: 12/13 Cost: 3.499698\n",
            "Epoch:   17/20 Batch: 13/13 Cost: 3.220759\n",
            "Epoch:   18/20 Batch: 1/13 Cost: 64.849800\n",
            "Epoch:   18/20 Batch: 2/13 Cost: 2.572481\n",
            "Epoch:   18/20 Batch: 3/13 Cost: 6.700702\n",
            "Epoch:   18/20 Batch: 4/13 Cost: 8.158056\n",
            "Epoch:   18/20 Batch: 5/13 Cost: 1.325810\n",
            "Epoch:   18/20 Batch: 6/13 Cost: 36.973343\n",
            "Epoch:   18/20 Batch: 7/13 Cost: 20.298670\n",
            "Epoch:   18/20 Batch: 8/13 Cost: 4.325081\n",
            "Epoch:   18/20 Batch: 9/13 Cost: 55.945023\n",
            "Epoch:   18/20 Batch: 10/13 Cost: 19.352037\n",
            "Epoch:   18/20 Batch: 11/13 Cost: 7.129601\n",
            "Epoch:   18/20 Batch: 12/13 Cost: 1.433969\n",
            "Epoch:   18/20 Batch: 13/13 Cost: 4.682572\n",
            "Epoch:   19/20 Batch: 1/13 Cost: 1.415833\n",
            "Epoch:   19/20 Batch: 2/13 Cost: 12.099223\n",
            "Epoch:   19/20 Batch: 3/13 Cost: 0.057125\n",
            "Epoch:   19/20 Batch: 4/13 Cost: 0.130151\n",
            "Epoch:   19/20 Batch: 5/13 Cost: 11.933593\n",
            "Epoch:   19/20 Batch: 6/13 Cost: 9.753919\n",
            "Epoch:   19/20 Batch: 7/13 Cost: 62.183643\n",
            "Epoch:   19/20 Batch: 8/13 Cost: 7.299441\n",
            "Epoch:   19/20 Batch: 9/13 Cost: 11.947948\n",
            "Epoch:   19/20 Batch: 10/13 Cost: 7.207748\n",
            "Epoch:   19/20 Batch: 11/13 Cost: 6.344985\n",
            "Epoch:   19/20 Batch: 12/13 Cost: 74.226143\n",
            "Epoch:   19/20 Batch: 13/13 Cost: 0.145752\n",
            "Epoch:   20/20 Batch: 1/13 Cost: 29.534309\n",
            "Epoch:   20/20 Batch: 2/13 Cost: 1.475418\n",
            "Epoch:   20/20 Batch: 3/13 Cost: 34.873547\n",
            "Epoch:   20/20 Batch: 4/13 Cost: 38.579395\n",
            "Epoch:   20/20 Batch: 5/13 Cost: 3.518910\n",
            "Epoch:   20/20 Batch: 6/13 Cost: 1.045042\n",
            "Epoch:   20/20 Batch: 7/13 Cost: 6.652141\n",
            "Epoch:   20/20 Batch: 8/13 Cost: 4.400175\n",
            "Epoch:   20/20 Batch: 9/13 Cost: 4.422467\n",
            "Epoch:   20/20 Batch: 10/13 Cost: 55.457520\n",
            "Epoch:   20/20 Batch: 11/13 Cost: 36.186409\n",
            "Epoch:   20/20 Batch: 12/13 Cost: 2.708297\n",
            "Epoch:   20/20 Batch: 13/13 Cost: 3.815293\n"
          ],
          "name": "stdout"
        }
      ]
    },
    {
      "cell_type": "code",
      "metadata": {
        "colab": {
          "base_uri": "https://localhost:8080/"
        },
        "id": "_yOoL0GaLZin",
        "outputId": "841369c2-7e12-4330-81a6-545a8e49b496"
      },
      "source": [
        "# Test\n",
        "new_var = torch.FloatTensor([[73, 80, 75]])   # 임의의 입력값\n",
        "pred_y = model(new_var)   # 임의의 입력값에 대한 예측값 y\n",
        "\n",
        "print(pred_y)"
      ],
      "execution_count": null,
      "outputs": [
        {
          "output_type": "stream",
          "text": [
            "tensor([[151.5106]], grad_fn=<AddmmBackward>)\n"
          ],
          "name": "stdout"
        }
      ]
    },
    {
      "cell_type": "markdown",
      "metadata": {
        "id": "grxrjjGh_rB2"
      },
      "source": [
        "## Hi-lv. implementation w/ nn.Module"
      ]
    },
    {
      "cell_type": "code",
      "metadata": {
        "id": "b7B6-VJ__jV-"
      },
      "source": [
        "class MultivariateLinearRegressionModel(nn.Module):\n",
        "  def __init__(self):\n",
        "    super().__init__()\n",
        "    self.linear = nn.Linear(3, 1)\n",
        "\n",
        "  def forward(self, x):\n",
        "    return self.linear(x)"
      ],
      "execution_count": null,
      "outputs": []
    },
    {
      "cell_type": "code",
      "metadata": {
        "colab": {
          "base_uri": "https://localhost:8080/"
        },
        "id": "itkGz2u-__2r",
        "outputId": "aa6da02c-5924-4178-fddc-7b9a009d28c2"
      },
      "source": [
        "# data loading\n",
        "x_train = torch.FloatTensor(x_data)\n",
        "y_train = torch.FloatTensor(y_data)\n",
        "\n",
        "# initialize model\n",
        "model = MultivariateLinearRegressionModel()\n",
        "\n",
        "# set opt\n",
        "optimizer = optim.SGD(model.parameters(), lr=1e-5)\n",
        "\n",
        "nb_epochs = 20\n",
        "for epoch in range(nb_epochs + 1):\n",
        "  \n",
        "  # H(x) 계산\n",
        "  prediction = model(x_train)\n",
        "\n",
        "  # cost 계산\n",
        "  cost = F.mse_loss(prediction, y_train)\n",
        "\n",
        "  # cost로 H(x) 개선\n",
        "  optimizer.zero_grad()\n",
        "  cost.backward()\n",
        "  optimizer.step()\n",
        "\n",
        "  print('Epoch: {:4d}/{} Cost: {:.6f}'.format(\n",
        "      epoch, nb_epochs, cost.item()\n",
        "  ))"
      ],
      "execution_count": null,
      "outputs": [
        {
          "output_type": "stream",
          "text": [
            "Epoch:    0/20 Cost: 18751.404297\n",
            "Epoch:    1/20 Cost: 6945.343262\n",
            "Epoch:    2/20 Cost: 2580.307861\n",
            "Epoch:    3/20 Cost: 966.426697\n",
            "Epoch:    4/20 Cost: 369.723907\n",
            "Epoch:    5/20 Cost: 149.099976\n",
            "Epoch:    6/20 Cost: 67.522499\n",
            "Epoch:    7/20 Cost: 37.354561\n",
            "Epoch:    8/20 Cost: 26.194042\n",
            "Epoch:    9/20 Cost: 22.061132\n",
            "Epoch:   10/20 Cost: 20.526497\n",
            "Epoch:   11/20 Cost: 19.952566\n",
            "Epoch:   12/20 Cost: 19.733818\n",
            "Epoch:   13/20 Cost: 19.646399\n",
            "Epoch:   14/20 Cost: 19.607527\n",
            "Epoch:   15/20 Cost: 19.586645\n",
            "Epoch:   16/20 Cost: 19.572403\n",
            "Epoch:   17/20 Cost: 19.560575\n",
            "Epoch:   18/20 Cost: 19.549700\n",
            "Epoch:   19/20 Cost: 19.539173\n",
            "Epoch:   20/20 Cost: 19.528784\n"
          ],
          "name": "stdout"
        }
      ]
    },
    {
      "cell_type": "code",
      "metadata": {
        "id": "G-z8fRUUArXF"
      },
      "source": [
        ""
      ],
      "execution_count": null,
      "outputs": []
    }
  ]
}
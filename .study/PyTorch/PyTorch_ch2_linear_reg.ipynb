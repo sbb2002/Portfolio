{
  "nbformat": 4,
  "nbformat_minor": 0,
  "metadata": {
    "colab": {
      "name": "PyTorch_ch2_linear_reg.ipynb",
      "provenance": [],
      "collapsed_sections": [],
      "authorship_tag": "ABX9TyNOR0lkpfjUu8/vjAGTckAo",
      "include_colab_link": true
    },
    "kernelspec": {
      "name": "python3",
      "display_name": "Python 3"
    },
    "language_info": {
      "name": "python"
    }
  },
  "cells": [
    {
      "cell_type": "markdown",
      "metadata": {
        "id": "view-in-github",
        "colab_type": "text"
      },
      "source": [
        "<a href=\"https://colab.research.google.com/github/sbb2002/Portfolio/blob/main/.study/PyTorch/PyTorch_ch2_linear_reg.ipynb\" target=\"_parent\"><img src=\"https://colab.research.google.com/assets/colab-badge.svg\" alt=\"Open In Colab\"/></a>"
      ]
    },
    {
      "cell_type": "code",
      "metadata": {
        "id": "5evMa8HtSpmB"
      },
      "source": [
        "import torch\n",
        "import torch.nn as nn\n",
        "import torch.nn.functional as F\n",
        "import torch.optim as optim"
      ],
      "execution_count": null,
      "outputs": []
    },
    {
      "cell_type": "code",
      "metadata": {
        "colab": {
          "base_uri": "https://localhost:8080/"
        },
        "id": "g7KTfND1TOeP",
        "outputId": "e836431e-dba1-418d-8ff5-289a4ec393cc"
      },
      "source": [
        "# For reproducibility\n",
        "torch.manual_seed(1)"
      ],
      "execution_count": null,
      "outputs": [
        {
          "output_type": "execute_result",
          "data": {
            "text/plain": [
              "<torch._C.Generator at 0x7f3555631950>"
            ]
          },
          "metadata": {
            "tags": []
          },
          "execution_count": 2
        }
      ]
    },
    {
      "cell_type": "markdown",
      "metadata": {
        "id": "b_sLidP0eZzW"
      },
      "source": [
        "|x|y|\n",
        "|-|-|\n",
        "|1|2|\n",
        "|2|4|\n",
        "|3|6|\n",
        "\n",
        "이것을 예시로 x_train으로 사용해봅시다."
      ]
    },
    {
      "cell_type": "markdown",
      "metadata": {
        "id": "9WjxKVMoaoq2"
      },
      "source": [
        "# General hypo."
      ]
    },
    {
      "cell_type": "code",
      "metadata": {
        "colab": {
          "base_uri": "https://localhost:8080/"
        },
        "id": "65PVFzamTVO_",
        "outputId": "2908c861-15c2-4e09-e28c-78b46a319163"
      },
      "source": [
        "# Dataset\n",
        "x_train = torch.FloatTensor([[1], [2], [3]])\n",
        "y_train = torch.FloatTensor([[2], [4], [6]])\n",
        "\n",
        "# Model initialize\n",
        "W = torch.zeros(1, requires_grad=True)\n",
        "b = torch.zeros(1, requires_grad=True)\n",
        "\n",
        "# Optimizer\n",
        "optimizer = optim.SGD([W, b], lr=0.01)\n",
        "\n",
        "# Run\n",
        "nb_epochs = 1000\n",
        "for epoch in range(1, nb_epochs + 1):\n",
        "  hypothesis = x_train * W + b\n",
        "  # hypothesis = x_train.matmul(W) + b  # or .mm or @\n",
        "  '''\n",
        "  matmul()을 이용하면...\n",
        "  1. 더 간결하고\n",
        "  2. x의 길이가 바뀌어도 코드를 바꿀 필요가 없고\n",
        "  3. 속도도 더 빠르다!\n",
        "  '''\n",
        "  cost = torch.mean((hypothesis - y_train) ** 2)\n",
        "  \n",
        "  # cost로 H(x) 개선. (Always use this code.)\n",
        "  optimizer.zero_grad()   # grad. 초기화\n",
        "  cost.backward()         # grad. 계산\n",
        "  optimizer.step()        # 개선\n",
        "\n",
        "  if epoch % 100 == 0:\n",
        "    print('Epoch: {:4d}/{} \\: {:.3f}, b: {:.3f} Cost: {:.6f}'.format(epoch, nb_epochs, W.item(), b.item(), cost.item()))"
      ],
      "execution_count": null,
      "outputs": [
        {
          "output_type": "stream",
          "text": [
            "Epoch:  100/1000 \\: 1.745, b: 0.579 Cost: 0.048403\n",
            "Epoch:  200/1000 \\: 1.800, b: 0.456 Cost: 0.029910\n",
            "Epoch:  300/1000 \\: 1.842, b: 0.358 Cost: 0.018483\n",
            "Epoch:  400/1000 \\: 1.876, b: 0.281 Cost: 0.011421\n",
            "Epoch:  500/1000 \\: 1.903, b: 0.221 Cost: 0.007058\n",
            "Epoch:  600/1000 \\: 1.923, b: 0.174 Cost: 0.004361\n",
            "Epoch:  700/1000 \\: 1.940, b: 0.137 Cost: 0.002695\n",
            "Epoch:  800/1000 \\: 1.953, b: 0.107 Cost: 0.001665\n",
            "Epoch:  900/1000 \\: 1.963, b: 0.084 Cost: 0.001029\n",
            "Epoch: 1000/1000 \\: 1.971, b: 0.066 Cost: 0.000636\n"
          ],
          "name": "stdout"
        }
      ]
    },
    {
      "cell_type": "code",
      "metadata": {
        "id": "TXB9BltqguWT"
      },
      "source": [
        "prediction = W * x_train + b\n",
        "prediction = list(prediction)"
      ],
      "execution_count": null,
      "outputs": []
    },
    {
      "cell_type": "code",
      "metadata": {
        "colab": {
          "base_uri": "https://localhost:8080/",
          "height": 336
        },
        "id": "V6QSnHacfza9",
        "outputId": "76513e22-82a8-40ca-c9a9-d39493be2ec4"
      },
      "source": [
        "import matplotlib.pyplot as plt\n",
        "\n",
        "plt.plot(x_train, y_train, marker='o', linestyle='--')    # x-y graph 1개 추가, 'o'(점 표시), '--'(점선)\n",
        "plt.plot(x_train, prediction, marker='*') # x-y graph 1개 추가, '8'(별 표시)\n",
        "plt.xlabel('x_train')\n",
        "plt.ylabel('y')\n",
        "plt.legend(['y_train', 'prediction'])\n",
        "plt.show()\n",
        "\n",
        "print('당연하게도 이 쉬운 예시용 데이터는 기울기(W)는 2, y절편(b)은 0입니다.\\n \\\n",
        "모델은 완전하게 W와 b를 맞추지는 못하지만 아주 근사한 값을 얻어냅니다. \\\n",
        "epoch가 많을 수록 더 정확해집니다.')"
      ],
      "execution_count": null,
      "outputs": [
        {
          "output_type": "display_data",
          "data": {
            "image/png": "[encoded data removed]",
            "text/plain": [
              "<Figure size 432x288 with 1 Axes>"
            ]
          },
          "metadata": {
            "tags": [],
            "needs_background": "light"
          }
        },
        {
          "output_type": "stream",
          "text": [
            "당연하게도 이 쉬운 예시용 데이터는 기울기(W)는 2, y절편(b)은 0입니다.\n",
            " 모델은 완전하게 W와 b를 맞추지는 못하지만 아주 근사한 값을 얻어냅니다. epoch가 많을 수록 더 정확해집니다.\n"
          ],
          "name": "stdout"
        }
      ]
    },
    {
      "cell_type": "markdown",
      "metadata": {
        "id": "sO48Dd5jft-M"
      },
      "source": [
        "## Hi-lv. implementation w/ nn.Module"
      ]
    },
    {
      "cell_type": "markdown",
      "metadata": {
        "id": "aq4rNF0Va4Ds"
      },
      "source": [
        "위의 방식은 정론적인 방법이다. 한마디로 Low-lv. implementation이다. 이번에는 pytorch 내에 있는 기능을 이용해서 Hi-lv. implementation해보자. 여기서는 hypothesis를 따로 정의하지 않는다.\n",
        "\n",
        "class를 이용해 nn.Module을 inherit(상속)해서 사용한다."
      ]
    },
    {
      "cell_type": "code",
      "metadata": {
        "id": "cPyDRHCxbEoO"
      },
      "source": [
        "class LinearRegressionModel(nn.Module):\n",
        "  def __init__(self):\n",
        "    super().__init__()\n",
        "    self.linear = nn.Linear(1, 1)\n",
        "\n",
        "  def forward(self, x):\n",
        "    return self.linear(x)"
      ],
      "execution_count": null,
      "outputs": []
    },
    {
      "cell_type": "code",
      "metadata": {
        "colab": {
          "base_uri": "https://localhost:8080/"
        },
        "id": "Guq1sZOpaOzY",
        "outputId": "33b83686-b06c-4230-ba5a-889d5b7c0933"
      },
      "source": [
        "# Dataset\n",
        "x_train = torch.FloatTensor([[1], [2], [3]])\n",
        "y_train = torch.FloatTensor([[2], [4], [6]])\n",
        "\n",
        "# Model initialize\n",
        "model = LinearRegressionModel()\n",
        "\n",
        "# Optimizer\n",
        "optimizer = optim.SGD(model.parameters(), lr=0.01)\n",
        "\n",
        "# Run\n",
        "nb_epochs = 1000\n",
        "for epoch in range(1, nb_epochs + 1):\n",
        "  prediction = model(x_train)\n",
        "  cost = F.mse_loss(prediction, y_train)\n",
        "  \n",
        "  # cost로 H(x) 개선. (Always use this code.)\n",
        "  optimizer.zero_grad()   # grad. 초기화\n",
        "  cost.backward()         # grad. 계산\n",
        "  optimizer.step()        # 개선\n",
        "\n",
        "  if epoch % 100 == 0:\n",
        "    params = list(model.parameters())\n",
        "    W = params[0].item()\n",
        "    b = params[1].item()\n",
        "    print('Epoch: {:4d}/{} \\: {:.3f}, b: {:.3f} Cost: {:.6f}'.format(epoch, nb_epochs, W, b, cost.item()))"
      ],
      "execution_count": null,
      "outputs": [
        {
          "output_type": "stream",
          "text": [
            "Epoch:  100/1000 \\: 1.584, b: 0.945 Cost: 0.128669\n",
            "Epoch:  200/1000 \\: 1.673, b: 0.743 Cost: 0.079509\n",
            "Epoch:  300/1000 \\: 1.743, b: 0.584 Cost: 0.049132\n",
            "Epoch:  400/1000 \\: 1.798, b: 0.459 Cost: 0.030361\n",
            "Epoch:  500/1000 \\: 1.841, b: 0.361 Cost: 0.018761\n",
            "Epoch:  600/1000 \\: 1.875, b: 0.284 Cost: 0.011593\n",
            "Epoch:  700/1000 \\: 1.902, b: 0.223 Cost: 0.007164\n",
            "Epoch:  800/1000 \\: 1.923, b: 0.175 Cost: 0.004427\n",
            "Epoch:  900/1000 \\: 1.939, b: 0.138 Cost: 0.002736\n",
            "Epoch: 1000/1000 \\: 1.952, b: 0.108 Cost: 0.001690\n"
          ],
          "name": "stdout"
        }
      ]
    },
    {
      "cell_type": "markdown",
      "metadata": {
        "id": "ITtRYru0eRpP"
      },
      "source": [
        "# Multivariable linear regression"
      ]
    },
    {
      "cell_type": "markdown",
      "metadata": {
        "id": "BUWKdo9Encz0"
      },
      "source": [
        "|국어($x_1$)|영어($x_2$)|수학($x_3$)|표준 총점($y$)|\n",
        "|-|-|-|-|\n",
        "|73|80|75|152|\n",
        "|93|88|93|185|\n",
        "|-|-|-|-|\n",
        "|-|-|-|-|\n",
        "\n",
        "변수가 3개가 있는 입력데이터, 국영수 표준점수 성적표가 있다. 이것으로 W와 b를 얻어보자."
      ]
    },
    {
      "cell_type": "code",
      "metadata": {
        "id": "eOticpp_cX7U"
      },
      "source": [
        "# 데이터\n",
        "x1_train = torch.FloatTensor([[73], [93], [89], [96], [73]])\n",
        "x2_train = torch.FloatTensor([[80], [88], [91], [98], [66]])\n",
        "x3_train = torch.FloatTensor([[75], [93], [90], [100], [70]])\n",
        "y_train = torch.FloatTensor([[152], [185], [180], [196], [142]])"
      ],
      "execution_count": null,
      "outputs": []
    },
    {
      "cell_type": "markdown",
      "metadata": {
        "id": "zrSwMg99wTuE"
      },
      "source": [
        "## Naive data representation"
      ]
    },
    {
      "cell_type": "code",
      "metadata": {
        "colab": {
          "base_uri": "https://localhost:8080/"
        },
        "id": "5yjfDAvCoQcS",
        "outputId": "cc8b6c84-7017-4ca2-cdc8-cf3330ac5e81"
      },
      "source": [
        "# model initialize\n",
        "w1 = torch.zeros(1, requires_grad=True)\n",
        "w2 = torch.zeros(1, requires_grad=True)\n",
        "w3 = torch.zeros(1, requires_grad=True)\n",
        "b = torch.zeros(1, requires_grad=True)\n",
        "\n",
        "# set the optimizer\n",
        "optimizer = optim.SGD([w1, w2, w3, b], lr=1e-5)\n",
        "\n",
        "nb_epochs = 1000\n",
        "for epoch in range(nb_epochs + 1):\n",
        "  hypothesis = x1_train * w1 + x2_train * w2 + x3_train * w3 + b\n",
        "  cost = torch.mean((hypothesis - y_train) ** 2)\n",
        "\n",
        "  optimizer.zero_grad()\n",
        "  cost.backward()\n",
        "  optimizer.step()\n",
        "\n",
        "  if epoch % 100 == 0:\n",
        "    print('Epoch: {:4d}/{} w1: {:.3f} w2: {:.3f} w3: {:.3f} b: {:.3f} Cost: {:.6f}'.format(\n",
        "        epoch, nb_epochs, w1.item(), w2.item(), w3.item(), b.item(), cost.item()))"
      ],
      "execution_count": null,
      "outputs": [
        {
          "output_type": "stream",
          "text": [
            "Epoch:    0/1000 w1: 0.294 w2: 0.294 w3: 0.297 b: 0.003 Cost: 29661.800781\n",
            "Epoch:  100/1000 w1: 0.674 w2: 0.661 w3: 0.676 b: 0.008 Cost: 1.563628\n",
            "Epoch:  200/1000 w1: 0.679 w2: 0.655 w3: 0.677 b: 0.008 Cost: 1.497595\n",
            "Epoch:  300/1000 w1: 0.684 w2: 0.649 w3: 0.677 b: 0.008 Cost: 1.435044\n",
            "Epoch:  400/1000 w1: 0.689 w2: 0.643 w3: 0.678 b: 0.008 Cost: 1.375726\n",
            "Epoch:  500/1000 w1: 0.694 w2: 0.638 w3: 0.678 b: 0.009 Cost: 1.319507\n",
            "Epoch:  600/1000 w1: 0.699 w2: 0.633 w3: 0.679 b: 0.009 Cost: 1.266222\n",
            "Epoch:  700/1000 w1: 0.704 w2: 0.627 w3: 0.679 b: 0.009 Cost: 1.215703\n",
            "Epoch:  800/1000 w1: 0.709 w2: 0.622 w3: 0.679 b: 0.009 Cost: 1.167810\n",
            "Epoch:  900/1000 w1: 0.713 w2: 0.617 w3: 0.680 b: 0.009 Cost: 1.122429\n",
            "Epoch: 1000/1000 w1: 0.718 w2: 0.613 w3: 0.680 b: 0.009 Cost: 1.079390\n"
          ],
          "name": "stdout"
        }
      ]
    },
    {
      "cell_type": "markdown",
      "metadata": {
        "id": "zTxFpvIDwW_n"
      },
      "source": [
        "## Matrix data representation"
      ]
    },
    {
      "cell_type": "code",
      "metadata": {
        "colab": {
          "base_uri": "https://localhost:8080/"
        },
        "id": "iwx5qyF4pUqQ",
        "outputId": "7cb952be-298c-4447-a1bf-3b3108baced7"
      },
      "source": [
        "x_train = torch.FloatTensor([[73, 80, 75],\n",
        "                             [93, 88, 93],\n",
        "                             [89, 91, 90],\n",
        "                             [96, 98, 100],\n",
        "                             [73, 66, 70]])\n",
        "y_train = torch.FloatTensor([[152], [185], [180], [196], [142]])\n",
        "\n",
        "# model initialize\n",
        "W = torch.zeros((3, 1), requires_grad=True)\n",
        "b = torch.zeros(1, requires_grad=True)\n",
        "\n",
        "# set opt\n",
        "optimizer = optim.SGD([W, b], lr=1e-5)\n",
        "\n",
        "nb_epochs = 20\n",
        "for epoch in range(nb_epochs + 1):\n",
        "  hypothesis = x_train.matmul(W) + b  # or .mm or @\n",
        "  cost = torch.mean((hypothesis - y_train) ** 2)\n",
        "\n",
        "  optimizer.zero_grad()\n",
        "  cost.backward()\n",
        "  optimizer.step()\n",
        "\n",
        "  print('Epoch: {:4d}/{} Hypothesis: {} Cost: {:.6f}'.format(\n",
        "      epoch, nb_epochs, hypothesis.squeeze().detach(), cost.item()\n",
        "  ))"
      ],
      "execution_count": null,
      "outputs": [
        {
          "output_type": "stream",
          "text": [
            "Epoch:    0/20 Hypothesis: tensor([0., 0., 0., 0., 0.]) Cost: 29661.800781\n",
            "Epoch:    1/20 Hypothesis: tensor([67.2578, 80.8397, 79.6523, 86.7394, 61.6605]) Cost: 9298.520508\n",
            "Epoch:    2/20 Hypothesis: tensor([104.9128, 126.0990, 124.2466, 135.3015,  96.1821]) Cost: 2915.712402\n",
            "Epoch:    3/20 Hypothesis: tensor([125.9942, 151.4381, 149.2133, 162.4896, 115.5097]) Cost: 915.040527\n",
            "Epoch:    4/20 Hypothesis: tensor([137.7967, 165.6247, 163.1911, 177.7112, 126.3307]) Cost: 287.936096\n",
            "Epoch:    5/20 Hypothesis: tensor([144.4044, 173.5674, 171.0168, 186.2332, 132.3891]) Cost: 91.371063\n",
            "Epoch:    6/20 Hypothesis: tensor([148.1035, 178.0143, 175.3980, 191.0042, 135.7812]) Cost: 29.758249\n",
            "Epoch:    7/20 Hypothesis: tensor([150.1744, 180.5042, 177.8509, 193.6753, 137.6805]) Cost: 10.445267\n",
            "Epoch:    8/20 Hypothesis: tensor([151.3336, 181.8983, 179.2240, 195.1707, 138.7440]) Cost: 4.391237\n",
            "Epoch:    9/20 Hypothesis: tensor([151.9824, 182.6789, 179.9928, 196.0079, 139.3396]) Cost: 2.493121\n",
            "Epoch:   10/20 Hypothesis: tensor([152.3454, 183.1161, 180.4231, 196.4765, 139.6732]) Cost: 1.897688\n",
            "Epoch:   11/20 Hypothesis: tensor([152.5485, 183.3609, 180.6640, 196.7389, 139.8602]) Cost: 1.710552\n",
            "Epoch:   12/20 Hypothesis: tensor([152.6620, 183.4982, 180.7988, 196.8857, 139.9651]) Cost: 1.651416\n",
            "Epoch:   13/20 Hypothesis: tensor([152.7253, 183.5752, 180.8742, 196.9678, 140.0240]) Cost: 1.632369\n",
            "Epoch:   14/20 Hypothesis: tensor([152.7606, 183.6184, 180.9164, 197.0138, 140.0571]) Cost: 1.625924\n",
            "Epoch:   15/20 Hypothesis: tensor([152.7802, 183.6427, 180.9399, 197.0395, 140.0759]) Cost: 1.623420\n",
            "Epoch:   16/20 Hypothesis: tensor([152.7909, 183.6565, 180.9530, 197.0538, 140.0865]) Cost: 1.622152\n",
            "Epoch:   17/20 Hypothesis: tensor([152.7968, 183.6643, 180.9603, 197.0618, 140.0927]) Cost: 1.621262\n",
            "Epoch:   18/20 Hypothesis: tensor([152.7999, 183.6688, 180.9644, 197.0661, 140.0963]) Cost: 1.620501\n",
            "Epoch:   19/20 Hypothesis: tensor([152.8014, 183.6715, 180.9665, 197.0686, 140.0985]) Cost: 1.619757\n",
            "Epoch:   20/20 Hypothesis: tensor([152.8020, 183.6731, 180.9677, 197.0699, 140.0999]) Cost: 1.619046\n"
          ],
          "name": "stdout"
        }
      ]
    },
    {
      "cell_type": "markdown",
      "metadata": {
        "id": "eOAq7AcsycPX"
      },
      "source": [
        "## Hi-lv. implementation w/ nn.Module"
      ]
    },
    {
      "cell_type": "markdown",
      "metadata": {
        "id": "1kw6YrFl1_FC"
      },
      "source": [
        "이제 눈치챘겠지만, Hi-lv에서는 W, b에 대해 정의할 필요가 없어지고, cost는 torch.nn.Functional을 이용한다."
      ]
    },
    {
      "cell_type": "code",
      "metadata": {
        "id": "Eg8pmpY2wfSy"
      },
      "source": [
        "class MultivariateLinearRegressionmodel(nn.Module):   # nn.Module에서 상속받음.\n",
        "  def __init__(self):\n",
        "    super().__init__()    # 부모에게 물려받은 것을 자식에서 사용하려면 무조건 super()를 사용해야함.\n",
        "    ''' \n",
        "    왜냐하면 부모의 __init__()이 자식의 __init__에 덮어쓰기(over_writing)되기 때문이다.\n",
        "    이를 방지하려면 super().__init__()을 통해 부모의 __init__()을 쓸 수 있게 된다.\n",
        "    '''\n",
        "    self.linear = nn.Linear(3, 1)   # 입력차원 3, 출력차원 1\n",
        "\n",
        "  def forward(self, x):   # hypothesis 계산을 해준다. gradient는 밑에 backward()에서 해준다.\n",
        "    return self.linear(x)"
      ],
      "execution_count": null,
      "outputs": []
    },
    {
      "cell_type": "code",
      "metadata": {
        "colab": {
          "base_uri": "https://localhost:8080/"
        },
        "id": "wPo_kHtV0UnX",
        "outputId": "dbc5c669-bc5b-425e-bc38-f624c82f0c06"
      },
      "source": [
        "# model initialize\n",
        "model = MultivariateLinearRegressionmodel()\n",
        "\n",
        "# set opt\n",
        "optimizer = optim.SGD(model.parameters(), lr=1e-5)\n",
        "\n",
        "nb_epochs = 20\n",
        "for epoch in range(nb_epochs + 1):\n",
        "  # H(x) calculate\n",
        "  prediction = model(x_train)\n",
        "\n",
        "  # cost calculate\n",
        "  cost = F.mse_loss(prediction, y_train)\n",
        "  # cost = torch.mean((hypothesis - y_train) ** 2)\n",
        "  '''\n",
        "  이 식은 동일하지만 F.mse_loss를 이용하면 다른 형태의 loss와 교체가 쉽고 디버깅하기도 쉽다.\n",
        "  ex. l1_loss, smooth_l1_loss 등...\n",
        "  '''\n",
        "\n",
        "  # enhance H(x) from cost\n",
        "  optimizer.zero_grad()\n",
        "  cost.backward()\n",
        "  optimizer.step()\n",
        "\n",
        "  print('Epoch: {:4d}/{} Cost: {:.6f}'.format(\n",
        "      epoch, nb_epochs, cost.item()\n",
        "  ))"
      ],
      "execution_count": null,
      "outputs": [
        {
          "output_type": "stream",
          "text": [
            "Epoch:    0/20 Cost: 39633.414062\n",
            "Epoch:    1/20 Cost: 12431.271484\n",
            "Epoch:    2/20 Cost: 3904.839111\n",
            "Epoch:    3/20 Cost: 1232.251465\n",
            "Epoch:    4/20 Cost: 394.532959\n",
            "Epoch:    5/20 Cost: 131.948334\n",
            "Epoch:    6/20 Cost: 49.637383\n",
            "Epoch:    7/20 Cost: 23.833122\n",
            "Epoch:    8/20 Cost: 15.740526\n",
            "Epoch:    9/20 Cost: 13.199554\n",
            "Epoch:   10/20 Cost: 12.398767\n",
            "Epoch:   11/20 Cost: 12.143410\n",
            "Epoch:   12/20 Cost: 12.059070\n",
            "Epoch:   13/20 Cost: 12.028246\n",
            "Epoch:   14/20 Cost: 12.014258\n",
            "Epoch:   15/20 Cost: 12.005583\n",
            "Epoch:   16/20 Cost: 11.998546\n",
            "Epoch:   17/20 Cost: 11.992002\n",
            "Epoch:   18/20 Cost: 11.985615\n",
            "Epoch:   19/20 Cost: 11.979303\n",
            "Epoch:   20/20 Cost: 11.972960\n"
          ],
          "name": "stdout"
        }
      ]
    },
    {
      "cell_type": "code",
      "metadata": {
        "id": "McsPdN6T1HXf"
      },
      "source": [
        ""
      ],
      "execution_count": null,
      "outputs": []
    }
  ]
}